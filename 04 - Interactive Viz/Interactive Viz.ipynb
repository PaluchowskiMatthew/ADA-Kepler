{
 "cells": [
  {
   "cell_type": "markdown",
   "metadata": {},
   "source": [
    "# Interactive Visualization"
   ]
  },
  {
   "cell_type": "code",
   "execution_count": 1,
   "metadata": {
    "collapsed": false
   },
   "outputs": [],
   "source": [
    "import folium\n",
    "\n",
    "# Normal stack of pandas, numpy, matplotlib and seaborn\n",
    "import pandas as pd\n",
    "import numpy as np\n",
    "import matplotlib.pyplot as plt\n",
    "import matplotlib.pylab as pylab\n",
    "import seaborn as sns\n",
    "\n",
    "# For handeling the web requests\n",
    "import requests\n",
    "from collections import defaultdict\n",
    "from pprint import *\n",
    "\n",
    "# Statistical test library\n",
    "import scipy.stats as stats\n",
    "from helpers import *\n",
    "\n",
    "# Output handling\n",
    "import warnings\n",
    "warnings.filterwarnings('ignore')\n",
    "\n",
    "%matplotlib inline"
   ]
  },
  {
   "cell_type": "markdown",
   "metadata": {},
   "source": [
    "Folium: https://github.com/python-visualization/folium\n",
    " \n",
    " Documentation:\n",
    " 1. https://folium.readthedocs.io/en/latest/\n",
    " 2. https://media.readthedocs.org/pdf/folium/latest/folium.pdf"
   ]
  },
  {
   "cell_type": "code",
   "execution_count": 2,
   "metadata": {
    "collapsed": false,
    "scrolled": true
   },
   "outputs": [
    {
     "data": {
      "text/html": [
       "<div style=\"width:100%;\"><div style=\"position:relative;width:100%;height:0;padding-bottom:60%;\"><iframe src=\"data:text/html;base64,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\" style=\"position:absolute;width:100%;height:100%;left:0;top:0;\"></iframe></div></div>"
      ],
      "text/plain": [
       "<folium.folium.Map at 0x7f7acc1195c0>"
      ]
     },
     "execution_count": 2,
     "metadata": {},
     "output_type": "execute_result"
    }
   ],
   "source": [
    "#Folium test\n",
    "map_osm = folium.Map(location=[46.8076878,7.1004592], zoom_start=10)\n",
    "map_osm"
   ]
  },
  {
   "cell_type": "markdown",
   "metadata": {},
   "source": [
    "# Data wrangling"
   ]
  },
  {
   "cell_type": "markdown",
   "metadata": {},
   "source": [
    "Data source (P3_GrantExport.csv)\n",
    "and description of the columns: http://p3.snf.ch/Pages/DataAndDocumentation.aspx"
   ]
  },
  {
   "cell_type": "code",
   "execution_count": 3,
   "metadata": {
    "collapsed": false
   },
   "outputs": [],
   "source": [
    "# Load the data we need. (Columns: Insti)\n",
    "columns = ['Institution', 'University','Approved Amount']\n",
    "p3 = pd.read_csv(\"P3_GrantExport.csv\", delimiter=';', usecols=columns, na_values=['data not included in P3', 'nan'])"
   ]
  },
  {
   "cell_type": "markdown",
   "metadata": {},
   "source": [
    "To be able to work with the data, we have to filter out the values where we have enough information.\n",
    "\n",
    "We start by filtering out the projects where we know at least the University or the institution related to the project"
   ]
  },
  {
   "cell_type": "code",
   "execution_count": 4,
   "metadata": {
    "collapsed": false
   },
   "outputs": [
    {
     "name": "stdout",
     "output_type": "stream",
     "text": [
      "Dropped from original: 2.3261267176288514\n",
      "(62481, 3)\n"
     ]
    }
   ],
   "source": [
    "missing__info = p3[p3[['Institution', 'University']].isnull().all(axis=1)].index\n",
    "has_info = p3.drop(missing__info, axis=0)\n",
    "\n",
    "print('Dropped from original:', get_dropped_perc(p3, has_info))\n",
    "print(has_info.shape)"
   ]
  },
  {
   "cell_type": "markdown",
   "metadata": {},
   "source": [
    "As we can see, this leaves out 2.33% of the original data."
   ]
  },
  {
   "cell_type": "code",
   "execution_count": 5,
   "metadata": {
    "collapsed": false
   },
   "outputs": [
    {
     "data": {
      "text/html": [
       "<div>\n",
       "<table border=\"1\" class=\"dataframe\">\n",
       "  <thead>\n",
       "    <tr style=\"text-align: right;\">\n",
       "      <th></th>\n",
       "      <th>Institution</th>\n",
       "      <th>University</th>\n",
       "      <th>Approved Amount</th>\n",
       "    </tr>\n",
       "  </thead>\n",
       "  <tbody>\n",
       "    <tr>\n",
       "      <th>0</th>\n",
       "      <td>NaN</td>\n",
       "      <td>Nicht zuteilbar - NA</td>\n",
       "      <td>11619.0</td>\n",
       "    </tr>\n",
       "    <tr>\n",
       "      <th>1</th>\n",
       "      <td>Faculté de Psychologie et des Sciences de l'Ed...</td>\n",
       "      <td>Université de Genève - GE</td>\n",
       "      <td>41022.0</td>\n",
       "    </tr>\n",
       "    <tr>\n",
       "      <th>2</th>\n",
       "      <td>Kommission für das Corpus philosophorum medii ...</td>\n",
       "      <td>NPO (Biblioth., Museen, Verwalt.) - NPO</td>\n",
       "      <td>79732.0</td>\n",
       "    </tr>\n",
       "    <tr>\n",
       "      <th>3</th>\n",
       "      <td>Abt. Handschriften und Alte Drucke Bibliothek ...</td>\n",
       "      <td>Universität Basel - BS</td>\n",
       "      <td>52627.0</td>\n",
       "    </tr>\n",
       "    <tr>\n",
       "      <th>4</th>\n",
       "      <td>Schweiz. Thesauruskommission</td>\n",
       "      <td>NPO (Biblioth., Museen, Verwalt.) - NPO</td>\n",
       "      <td>120042.0</td>\n",
       "    </tr>\n",
       "  </tbody>\n",
       "</table>\n",
       "</div>"
      ],
      "text/plain": [
       "                                         Institution  \\\n",
       "0                                                NaN   \n",
       "1  Faculté de Psychologie et des Sciences de l'Ed...   \n",
       "2  Kommission für das Corpus philosophorum medii ...   \n",
       "3  Abt. Handschriften und Alte Drucke Bibliothek ...   \n",
       "4                       Schweiz. Thesauruskommission   \n",
       "\n",
       "                                University  Approved Amount  \n",
       "0                     Nicht zuteilbar - NA          11619.0  \n",
       "1                Université de Genève - GE          41022.0  \n",
       "2  NPO (Biblioth., Museen, Verwalt.) - NPO          79732.0  \n",
       "3                   Universität Basel - BS          52627.0  \n",
       "4  NPO (Biblioth., Museen, Verwalt.) - NPO         120042.0  "
      ]
     },
     "execution_count": 5,
     "metadata": {},
     "output_type": "execute_result"
    }
   ],
   "source": [
    "grant_info =  has_info.copy()\n",
    "grant_info = grant_info[grant_info[['Approved Amount']].isnull().all(axis=1) == False]\n",
    "grants_data = grant_info.loc[grant_info.index]\n",
    "grants_data.head()"
   ]
  },
  {
   "cell_type": "code",
   "execution_count": 6,
   "metadata": {
    "collapsed": false
   },
   "outputs": [
    {
     "name": "stdout",
     "output_type": "stream",
     "text": [
      "Dropped from original: 18.340133502165113\n",
      "Dropped from last step: 16.395384196795824\n"
     ]
    }
   ],
   "source": [
    "print('Dropped from original:', get_dropped_perc(p3, grants_data))\n",
    "print('Dropped from last step:', get_dropped_perc(has_info, grants_data))"
   ]
  },
  {
   "cell_type": "markdown",
   "metadata": {},
   "source": [
    "So, for about 16.4% of the data, we don't have any information about the grant given. "
   ]
  },
  {
   "cell_type": "markdown",
   "metadata": {},
   "source": [
    "# Get the geo info\n",
    "\n",
    "From the description of the dataset, we have the folloring description:\n",
    "> ### Institution\n",
    "> According to the information submitted by the responsible applicant, this is the research institution where the project will largely be carried out. Typically, this is the institution or specific lab where the responsible applicant works. The institution is therefore linked to the application. This field is not structured, but its content is consolidated internally. There is no link in the database to the field University.\n",
    "\n",
    "> ### University\n",
    "> This is the institution where the project will largely be carried out according to the application. Pick list. This field is only filled if the research is carried out at a Swiss institution, otherwise the field remains blank. In the case of mobility fellowships, it is generally left empty.\n",
    "\n",
    "\n",
    "So, we know that for the rows where the university is given, the grant was awarded to a swizz university. However, we do not know much about the cases where we only have the institution information. We descided to look into these cases further."
   ]
  },
  {
   "cell_type": "code",
   "execution_count": 7,
   "metadata": {
    "collapsed": false
   },
   "outputs": [
    {
     "name": "stdout",
     "output_type": "stream",
     "text": [
      "(50988, 3)\n"
     ]
    },
    {
     "data": {
      "text/html": [
       "<div>\n",
       "<table border=\"1\" class=\"dataframe\">\n",
       "  <thead>\n",
       "    <tr style=\"text-align: right;\">\n",
       "      <th></th>\n",
       "      <th>Institution</th>\n",
       "      <th>University</th>\n",
       "      <th>Approved Amount</th>\n",
       "    </tr>\n",
       "  </thead>\n",
       "  <tbody>\n",
       "    <tr>\n",
       "      <th>0</th>\n",
       "      <td>NaN</td>\n",
       "      <td>Nicht zuteilbar - NA</td>\n",
       "      <td>11619.0</td>\n",
       "    </tr>\n",
       "    <tr>\n",
       "      <th>1</th>\n",
       "      <td>Faculté de Psychologie et des Sciences de l'Ed...</td>\n",
       "      <td>Université de Genève - GE</td>\n",
       "      <td>41022.0</td>\n",
       "    </tr>\n",
       "    <tr>\n",
       "      <th>2</th>\n",
       "      <td>Kommission für das Corpus philosophorum medii ...</td>\n",
       "      <td>NPO (Biblioth., Museen, Verwalt.) - NPO</td>\n",
       "      <td>79732.0</td>\n",
       "    </tr>\n",
       "    <tr>\n",
       "      <th>3</th>\n",
       "      <td>Abt. Handschriften und Alte Drucke Bibliothek ...</td>\n",
       "      <td>Universität Basel - BS</td>\n",
       "      <td>52627.0</td>\n",
       "    </tr>\n",
       "    <tr>\n",
       "      <th>4</th>\n",
       "      <td>Schweiz. Thesauruskommission</td>\n",
       "      <td>NPO (Biblioth., Museen, Verwalt.) - NPO</td>\n",
       "      <td>120042.0</td>\n",
       "    </tr>\n",
       "  </tbody>\n",
       "</table>\n",
       "</div>"
      ],
      "text/plain": [
       "                                         Institution  \\\n",
       "0                                                NaN   \n",
       "1  Faculté de Psychologie et des Sciences de l'Ed...   \n",
       "2  Kommission für das Corpus philosophorum medii ...   \n",
       "3  Abt. Handschriften und Alte Drucke Bibliothek ...   \n",
       "4                       Schweiz. Thesauruskommission   \n",
       "\n",
       "                                University  Approved Amount  \n",
       "0                     Nicht zuteilbar - NA          11619.0  \n",
       "1                Université de Genève - GE          41022.0  \n",
       "2  NPO (Biblioth., Museen, Verwalt.) - NPO          79732.0  \n",
       "3                   Universität Basel - BS          52627.0  \n",
       "4  NPO (Biblioth., Museen, Verwalt.) - NPO         120042.0  "
      ]
     },
     "execution_count": 7,
     "metadata": {},
     "output_type": "execute_result"
    }
   ],
   "source": [
    "has_uni = has_info[has_info['University'].isnull() == False]\n",
    "\n",
    "has_uni[has_uni['University'] == 'Eidg. Material und Prüfungsanstalt - EMPA']\n",
    "print(has_uni.shape)\n",
    "has_uni.head()"
   ]
  },
  {
   "cell_type": "code",
   "execution_count": 8,
   "metadata": {
    "collapsed": false
   },
   "outputs": [
    {
     "name": "stdout",
     "output_type": "stream",
     "text": [
      "Dropped from original: 20.292641748346853\n",
      "Dropped from last step: 2.3910255183107743\n"
     ]
    }
   ],
   "source": [
    "print('Dropped from original:', get_dropped_perc(p3, has_uni))\n",
    "print('Dropped from last step:', get_dropped_perc(grants_data, has_uni))"
   ]
  },
  {
   "cell_type": "code",
   "execution_count": 9,
   "metadata": {
    "collapsed": true
   },
   "outputs": [],
   "source": [
    "uni_grouped = has_uni.groupby(['University'])"
   ]
  },
  {
   "cell_type": "code",
   "execution_count": 10,
   "metadata": {
    "collapsed": false
   },
   "outputs": [
    {
     "ename": "NameError",
     "evalue": "name 'get_geo_dict' is not defined",
     "output_type": "error",
     "traceback": [
      "\u001b[1;31m---------------------------------------------------------------------------\u001b[0m",
      "\u001b[1;31mNameError\u001b[0m                                 Traceback (most recent call last)",
      "\u001b[1;32m<ipython-input-10-fa5076beb8ba>\u001b[0m in \u001b[0;36m<module>\u001b[1;34m()\u001b[0m\n\u001b[1;32m----> 1\u001b[1;33m \u001b[0mres\u001b[0m\u001b[1;33m,\u001b[0m \u001b[0merr\u001b[0m \u001b[1;33m=\u001b[0m \u001b[0mget_geo_dict\u001b[0m\u001b[1;33m(\u001b[0m\u001b[0muni_grouped\u001b[0m\u001b[1;33m)\u001b[0m\u001b[1;33m\u001b[0m\u001b[0m\n\u001b[0m",
      "\u001b[1;31mNameError\u001b[0m: name 'get_geo_dict' is not defined"
     ]
    }
   ],
   "source": [
    "res, err = get_geo_dict(uni_grouped)"
   ]
  },
  {
   "cell_type": "code",
   "execution_count": null,
   "metadata": {
    "collapsed": false
   },
   "outputs": [],
   "source": [
    "geolocalized_df = pd.DataFrame.from_dict(res).T\n",
    "geolocalized_df[['lat','long']] = geolocalized_df[['lat','long']].apply(pd.to_numeric)\n",
    "geolocalized_df.describe()"
   ]
  },
  {
   "cell_type": "markdown",
   "metadata": {},
   "source": [
    "Standard deviation for latitude and longitude is less than 1 so we are still operating within Swiss boarders ;)"
   ]
  },
  {
   "cell_type": "code",
   "execution_count": null,
   "metadata": {
    "collapsed": false
   },
   "outputs": [],
   "source": [
    "geolocalized_df = geolocalized_df.reset_index()\n",
    "geolocalized_df.columns = ['University', 'Canton', 'Lat', 'Lon']\n",
    "geolocalized_df.head()"
   ]
  },
  {
   "cell_type": "code",
   "execution_count": null,
   "metadata": {
    "collapsed": false
   },
   "outputs": [],
   "source": [
    "has_code = has_uni['University'].str.extract('(?P<University_name>.*?(?= -))(?P<delim>\\ -\\ )(?P<Canton>.*)', expand=True).drop('delim', axis=1)\n",
    "combined = has_uni.join(has_code, how=\"left\")\n",
    "\n",
    "# For the rest, we will try to get the canton code by requesting the GeoNames web service\n",
    "combined_is_canton_code = combined[combined['Canton'].apply(is_canton_code) == True]\n",
    "geolocalized_1 = geolocalized_df.append(combined_is_canton_code[['University', 'Canton']])\n",
    "geolocalized_final = geolocalized_1.drop_duplicates(['University'])"
   ]
  },
  {
   "cell_type": "code",
   "execution_count": null,
   "metadata": {
    "collapsed": false
   },
   "outputs": [],
   "source": [
    "geo_uni = has_uni.merge(geolocalized_final, on='University', how='left')\n",
    "geo_uni"
   ]
  },
  {
   "cell_type": "code",
   "execution_count": null,
   "metadata": {
    "collapsed": false
   },
   "outputs": [],
   "source": [
    "geo_uni = geo_uni[['Canton','Lat','Lon']]\n",
    "geo_all = has_info.join(geo_uni, how='left')\n",
    "print(geo_all.shape)\n",
    "geo_all"
   ]
  },
  {
   "cell_type": "markdown",
   "metadata": {
    "collapsed": true
   },
   "source": [
    "### For the rest, we will try to get the canton code by parsing city name from university/institution column"
   ]
  },
  {
   "cell_type": "code",
   "execution_count": null,
   "metadata": {
    "collapsed": false
   },
   "outputs": [],
   "source": [
    "# Load data for swiss # Load data for swiss cities (german names)\n",
    "columns = ['Name', 'Kanton']\n",
    "swiss_cities = pd.read_csv(\"swiss_cities.csv\", delimiter='\\t', usecols=columns, na_values=['data not included in P3', 'nan'])\n",
    "swiss_cities['Kanton'] = swiss_cities['Kanton'].str.split().str[2]\n",
    "swiss_cities.head(10)"
   ]
  },
  {
   "cell_type": "code",
   "execution_count": null,
   "metadata": {
    "collapsed": false
   },
   "outputs": [],
   "source": [
    "# Load data for swiss cantons\n",
    "columns = ['Code', 'Kanton', 'Sprache']\n",
    "swiss_cantons_full = pd.read_csv(\"swiss_cantons_full.csv\", delimiter='\\t', usecols=columns, na_values=['data not included in P3', 'nan'])\n",
    "swiss_cantons_full['Kanton'] = swiss_cantons_full['Kanton'].str.split().str[2]\n",
    "swiss_cantons_full.head(10)"
   ]
  },
  {
   "cell_type": "code",
   "execution_count": null,
   "metadata": {
    "collapsed": false
   },
   "outputs": [],
   "source": [
    "# Load data for swiss towns (english names)\n",
    "columns = ['Town', 'Canton']\n",
    "swiss_cities_english = pd.read_csv(\"swiss_towns.csv\", delimiter='\\t', usecols=columns, na_values=['data not included in P3', 'nan'])\n",
    "swiss_cities_english.columns = ['Name', 'Canton']\n",
    "swiss_cities_english.head(10)"
   ]
  },
  {
   "cell_type": "code",
   "execution_count": null,
   "metadata": {
    "collapsed": false
   },
   "outputs": [],
   "source": [
    "#Add canton code to our loaded cities\n",
    "swiss_cities_german = swiss_cities.merge(swiss_cantons_full, on='Kanton')\n",
    "del swiss_cities_german['Kanton']\n",
    "swiss_cities_german.columns = ['Name', 'Canton']\n",
    "swiss_cities_german.head(20)"
   ]
  },
  {
   "cell_type": "code",
   "execution_count": null,
   "metadata": {
    "collapsed": false
   },
   "outputs": [],
   "source": [
    "# Load data for swiss towns (French names)\n",
    "columns = ['Ville']\n",
    "swiss_cities_french = pd.read_csv(\"swiss_cities_french.csv\", delimiter='\\t', usecols=columns, na_values=['french nan', 'nan'])\n",
    "swiss_cities_french = swiss_cities_french['Ville'].str.split(', ', expand=True)\n",
    "swiss_cities_french.columns = ['Name', 'Canton']\n",
    "swiss_cities_french.head(10)"
   ]
  },
  {
   "cell_type": "code",
   "execution_count": null,
   "metadata": {
    "collapsed": false
   },
   "outputs": [],
   "source": [
    "# Create data frame containing city names in all available languages:\n",
    "# (german, english and french)\n",
    "swiss_cities_dict = pd.concat([swiss_cities_english, swiss_cities_german, swiss_cities_french])\n",
    "swiss_cities_dict.drop_duplicates('Name', inplace=True)\n",
    "swiss_cities_dict.set_index('Name', inplace=True)\n",
    "swiss_cities_dict.head(10)"
   ]
  },
  {
   "cell_type": "code",
   "execution_count": null,
   "metadata": {
    "collapsed": true
   },
   "outputs": [],
   "source": [
    "geo_all_copy = geo_all.copy()"
   ]
  },
  {
   "cell_type": "code",
   "execution_count": null,
   "metadata": {
    "collapsed": false
   },
   "outputs": [],
   "source": [
    "# Direct mapping of canton with our Switzerland town list \n",
    "\n",
    "def map_inst_canton(df, column):\n",
    "    for place in df[column].unique():\n",
    "        place = str(place)\n",
    "        if place == np.nan:\n",
    "            continue\n",
    "        for word in place.split():\n",
    "            if word in swiss_cities_dict.index:\n",
    "                p = swiss_cities_dict.loc[word]['Canton']\n",
    "                #print(place, \" -> \", p)\n",
    "                df['Canton'][df[column] == place] = p\n",
    "\n",
    "map_inst_canton(geo_all_copy, 'Institution')\n",
    "map_inst_canton(geo_all_copy, 'University')"
   ]
  },
  {
   "cell_type": "code",
   "execution_count": null,
   "metadata": {
    "collapsed": false
   },
   "outputs": [],
   "source": [
    "# Check how many entries still don't have a canton assigned\n",
    "geo_all[geo_all['Canton'].isnull()].shape"
   ]
  },
  {
   "cell_type": "code",
   "execution_count": null,
   "metadata": {
    "collapsed": false
   },
   "outputs": [],
   "source": [
    "# Drop all the entries that don't have a canton\n",
    "dropped = geo_all_copy[geo_all_copy['Canton'].isnull()]\n"
   ]
  },
  {
   "cell_type": "code",
   "execution_count": null,
   "metadata": {
    "collapsed": false
   },
   "outputs": [],
   "source": [
    "print('Coverage so far from original data containing set: ', get_dropped_perc(has_info, dropped))"
   ]
  },
  {
   "cell_type": "code",
   "execution_count": null,
   "metadata": {
    "collapsed": false
   },
   "outputs": [],
   "source": [
    "dropped['University'].value_counts()"
   ]
  },
  {
   "cell_type": "markdown",
   "metadata": {},
   "source": [
    "## Manual labour"
   ]
  },
  {
   "cell_type": "code",
   "execution_count": null,
   "metadata": {
    "collapsed": false
   },
   "outputs": [],
   "source": [
    "geo_all[(geo_all['University'] == 'Paul Scherrer Institut') & (geo_all['Canton'] == np.nan)]['Canton'] = 'AG'\n",
    "geo_all[(geo_all['University'] == 'Università della Svizzera italiana - USI') & (geo_all['Canton'] == np.nan)]['Canton'] = 'TI'\n",
    "geo_all[(geo_all['University'] == 'Eidg. Anstalt für Wasserversorgung') & (geo_all['Canton'] == np.nan)]['Canton'] = 'ZH'\n",
    "geo_all[(geo_all['University'] == 'Zürcher Fachhochschule (ohne PH) - ZFH') & (geo_all['Canton'] == np.nan)]['Canton'] = 'ZH'\n",
    "geo_all[(geo_all['University'] == 'Eidg. Material und Prüfungsanstalt - EMPA') & (geo_all['Canton'] == np.nan)]['Canton'] = 'ZH'\n",
    "geo_all[(geo_all['University'] == 'Institut Universitaire Kurt Bösch - IUKB') & (geo_all['Canton'] == np.nan)]['Canton'] = 'VS'\n",
    "geo_all[(geo_all['University'] == 'Allergie- und Asthmaforschung - SIAF') & (geo_all['Canton'] == np.nan)]['Canton'] = 'GR'\n",
    "geo_all[(geo_all['University'] == 'Swiss Center for Electronics & Microtech. - CSEM') & (geo_all['Canton'] == np.nan)]['Canton'] = 'NE'\n",
    "geo_all[(geo_all['University'] == 'Pädagogische Hochschule Nordwestschweiz - PHFHNW') & (geo_all['Canton'] == np.nan)]['Canton'] = 'AG'\n",
    "geo_all[(geo_all['University'] == 'Kantonsspital St. Gallen - KSPSG') & (geo_all['Canton'] == np.nan)]['Canton'] = 'SG'\n",
    "geo_all[(geo_all['University'] == 'Berner Fachhochschule - BFH') & (geo_all['Canton'] == np.nan)]['Canton'] = 'BE'\n",
    "geo_all[(geo_all['University'] == 'SUP della Svizzera italiana - SUPSI') & (geo_all['Canton'] == np.nan)]['Canton'] = 'TI'\n",
    "geo_all[(geo_all['University'] == 'Idiap Research Institute - IDIAP') & (geo_all['Canton'] == np.nan)]['Canton'] = 'VS'\n",
    "geo_all[(geo_all['University'] == 'Inst. de Hautes Etudes Internat. et du Dév - IHEID') & (geo_all['Canton'] == np.nan)]['Canton'] = 'GE'\n",
    "geo_all[(geo_all['University'] == 'Friedrich Miescher Institute - FMI ') & (geo_all['Canton'] == np.nan)]['Canton'] = 'BS'\n",
    "geo_all[(geo_all['University'] == 'Forschungsanstalten Agroscope - AGS') & (geo_all['Canton'] == np.nan)]['Canton'] = 'VD'\n",
    "geo_all[(geo_all['University'] == 'HES de Suisse occidentale - HES-SO') & (geo_all['Canton'] == np.nan)]['Canton'] = 'JU'\n",
    "geo_all[(geo_all['University'] == 'Fachhochschule Nordwestschweiz (ohne PH) - FHNW') & (geo_all['Canton'] == np.nan)]['Canton'] = 'SO'\n",
    "geo_all[(geo_all['University'] == 'Universität St. Gallen') & (geo_all['Canton'] == np.nan)]['Canton'] = 'SG'\n",
    "geo_all[(geo_all['University'] == 'Eidg. Forschungsanstalt für Wald,Schnee,L& - WSL') & (geo_all['Canton'] == np.nan)]['Canton'] = 'ZH'"
   ]
  },
  {
   "cell_type": "code",
   "execution_count": null,
   "metadata": {
    "collapsed": false
   },
   "outputs": [],
   "source": [
    "clean_cantons = geo_all.dropna(subset = ['Canton'])\n",
    "clean_cantons.head()"
   ]
  },
  {
   "cell_type": "code",
   "execution_count": null,
   "metadata": {
    "collapsed": false
   },
   "outputs": [],
   "source": [
    "print(clean_cantons.shape)\n",
    "print(has_info.shape)\n",
    "print('Dropped from original:', get_dropped_perc(has_info, clean_cantons))"
   ]
  },
  {
   "cell_type": "markdown",
   "metadata": {},
   "source": [
    "We are going to parse more results than that but lets work on this small dataset for now."
   ]
  },
  {
   "cell_type": "code",
   "execution_count": null,
   "metadata": {
    "collapsed": false
   },
   "outputs": [],
   "source": [
    "# List of parsed cantons (Note that some are missing! We will handle that!) \n",
    "clean_cantons['Canton'].unique()"
   ]
  },
  {
   "cell_type": "code",
   "execution_count": null,
   "metadata": {
    "collapsed": false
   },
   "outputs": [],
   "source": [
    "#Lets get the amount of subsidy for each canton\n",
    "grouped_cantons = clean_cantons.groupby('Canton')['Approved Amount'].sum()\n",
    "grants_cantons = pd.DataFrame(grouped_cantons)\n",
    "grants_cantons = grants_cantons.reset_index()\n",
    "grants_cantons.head(26)"
   ]
  },
  {
   "cell_type": "code",
   "execution_count": null,
   "metadata": {
    "collapsed": false,
    "scrolled": true
   },
   "outputs": [],
   "source": [
    "# Load data for all swiss cantons\n",
    "columns = ['Name', 'Canton']\n",
    "swiss_cantons = pd.read_csv(\"swiss_cantons.csv\", delimiter='\\t', usecols=columns, na_values=['Not there', 'nan'])\n",
    "swiss_cantons.set_index('Canton', inplace=True)\n",
    "swiss_cantons = swiss_cantons.reset_index()\n",
    "swiss_cantons.head(26)"
   ]
  },
  {
   "cell_type": "code",
   "execution_count": null,
   "metadata": {
    "collapsed": false
   },
   "outputs": [],
   "source": [
    "# Lets merge our parsed cantons with all cantons in CH\n",
    "grants_cantons = swiss_cantons.merge(grants_cantons, how='left')\n",
    "grants_cantons.head(26)"
   ]
  },
  {
   "cell_type": "code",
   "execution_count": null,
   "metadata": {
    "collapsed": false
   },
   "outputs": [],
   "source": [
    "#Fill out those NaN's\n",
    "grants_cantons.fillna(0, inplace=True)\n",
    "grants_cantons"
   ]
  },
  {
   "cell_type": "code",
   "execution_count": null,
   "metadata": {
    "collapsed": false,
    "scrolled": true
   },
   "outputs": [],
   "source": [
    "# And make a first sketch on the map\n",
    "cantons_topo = 'ch-cantons.topojson.json'\n",
    "\n",
    "main_map = folium.Map(location=[46.50,8.20], zoom_start=8)\n",
    "main_map.choropleth(geo_path=cantons_topo, \n",
    "                     data=grants_cantons,\n",
    "                     columns=['Canton', 'Approved Amount'],\n",
    "                     key_on='feature.id',\n",
    "                     topojson='objects.cantons',\n",
    "                     fill_color='YlGnBu',\n",
    "                     legend_name = 'Random numbers'\n",
    "                    )\n",
    "main_map"
   ]
  },
  {
   "cell_type": "markdown",
   "metadata": {},
   "source": [
    "## TODO's\n",
    "* merge geolocalized_df with has_uni\n",
    "* supply it to chris's method\n",
    "* display on map\n",
    "* do a bonus exercise"
   ]
  },
  {
   "cell_type": "code",
   "execution_count": null,
   "metadata": {
    "collapsed": false
   },
   "outputs": [],
   "source": [
    "grants_cantons"
   ]
  },
  {
   "cell_type": "code",
   "execution_count": null,
   "metadata": {
    "collapsed": true
   },
   "outputs": [],
   "source": []
  }
 ],
 "metadata": {
  "anaconda-cloud": {},
  "kernelspec": {
   "display_name": "Python [Root]",
   "language": "python",
   "name": "Python [Root]"
  },
  "language_info": {
   "codemirror_mode": {
    "name": "ipython",
    "version": 3
   },
   "file_extension": ".py",
   "mimetype": "text/x-python",
   "name": "python",
   "nbconvert_exporter": "python",
   "pygments_lexer": "ipython3",
   "version": "3.5.2"
  }
 },
 "nbformat": 4,
 "nbformat_minor": 0
}
