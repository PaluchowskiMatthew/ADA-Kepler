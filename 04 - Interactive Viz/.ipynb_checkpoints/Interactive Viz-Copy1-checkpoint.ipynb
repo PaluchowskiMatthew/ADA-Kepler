{
 "cells": [
  {
   "cell_type": "markdown",
   "metadata": {},
   "source": [
    "# Interactive Visualization"
   ]
  },
  {
   "cell_type": "code",
   "execution_count": 1,
   "metadata": {
    "collapsed": false
   },
   "outputs": [],
   "source": [
    "import folium\n",
    "\n",
    "# Normal stack of pandas, numpy, matplotlib and seaborn\n",
    "import pandas as pd\n",
    "import numpy as np\n",
    "import matplotlib.pyplot as plt\n",
    "import matplotlib.pylab as pylab\n",
    "import seaborn as sns\n",
    "\n",
    "# For handeling the web requests\n",
    "import requests\n",
    "from collections import defaultdict\n",
    "from pprint import *\n",
    "\n",
    "# Statistical test library\n",
    "import scipy.stats as stats\n",
    "from helpers import *\n",
    "\n",
    "%matplotlib inline"
   ]
  },
  {
   "cell_type": "markdown",
   "metadata": {},
   "source": [
    "Folium: https://github.com/python-visualization/folium\n",
    " \n",
    " Documentation:\n",
    " 1. https://folium.readthedocs.io/en/latest/\n",
    " 2. https://media.readthedocs.org/pdf/folium/latest/folium.pdf"
   ]
  },
  {
   "cell_type": "code",
   "execution_count": 2,
   "metadata": {
    "collapsed": false,
    "scrolled": true
   },
   "outputs": [
    {
     "data": {
      "text/html": [
       "<div style=\"width:100%;\"><div style=\"position:relative;width:100%;height:0;padding-bottom:60%;\"><iframe src=\"data:text/html;base64,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\" style=\"position:absolute;width:100%;height:100%;left:0;top:0;\"></iframe></div></div>"
      ],
      "text/plain": [
       "<folium.folium.Map at 0x7f095d72d898>"
      ]
     },
     "execution_count": 2,
     "metadata": {},
     "output_type": "execute_result"
    }
   ],
   "source": [
    "#Folium test\n",
    "map_osm = folium.Map(location=[46.8076878,7.1004592], zoom_start=10)\n",
    "map_osm"
   ]
  },
  {
   "cell_type": "markdown",
   "metadata": {},
   "source": [
    "# Data wrangling"
   ]
  },
  {
   "cell_type": "markdown",
   "metadata": {},
   "source": [
    "Data source (P3_GrantExport.csv)\n",
    "and description of the columns: http://p3.snf.ch/Pages/DataAndDocumentation.aspx"
   ]
  },
  {
   "cell_type": "code",
   "execution_count": 3,
   "metadata": {
    "collapsed": false
   },
   "outputs": [],
   "source": [
    "# Load the data we need. (Columns: Insti)\n",
    "columns = ['Institution', 'University','Approved Amount']\n",
    "p3 = pd.read_csv(\"P3_GrantExport.csv\", delimiter=';', usecols=columns, na_values=['data not included in P3', 'nan'])"
   ]
  },
  {
   "cell_type": "markdown",
   "metadata": {},
   "source": [
    "To be able to work with the data, we have to filter out the values where we have enough information.\n",
    "\n",
    "We start by filtering out the projects where we know at least the University or the institution related to the project"
   ]
  },
  {
   "cell_type": "code",
   "execution_count": 4,
   "metadata": {
    "collapsed": false
   },
   "outputs": [
    {
     "name": "stdout",
     "output_type": "stream",
     "text": [
      "Dropped from original: 2.3261267176288514\n",
      "(62481, 3)\n"
     ]
    }
   ],
   "source": [
    "missing__info = p3[p3[['Institution', 'University']].isnull().all(axis=1)].index\n",
    "has_info = p3.drop(missing__info, axis=0)\n",
    "\n",
    "print('Dropped from original:', get_dropped_perc(p3, has_info))\n",
    "print(has_info.shape)"
   ]
  },
  {
   "cell_type": "markdown",
   "metadata": {},
   "source": [
    "As we can see, this leaves out 2.33% of the original data."
   ]
  },
  {
   "cell_type": "code",
   "execution_count": 5,
   "metadata": {
    "collapsed": false
   },
   "outputs": [
    {
     "data": {
      "text/html": [
       "<div>\n",
       "<table border=\"1\" class=\"dataframe\">\n",
       "  <thead>\n",
       "    <tr style=\"text-align: right;\">\n",
       "      <th></th>\n",
       "      <th>Institution</th>\n",
       "      <th>University</th>\n",
       "      <th>Approved Amount</th>\n",
       "    </tr>\n",
       "  </thead>\n",
       "  <tbody>\n",
       "    <tr>\n",
       "      <th>0</th>\n",
       "      <td>NaN</td>\n",
       "      <td>Nicht zuteilbar - NA</td>\n",
       "      <td>11619.0</td>\n",
       "    </tr>\n",
       "    <tr>\n",
       "      <th>1</th>\n",
       "      <td>Faculté de Psychologie et des Sciences de l'Ed...</td>\n",
       "      <td>Université de Genève - GE</td>\n",
       "      <td>41022.0</td>\n",
       "    </tr>\n",
       "    <tr>\n",
       "      <th>2</th>\n",
       "      <td>Kommission für das Corpus philosophorum medii ...</td>\n",
       "      <td>NPO (Biblioth., Museen, Verwalt.) - NPO</td>\n",
       "      <td>79732.0</td>\n",
       "    </tr>\n",
       "    <tr>\n",
       "      <th>3</th>\n",
       "      <td>Abt. Handschriften und Alte Drucke Bibliothek ...</td>\n",
       "      <td>Universität Basel - BS</td>\n",
       "      <td>52627.0</td>\n",
       "    </tr>\n",
       "    <tr>\n",
       "      <th>4</th>\n",
       "      <td>Schweiz. Thesauruskommission</td>\n",
       "      <td>NPO (Biblioth., Museen, Verwalt.) - NPO</td>\n",
       "      <td>120042.0</td>\n",
       "    </tr>\n",
       "  </tbody>\n",
       "</table>\n",
       "</div>"
      ],
      "text/plain": [
       "                                         Institution  \\\n",
       "0                                                NaN   \n",
       "1  Faculté de Psychologie et des Sciences de l'Ed...   \n",
       "2  Kommission für das Corpus philosophorum medii ...   \n",
       "3  Abt. Handschriften und Alte Drucke Bibliothek ...   \n",
       "4                       Schweiz. Thesauruskommission   \n",
       "\n",
       "                                University  Approved Amount  \n",
       "0                     Nicht zuteilbar - NA          11619.0  \n",
       "1                Université de Genève - GE          41022.0  \n",
       "2  NPO (Biblioth., Museen, Verwalt.) - NPO          79732.0  \n",
       "3                   Universität Basel - BS          52627.0  \n",
       "4  NPO (Biblioth., Museen, Verwalt.) - NPO         120042.0  "
      ]
     },
     "execution_count": 5,
     "metadata": {},
     "output_type": "execute_result"
    }
   ],
   "source": [
    "grant_info =  has_info.copy()\n",
    "grant_info = grant_info[grant_info[['Approved Amount']].isnull().all(axis=1) == False]\n",
    "grants_data = grant_info.loc[grant_info.index]\n",
    "grants_data.head()"
   ]
  },
  {
   "cell_type": "code",
   "execution_count": 6,
   "metadata": {
    "collapsed": false
   },
   "outputs": [
    {
     "name": "stdout",
     "output_type": "stream",
     "text": [
      "Dropped from original: 18.340133502165113\n",
      "Dropped from last step: 16.395384196795824\n"
     ]
    }
   ],
   "source": [
    "print('Dropped from original:', get_dropped_perc(p3, grants_data))\n",
    "print('Dropped from last step:', get_dropped_perc(has_info, grants_data))"
   ]
  },
  {
   "cell_type": "markdown",
   "metadata": {},
   "source": [
    "So, for about 16.4% of the data, we don't have any information about the grant given. "
   ]
  },
  {
   "cell_type": "markdown",
   "metadata": {},
   "source": [
    "# Get the geo info\n",
    "\n",
    "From the description of the dataset, we have the folloring description:\n",
    "> ### Institution\n",
    "> According to the information submitted by the responsible applicant, this is the research institution where the project will largely be carried out. Typically, this is the institution or specific lab where the responsible applicant works. The institution is therefore linked to the application. This field is not structured, but its content is consolidated internally. There is no link in the database to the field University.\n",
    "\n",
    "> ### University\n",
    "> This is the institution where the project will largely be carried out according to the application. Pick list. This field is only filled if the research is carried out at a Swiss institution, otherwise the field remains blank. In the case of mobility fellowships, it is generally left empty.\n",
    "\n",
    "\n",
    "So, we know that for the rows where the university is given, the grant was awarded to a swizz university. However, we do not know much about the cases where we only have the institution information. We descided to look into these cases further."
   ]
  },
  {
   "cell_type": "code",
   "execution_count": 7,
   "metadata": {
    "collapsed": false
   },
   "outputs": [
    {
     "name": "stdout",
     "output_type": "stream",
     "text": [
      "(50988, 3)\n"
     ]
    },
    {
     "data": {
      "text/html": [
       "<div>\n",
       "<table border=\"1\" class=\"dataframe\">\n",
       "  <thead>\n",
       "    <tr style=\"text-align: right;\">\n",
       "      <th></th>\n",
       "      <th>Institution</th>\n",
       "      <th>University</th>\n",
       "      <th>Approved Amount</th>\n",
       "    </tr>\n",
       "  </thead>\n",
       "  <tbody>\n",
       "    <tr>\n",
       "      <th>0</th>\n",
       "      <td>NaN</td>\n",
       "      <td>Nicht zuteilbar - NA</td>\n",
       "      <td>11619.0</td>\n",
       "    </tr>\n",
       "    <tr>\n",
       "      <th>1</th>\n",
       "      <td>Faculté de Psychologie et des Sciences de l'Ed...</td>\n",
       "      <td>Université de Genève - GE</td>\n",
       "      <td>41022.0</td>\n",
       "    </tr>\n",
       "    <tr>\n",
       "      <th>2</th>\n",
       "      <td>Kommission für das Corpus philosophorum medii ...</td>\n",
       "      <td>NPO (Biblioth., Museen, Verwalt.) - NPO</td>\n",
       "      <td>79732.0</td>\n",
       "    </tr>\n",
       "    <tr>\n",
       "      <th>3</th>\n",
       "      <td>Abt. Handschriften und Alte Drucke Bibliothek ...</td>\n",
       "      <td>Universität Basel - BS</td>\n",
       "      <td>52627.0</td>\n",
       "    </tr>\n",
       "    <tr>\n",
       "      <th>4</th>\n",
       "      <td>Schweiz. Thesauruskommission</td>\n",
       "      <td>NPO (Biblioth., Museen, Verwalt.) - NPO</td>\n",
       "      <td>120042.0</td>\n",
       "    </tr>\n",
       "  </tbody>\n",
       "</table>\n",
       "</div>"
      ],
      "text/plain": [
       "                                         Institution  \\\n",
       "0                                                NaN   \n",
       "1  Faculté de Psychologie et des Sciences de l'Ed...   \n",
       "2  Kommission für das Corpus philosophorum medii ...   \n",
       "3  Abt. Handschriften und Alte Drucke Bibliothek ...   \n",
       "4                       Schweiz. Thesauruskommission   \n",
       "\n",
       "                                University  Approved Amount  \n",
       "0                     Nicht zuteilbar - NA          11619.0  \n",
       "1                Université de Genève - GE          41022.0  \n",
       "2  NPO (Biblioth., Museen, Verwalt.) - NPO          79732.0  \n",
       "3                   Universität Basel - BS          52627.0  \n",
       "4  NPO (Biblioth., Museen, Verwalt.) - NPO         120042.0  "
      ]
     },
     "execution_count": 7,
     "metadata": {},
     "output_type": "execute_result"
    }
   ],
   "source": [
    "has_uni = has_info[has_info['University'].isnull() == False]\n",
    "print(has_uni.shape)\n",
    "has_uni.head()"
   ]
  },
  {
   "cell_type": "code",
   "execution_count": 8,
   "metadata": {
    "collapsed": false
   },
   "outputs": [
    {
     "name": "stdout",
     "output_type": "stream",
     "text": [
      "Dropped from original: 20.292641748346853\n",
      "Dropped from last step: 2.3910255183107743\n"
     ]
    }
   ],
   "source": [
    "print('Dropped from original:', get_dropped_perc(p3, has_uni))\n",
    "print('Dropped from last step:', get_dropped_perc(grants_data, has_uni))"
   ]
  },
  {
   "cell_type": "code",
   "execution_count": 9,
   "metadata": {
    "collapsed": true
   },
   "outputs": [],
   "source": [
    "uni_grouped = has_uni.groupby(['University'])"
   ]
  },
  {
   "cell_type": "code",
   "execution_count": null,
   "metadata": {
    "collapsed": true
   },
   "outputs": [],
   "source": [
    "USERNAME = 'user1'\n",
    "URL = r'http://api.geonames.org/searchJSON?'\n",
    "\n",
    "\n",
    "geo_cache = defaultdict(str)\n",
    "def geo_query(name):\n",
    "    \"\"\"Do a lookup on geonames.org for name. Returns the first query result.\"\"\"\n",
    "    try:\n",
    "        # Encode the arguments to avoid problems with special characters, spaces etc. \n",
    "        encoded_args = urlencode({'name': name, 'country':'ch', 'maxRows':'1', 'username': USERNAME} )\n",
    "        \n",
    "        # Request the geonames API\n",
    "        r = requests.get(URL + encoded_args)\n",
    "        \n",
    "        # Parse the result as json\n",
    "        result = r.json()\n",
    "        \n",
    "        if result['totalResultsCount'] == 1:\n",
    "            # If there was a positive result, get the info from the result\n",
    "            geonames = result['geonames']\n",
    "            geo = geonames[0]\n",
    "            \n",
    "            canton = geo['adminCode1']\n",
    "            lat = geo['lat']\n",
    "            lng = geo['lng']\n",
    "            \n",
    "            return {'canton': canton, 'lat': lat, 'long': lng}\n",
    "        else:\n",
    "            # Else, we return false\n",
    "            return False\n",
    "        \n",
    "    except BaseException as e:\n",
    "        # Sometimes we get some strange results back, which leads our parsing to crash.\n",
    "        # This is allso returned as False\n",
    "        print('For name:', name, e)\n",
    "        return False\n",
    "    \n",
    "def geo_lookup(name):\n",
    "    \"\"\"Cached version of geo_query \"\"\"\n",
    "    if geo_cache[name] != '':\n",
    "        result = geo_cache[name]\n",
    "    else:\n",
    "        result = geo_query(name)\n",
    "        geo_cache[name] = result\n",
    "    return result\n",
    "\n",
    "def get_geo_dict(group):\n",
    "    \"\"\"\n",
    "    Returns a dictionary of name -> {canton info} mapping, achieved by querying geonames.org\n",
    "    Input is a pandas.groupby object. \"\"\"\n",
    "    \n",
    "    # Initialize result sets\n",
    "    geo_res = {}\n",
    "    geo_err = set()\n",
    "    \n",
    "    \n",
    "    for ind, group in group:\n",
    "        # The group name is the first element of the splitted index\n",
    "        name = ind.split(' - ')[0]\n",
    "        \n",
    "        # Do a lookup with our cached API-function, using the whole name\n",
    "        res = geo_lookup(name)\n",
    "        \n",
    "        \n",
    "        if res:\n",
    "            # If there is a result, save it\n",
    "            geo_res[name] = res\n",
    "        else:\n",
    "            # If the result is negative, try to do a query with only the last word,\n",
    "            # which is often the name of the city\n",
    "            name = name.split(' ')[-1].strip(')')\n",
    "            res = geo_lookup(name)\n",
    "            print(name)\n",
    "            \n",
    "            if res:\n",
    "                # If positive, save the result\n",
    "                geo_res[name] = res\n",
    "            else:\n",
    "                # Else, save it as an error to be handeled later\n",
    "                geo_err.add(ind)\n",
    "    \n",
    "    return geo_res, geo_err"
   ]
  },
  {
   "cell_type": "code",
   "execution_count": 10,
   "metadata": {
    "collapsed": false
   },
   "outputs": [
    {
     "name": "stdout",
     "output_type": "stream",
     "text": [
      "Schweiz. Institut für Kunstwissenschaft - SIK-ISEA 60\n",
      "Schweizer Paraplegiker Forschung - SPF 30\n",
      "Weitere Spitäler - ASPIT 243\n",
      "Facoltà di Teologia di Lugano - FTL 6\n",
      "Haute école pédagogique BE, JU, NE - HEPBEJUNE 21\n",
      "Fachhochschule Kalaidos - FHKD 9\n",
      "Université de Fribourg - FR 6237\n",
      "Forschungskommission SAGW 3\n",
      "Pädagogische Hochschule Zug - PHZG 21\n",
      "Schweizer Kompetenzzentrum Sozialwissensch. - FORS 93\n",
      "Interkant. Hochschule für Heilpädagogik ZH - HfH 66\n",
      "Biotechnologie Institut Thurgau - BITG 24\n",
      "Eidg. Forschungsanstalt für Wald,Schnee,Land - WSL 669\n",
      "Physikal.-Meteorolog. Observatorium Davos - PMOD 144\n",
      "EPF Lausanne - EPFL 13284\n",
      "Berner Fachhochschule - BFH 408\n",
      "Pädagogische Hochschule Bern - PHBern 39\n",
      "Universität Luzern - LU 642\n",
      "Université de Genève - GE 19182\n",
      "Pädagogische Hochschule Schaffhausen - PHSH 3\n",
      "Pädagogische Hochschule St. Gallen - PHSG 39\n",
      "Hochschule Luzern - HSLU 186\n",
      "Swiss Institute of Bioinformatics - SIB 93\n",
      "Nicht zuteilbar - NA 7785\n",
      "Instituto Ricerche Solari Locarno - IRSOL 15\n",
      "Institut Universitaire Kurt Bösch - IUKB 63\n",
      "HES de Suisse occidentale - HES-SO 813\n",
      "Eidg. Anstalt für Wasserversorgung - EAWAG 999\n",
      "Pädagogische Hochschule Zürich - PHZFH 69\n",
      "Eidg. Material und Prüfungsanstalt - EMPA 714\n",
      "Robert Walser-Stiftung Bern - RWS 18\n",
      "Forschungsinstitut für biologischen Landbau - FIBL 51\n",
      "NPO (Biblioth., Museen, Verwalt.) - NPO 4419\n",
      "Allergie- und Asthmaforschung - SIAF 132\n",
      "Eidg. Hochschulinstitut für Berufsbildung - EHB 36\n",
      "Swiss Center for Electronics and Microtech. - CSEM 84\n",
      "Pädagogische Hochschule Thurgau - PHTG 18\n",
      "Paul Scherrer Institut - PSI 1614\n",
      "Centre de rech. sur l'environnement alpin - CREALP 24\n",
      "Pädagogische Hochschule Schwyz - PHSZ 15\n",
      "Firmen/Privatwirtschaft - FP 1476\n",
      "Universität St. Gallen - SG 1278\n",
      "Pädagogische Hochschule Wallis - PHVS 6\n",
      "Inst. de Hautes Etudes Internat. et du Dév - IHEID 594\n",
      "Inst. Suisse de Spéléologie et Karstologie - ISSKA 9\n",
      "Forschungsinstitut für Opthalmologie - IRO 42\n",
      "Ente Ospedaliero Cantonale - EOC 63\n",
      "Staatsunabh. Theologische Hochschule Basel - STHB 9\n",
      "Franklin University Switzerland - FUS 18\n",
      "Haute école pédagogique fribourgeoise - HEPFR 21\n",
      "Pädagogische Hochschule Luzern - PHLU 42\n",
      "Inst. universit. romand de Santé au Travail - IST 105\n",
      "Haute école pédagogique du canton de Vaud - HEPL 48\n",
      "Istituto Svizzero di Roma - ISR 18\n",
      "Schweiz. Hochschule für Logopädie Rorschach - SHLR 6\n",
      "Université de Neuchâtel - NE 4788\n",
      "ETH Zürich - ETHZ 18459\n"
     ]
    }
   ],
   "source": [
    "## Just for debugging\n",
    "res, err = get_geo_dict(uni_grouped)\n",
    "\n",
    "count = 0\n",
    "for e in err:\n",
    "    try:\n",
    "        print(e, has_info[has_info['University'] == e].size)\n",
    "    except:\n",
    "        count += 1\n",
    "#has_info['University'].value_counts()"
   ]
  },
  {
   "cell_type": "code",
   "execution_count": 11,
   "metadata": {
    "collapsed": false
   },
   "outputs": [],
   "source": [
    "geo_res = {}\n",
    "\n",
    "for name, group in uni_grouped:\n",
    "    name = name.split(' - ')[0]\n",
    "    \n",
    "    res = geo_lookup(name)\n",
    "    \n",
    "    if res != -1:\n",
    "        geo_res[name] = res\n",
    "    else:\n",
    "        second_try = name.split(' ')[-1].strip(')')\n",
    "        res = geo_lookup(second_try)\n",
    "        if res != -1:\n",
    "            geo_res[name] = res\n",
    "        else:\n",
    "            print('-', name, '/', second_try)\n",
    "               \n",
    "# for key in geo_res.keys():\n",
    "#     print(key, geo_res[key])"
   ]
  },
  {
   "cell_type": "code",
   "execution_count": 12,
   "metadata": {
    "collapsed": false
   },
   "outputs": [
    {
     "data": {
      "text/plain": [
       "{'AO Research Institute': False,\n",
       " 'Allergie- und Asthmaforschung': False,\n",
       " 'Berner Fachhochschule': False,\n",
       " 'Biotechnologie Institut Thurgau': False,\n",
       " \"Centre de rech. sur l'environnement alpin\": False,\n",
       " 'EPF Lausanne': False,\n",
       " 'ETH Zürich': False,\n",
       " 'Eidg. Anstalt für Wasserversorgung': False,\n",
       " 'Eidg. Forschungsanstalt für Wald,Schnee,Land': False,\n",
       " 'Eidg. Hochschulinstitut für Berufsbildung': False,\n",
       " 'Eidg. Material und Prüfungsanstalt': False,\n",
       " 'Ente Ospedaliero Cantonale': False,\n",
       " 'Fachhochschule Kalaidos': False,\n",
       " 'Fachhochschule Nordwestschweiz (ohne PH)': False,\n",
       " 'Fachhochschule Ostschweiz': False,\n",
       " 'Facoltà di Teologia di Lugano': False,\n",
       " 'Fernfachhochschule Schweiz (Mitglied SUPSI)': False,\n",
       " 'Firmen/Privatwirtschaft': False,\n",
       " 'Forschungsanstalten Agroscope': False,\n",
       " 'Forschungsinstitut für Opthalmologie': False,\n",
       " 'Forschungsinstitut für biologischen Landbau': False,\n",
       " 'Forschungskommission SAGW': False,\n",
       " 'Franklin University Switzerland': False,\n",
       " 'Friedrich Miescher Institute': False,\n",
       " 'HES de Suisse occidentale': False,\n",
       " 'Haute école pédagogique BE, JU, NE': False,\n",
       " 'Haute école pédagogique du canton de Vaud': False,\n",
       " 'Haute école pédagogique fribourgeoise': False,\n",
       " 'Hochschule Luzern': False,\n",
       " 'Idiap Research Institute': False,\n",
       " 'Inst. Suisse de Spéléologie et Karstologie': False,\n",
       " 'Inst. de Hautes Etudes Internat. et du Dév': False,\n",
       " 'Inst. universit. romand de Santé au Travail': False,\n",
       " 'Institut Universitaire Kurt Bösch': False,\n",
       " 'Institut für Kulturforschung Graubünden': False,\n",
       " 'Instituto Ricerche Solari Locarno': False,\n",
       " 'Interkant. Hochschule für Heilpädagogik ZH': False,\n",
       " 'Istituto Svizzero di Roma': False,\n",
       " 'Kantonsspital St. Gallen': {'canton': 'SG',\n",
       "  'lat': '47.42925',\n",
       "  'long': '9.38826'},\n",
       " 'NPO (Biblioth., Museen, Verwalt.)': False,\n",
       " 'Nicht zuteilbar': False,\n",
       " 'Paul Scherrer Institut': False,\n",
       " 'Physikal.-Meteorolog. Observatorium Davos': False,\n",
       " 'Pädag. Hochschule Tessin (Teilschule SUPSI)': False,\n",
       " 'Pädagogische Hochschule Bern': False,\n",
       " 'Pädagogische Hochschule Graubünden': False,\n",
       " 'Pädagogische Hochschule Luzern': False,\n",
       " 'Pädagogische Hochschule Nordwestschweiz': False,\n",
       " 'Pädagogische Hochschule Schaffhausen': False,\n",
       " 'Pädagogische Hochschule Schwyz': False,\n",
       " 'Pädagogische Hochschule St. Gallen': False,\n",
       " 'Pädagogische Hochschule Thurgau': False,\n",
       " 'Pädagogische Hochschule Wallis': False,\n",
       " 'Pädagogische Hochschule Zug': False,\n",
       " 'Pädagogische Hochschule Zürich': False,\n",
       " 'Robert Walser-Stiftung Bern': False,\n",
       " 'SUP della Svizzera italiana': False,\n",
       " 'Schweiz. Hochschule für Logopädie Rorschach': False,\n",
       " 'Schweiz. Institut für Kunstwissenschaft': False,\n",
       " 'Schweizer Kompetenzzentrum Sozialwissensch.': False,\n",
       " 'Schweizer Paraplegiker Forschung': False,\n",
       " 'Staatsunabh. Theologische Hochschule Basel': False,\n",
       " 'Swiss Center for Electronics and Microtech.': False,\n",
       " 'Swiss Institute of Bioinformatics': False,\n",
       " 'Università della Svizzera italiana': False,\n",
       " 'Universität Basel': {'canton': 'BS', 'lat': '47.55832', 'long': '7.58403'},\n",
       " 'Universität Bern': {'canton': 'BE', 'lat': '46.95096', 'long': '7.43548'},\n",
       " 'Universität Luzern': False,\n",
       " 'Universität St. Gallen': False,\n",
       " 'Universität Zürich': {'canton': 'ZH', 'lat': '47.37092', 'long': '8.53434'},\n",
       " 'Université de Fribourg': False,\n",
       " 'Université de Genève': False,\n",
       " 'Université de Lausanne': {'canton': 'VD',\n",
       "  'lat': '46.52376',\n",
       "  'long': '6.58409'},\n",
       " 'Université de Neuchâtel': False,\n",
       " 'Weitere Institute': False,\n",
       " 'Weitere Spitäler': False,\n",
       " 'Zürcher Fachhochschule (ohne PH)': False}"
      ]
     },
     "execution_count": 12,
     "metadata": {},
     "output_type": "execute_result"
    }
   ],
   "source": [
    "geo_res"
   ]
  },
  {
   "cell_type": "code",
   "execution_count": 13,
   "metadata": {
    "collapsed": false
   },
   "outputs": [
    {
     "data": {
      "text/html": [
       "<div>\n",
       "<table border=\"1\" class=\"dataframe\">\n",
       "  <thead>\n",
       "    <tr style=\"text-align: right;\">\n",
       "      <th></th>\n",
       "      <th>lat</th>\n",
       "      <th>long</th>\n",
       "    </tr>\n",
       "  </thead>\n",
       "  <tbody>\n",
       "    <tr>\n",
       "      <th>count</th>\n",
       "      <td>77.000000</td>\n",
       "      <td>77.000000</td>\n",
       "    </tr>\n",
       "    <tr>\n",
       "      <th>mean</th>\n",
       "      <td>3.062769</td>\n",
       "      <td>0.513327</td>\n",
       "    </tr>\n",
       "    <tr>\n",
       "      <th>std</th>\n",
       "      <td>11.699011</td>\n",
       "      <td>1.976302</td>\n",
       "    </tr>\n",
       "    <tr>\n",
       "      <th>min</th>\n",
       "      <td>0.000000</td>\n",
       "      <td>0.000000</td>\n",
       "    </tr>\n",
       "    <tr>\n",
       "      <th>25%</th>\n",
       "      <td>0.000000</td>\n",
       "      <td>0.000000</td>\n",
       "    </tr>\n",
       "    <tr>\n",
       "      <th>50%</th>\n",
       "      <td>0.000000</td>\n",
       "      <td>0.000000</td>\n",
       "    </tr>\n",
       "    <tr>\n",
       "      <th>75%</th>\n",
       "      <td>0.000000</td>\n",
       "      <td>0.000000</td>\n",
       "    </tr>\n",
       "    <tr>\n",
       "      <th>max</th>\n",
       "      <td>47.558320</td>\n",
       "      <td>9.388260</td>\n",
       "    </tr>\n",
       "  </tbody>\n",
       "</table>\n",
       "</div>"
      ],
      "text/plain": [
       "             lat       long\n",
       "count  77.000000  77.000000\n",
       "mean    3.062769   0.513327\n",
       "std    11.699011   1.976302\n",
       "min     0.000000   0.000000\n",
       "25%     0.000000   0.000000\n",
       "50%     0.000000   0.000000\n",
       "75%     0.000000   0.000000\n",
       "max    47.558320   9.388260"
      ]
     },
     "execution_count": 13,
     "metadata": {},
     "output_type": "execute_result"
    }
   ],
   "source": [
    "geolocalized_df = pd.DataFrame.from_dict(geo_res).T\n",
    "geolocalized_df[['lat','long']] = geolocalized_df[['lat','long']].apply(pd.to_numeric)\n",
    "geolocalized_df.describe()"
   ]
  },
  {
   "cell_type": "markdown",
   "metadata": {},
   "source": [
    "Standard deviation for latitude and longitude is less than 1 so we are still operating within Swiss boarders ;)"
   ]
  },
  {
   "cell_type": "code",
   "execution_count": 14,
   "metadata": {
    "collapsed": false
   },
   "outputs": [
    {
     "data": {
      "text/html": [
       "<div>\n",
       "<table border=\"1\" class=\"dataframe\">\n",
       "  <thead>\n",
       "    <tr style=\"text-align: right;\">\n",
       "      <th></th>\n",
       "      <th>name</th>\n",
       "      <th>canton</th>\n",
       "      <th>lat</th>\n",
       "      <th>long</th>\n",
       "    </tr>\n",
       "  </thead>\n",
       "  <tbody>\n",
       "    <tr>\n",
       "      <th>0</th>\n",
       "      <td>AO Research Institute</td>\n",
       "      <td>False</td>\n",
       "      <td>0.0</td>\n",
       "      <td>0.0</td>\n",
       "    </tr>\n",
       "    <tr>\n",
       "      <th>1</th>\n",
       "      <td>Allergie- und Asthmaforschung</td>\n",
       "      <td>False</td>\n",
       "      <td>0.0</td>\n",
       "      <td>0.0</td>\n",
       "    </tr>\n",
       "    <tr>\n",
       "      <th>2</th>\n",
       "      <td>Berner Fachhochschule</td>\n",
       "      <td>False</td>\n",
       "      <td>0.0</td>\n",
       "      <td>0.0</td>\n",
       "    </tr>\n",
       "    <tr>\n",
       "      <th>3</th>\n",
       "      <td>Biotechnologie Institut Thurgau</td>\n",
       "      <td>False</td>\n",
       "      <td>0.0</td>\n",
       "      <td>0.0</td>\n",
       "    </tr>\n",
       "    <tr>\n",
       "      <th>4</th>\n",
       "      <td>Centre de rech. sur l'environnement alpin</td>\n",
       "      <td>False</td>\n",
       "      <td>0.0</td>\n",
       "      <td>0.0</td>\n",
       "    </tr>\n",
       "  </tbody>\n",
       "</table>\n",
       "</div>"
      ],
      "text/plain": [
       "                                        name canton  lat  long\n",
       "0                      AO Research Institute  False  0.0   0.0\n",
       "1              Allergie- und Asthmaforschung  False  0.0   0.0\n",
       "2                      Berner Fachhochschule  False  0.0   0.0\n",
       "3            Biotechnologie Institut Thurgau  False  0.0   0.0\n",
       "4  Centre de rech. sur l'environnement alpin  False  0.0   0.0"
      ]
     },
     "execution_count": 14,
     "metadata": {},
     "output_type": "execute_result"
    }
   ],
   "source": [
    "geolocalized_df = geolocalized_df.reset_index()\n",
    "geolocalized_df.columns = ['name', 'canton', 'lat', 'long']\n",
    "geolocalized_df.head()"
   ]
  },
  {
   "cell_type": "code",
   "execution_count": 15,
   "metadata": {
    "collapsed": false
   },
   "outputs": [
    {
     "data": {
      "text/html": [
       "<div>\n",
       "<table border=\"1\" class=\"dataframe\">\n",
       "  <thead>\n",
       "    <tr style=\"text-align: right;\">\n",
       "      <th></th>\n",
       "      <th>Institution</th>\n",
       "      <th>University</th>\n",
       "      <th>Approved Amount</th>\n",
       "    </tr>\n",
       "  </thead>\n",
       "  <tbody>\n",
       "    <tr>\n",
       "      <th>0</th>\n",
       "      <td>NaN</td>\n",
       "      <td>Nicht zuteilbar - NA</td>\n",
       "      <td>11619.0</td>\n",
       "    </tr>\n",
       "    <tr>\n",
       "      <th>1</th>\n",
       "      <td>Faculté de Psychologie et des Sciences de l'Ed...</td>\n",
       "      <td>Université de Genève - GE</td>\n",
       "      <td>41022.0</td>\n",
       "    </tr>\n",
       "    <tr>\n",
       "      <th>2</th>\n",
       "      <td>Kommission für das Corpus philosophorum medii ...</td>\n",
       "      <td>NPO (Biblioth., Museen, Verwalt.) - NPO</td>\n",
       "      <td>79732.0</td>\n",
       "    </tr>\n",
       "    <tr>\n",
       "      <th>3</th>\n",
       "      <td>Abt. Handschriften und Alte Drucke Bibliothek ...</td>\n",
       "      <td>Universität Basel - BS</td>\n",
       "      <td>52627.0</td>\n",
       "    </tr>\n",
       "    <tr>\n",
       "      <th>4</th>\n",
       "      <td>Schweiz. Thesauruskommission</td>\n",
       "      <td>NPO (Biblioth., Museen, Verwalt.) - NPO</td>\n",
       "      <td>120042.0</td>\n",
       "    </tr>\n",
       "  </tbody>\n",
       "</table>\n",
       "</div>"
      ],
      "text/plain": [
       "                                         Institution  \\\n",
       "0                                                NaN   \n",
       "1  Faculté de Psychologie et des Sciences de l'Ed...   \n",
       "2  Kommission für das Corpus philosophorum medii ...   \n",
       "3  Abt. Handschriften und Alte Drucke Bibliothek ...   \n",
       "4                       Schweiz. Thesauruskommission   \n",
       "\n",
       "                                University  Approved Amount  \n",
       "0                     Nicht zuteilbar - NA          11619.0  \n",
       "1                Université de Genève - GE          41022.0  \n",
       "2  NPO (Biblioth., Museen, Verwalt.) - NPO          79732.0  \n",
       "3                   Universität Basel - BS          52627.0  \n",
       "4  NPO (Biblioth., Museen, Verwalt.) - NPO         120042.0  "
      ]
     },
     "execution_count": 15,
     "metadata": {},
     "output_type": "execute_result"
    }
   ],
   "source": [
    "has_uni.head()"
   ]
  },
  {
   "cell_type": "markdown",
   "metadata": {},
   "source": [
    "## TODO's\n",
    "* merge geolocalized_df with has_uni\n",
    "* supply it to chris's method\n",
    "* display on map\n",
    "* do a bonus exercise"
   ]
  },
  {
   "cell_type": "code",
   "execution_count": 16,
   "metadata": {
    "collapsed": false
   },
   "outputs": [
    {
     "data": {
      "text/html": [
       "<div>\n",
       "<table border=\"1\" class=\"dataframe\">\n",
       "  <thead>\n",
       "    <tr style=\"text-align: right;\">\n",
       "      <th></th>\n",
       "      <th>University</th>\n",
       "      <th>Code</th>\n",
       "    </tr>\n",
       "  </thead>\n",
       "  <tbody>\n",
       "    <tr>\n",
       "      <th>0</th>\n",
       "      <td>Nicht zuteilbar</td>\n",
       "      <td>NA</td>\n",
       "    </tr>\n",
       "    <tr>\n",
       "      <th>1</th>\n",
       "      <td>Université de Genève</td>\n",
       "      <td>GE</td>\n",
       "    </tr>\n",
       "    <tr>\n",
       "      <th>2</th>\n",
       "      <td>NPO (Biblioth., Museen, Verwalt.)</td>\n",
       "      <td>NPO</td>\n",
       "    </tr>\n",
       "    <tr>\n",
       "      <th>3</th>\n",
       "      <td>Universität Basel</td>\n",
       "      <td>BS</td>\n",
       "    </tr>\n",
       "    <tr>\n",
       "      <th>4</th>\n",
       "      <td>NPO (Biblioth., Museen, Verwalt.)</td>\n",
       "      <td>NPO</td>\n",
       "    </tr>\n",
       "  </tbody>\n",
       "</table>\n",
       "</div>"
      ],
      "text/plain": [
       "                          University Code\n",
       "0                    Nicht zuteilbar   NA\n",
       "1               Université de Genève   GE\n",
       "2  NPO (Biblioth., Museen, Verwalt.)  NPO\n",
       "3                  Universität Basel   BS\n",
       "4  NPO (Biblioth., Museen, Verwalt.)  NPO"
      ]
     },
     "execution_count": 16,
     "metadata": {},
     "output_type": "execute_result"
    }
   ],
   "source": [
    "# TO BE VERIFIED IF STILL NEEDED\n",
    "has_code = has_uni['University'].str.extract('(?P<University>.*?(?= -))(?P<delim>\\ -\\ )(?P<Code>.*)', expand=True).drop('delim', axis=1)\n",
    "has_code.head()"
   ]
  },
  {
   "cell_type": "code",
   "execution_count": 17,
   "metadata": {
    "collapsed": false
   },
   "outputs": [
    {
     "data": {
      "text/html": [
       "<div>\n",
       "<table border=\"1\" class=\"dataframe\">\n",
       "  <thead>\n",
       "    <tr style=\"text-align: right;\">\n",
       "      <th></th>\n",
       "      <th>University</th>\n",
       "      <th>Code</th>\n",
       "    </tr>\n",
       "  </thead>\n",
       "  <tbody>\n",
       "    <tr>\n",
       "      <th>1</th>\n",
       "      <td>Université de Genève</td>\n",
       "      <td>GE</td>\n",
       "    </tr>\n",
       "    <tr>\n",
       "      <th>3</th>\n",
       "      <td>Universität Basel</td>\n",
       "      <td>BS</td>\n",
       "    </tr>\n",
       "    <tr>\n",
       "      <th>5</th>\n",
       "      <td>Université de Fribourg</td>\n",
       "      <td>FR</td>\n",
       "    </tr>\n",
       "    <tr>\n",
       "      <th>6</th>\n",
       "      <td>Université de Fribourg</td>\n",
       "      <td>FR</td>\n",
       "    </tr>\n",
       "    <tr>\n",
       "      <th>7</th>\n",
       "      <td>Universität Zürich</td>\n",
       "      <td>ZH</td>\n",
       "    </tr>\n",
       "  </tbody>\n",
       "</table>\n",
       "</div>"
      ],
      "text/plain": [
       "               University Code\n",
       "1    Université de Genève   GE\n",
       "3       Universität Basel   BS\n",
       "5  Université de Fribourg   FR\n",
       "6  Université de Fribourg   FR\n",
       "7      Universität Zürich   ZH"
      ]
     },
     "execution_count": 17,
     "metadata": {},
     "output_type": "execute_result"
    }
   ],
   "source": [
    "# TO BE VERIFIED IF STILL NEEDED\n",
    "\n",
    "# Drop NAs and NPOs in Canton Codes (not avaialable and NGOs)\n",
    "has_code = has_code[has_code.Code != 'NPO']\n",
    "has_code = has_code[has_code.Code != 'NA']\n",
    "has_code.head()"
   ]
  },
  {
   "cell_type": "code",
   "execution_count": 18,
   "metadata": {
    "collapsed": false
   },
   "outputs": [
    {
     "name": "stdout",
     "output_type": "stream",
     "text": [
      "(27702,)\n"
     ]
    }
   ],
   "source": [
    "# TO BE VERIFIED IF STILL NEEDED\n",
    "\n",
    "# For these rows, we allready have the canton code\n",
    "has_canton_code = has_code['Code'][has_code['Code'].apply(is_canton_code)].rename('Canton code')\n",
    "\n",
    "print(has_canton_code.index.shape)"
   ]
  },
  {
   "cell_type": "code",
   "execution_count": 19,
   "metadata": {
    "collapsed": false
   },
   "outputs": [
    {
     "data": {
      "text/html": [
       "<div>\n",
       "<table border=\"1\" class=\"dataframe\">\n",
       "  <thead>\n",
       "    <tr style=\"text-align: right;\">\n",
       "      <th></th>\n",
       "      <th>Name</th>\n",
       "      <th>Kanton</th>\n",
       "    </tr>\n",
       "  </thead>\n",
       "  <tbody>\n",
       "    <tr>\n",
       "      <th>0</th>\n",
       "      <td>Zürich</td>\n",
       "      <td>Zürich</td>\n",
       "    </tr>\n",
       "    <tr>\n",
       "      <th>1</th>\n",
       "      <td>Genf</td>\n",
       "      <td>Genf</td>\n",
       "    </tr>\n",
       "    <tr>\n",
       "      <th>2</th>\n",
       "      <td>Basel</td>\n",
       "      <td>Basel-Stadt</td>\n",
       "    </tr>\n",
       "    <tr>\n",
       "      <th>3</th>\n",
       "      <td>Lausanne</td>\n",
       "      <td>Waadt</td>\n",
       "    </tr>\n",
       "    <tr>\n",
       "      <th>4</th>\n",
       "      <td>Bern</td>\n",
       "      <td>Bern</td>\n",
       "    </tr>\n",
       "    <tr>\n",
       "      <th>5</th>\n",
       "      <td>Winterthur</td>\n",
       "      <td>Zürich</td>\n",
       "    </tr>\n",
       "    <tr>\n",
       "      <th>6</th>\n",
       "      <td>Luzern</td>\n",
       "      <td>Luzern</td>\n",
       "    </tr>\n",
       "    <tr>\n",
       "      <th>7</th>\n",
       "      <td>St. Gallen</td>\n",
       "      <td>Gallen</td>\n",
       "    </tr>\n",
       "    <tr>\n",
       "      <th>8</th>\n",
       "      <td>Lugano</td>\n",
       "      <td>Tessin</td>\n",
       "    </tr>\n",
       "    <tr>\n",
       "      <th>9</th>\n",
       "      <td>Biel/Bienne</td>\n",
       "      <td>Bern</td>\n",
       "    </tr>\n",
       "  </tbody>\n",
       "</table>\n",
       "</div>"
      ],
      "text/plain": [
       "          Name       Kanton\n",
       "0       Zürich       Zürich\n",
       "1         Genf         Genf\n",
       "2        Basel  Basel-Stadt\n",
       "3     Lausanne        Waadt\n",
       "4         Bern         Bern\n",
       "5   Winterthur       Zürich\n",
       "6       Luzern       Luzern\n",
       "7   St. Gallen       Gallen\n",
       "8       Lugano       Tessin\n",
       "9  Biel/Bienne         Bern"
      ]
     },
     "execution_count": 19,
     "metadata": {},
     "output_type": "execute_result"
    }
   ],
   "source": [
    "# For the rest, we will try to get the canton code by parsing city name from university/institution column\n",
    "\n",
    "# Load data for swiss cities (german names)\n",
    "columns = ['Name', 'Kanton']\n",
    "swiss_cities = pd.read_csv(\"swiss_cities.csv\", delimiter='\\t', usecols=columns, na_values=['data not included in P3', 'nan'])\n",
    "swiss_cities['Kanton'] = swiss_cities['Kanton'].str.split().str[2]\n",
    "swiss_cities.head(10)"
   ]
  },
  {
   "cell_type": "code",
   "execution_count": 20,
   "metadata": {
    "collapsed": false
   },
   "outputs": [
    {
     "data": {
      "text/html": [
       "<div>\n",
       "<table border=\"1\" class=\"dataframe\">\n",
       "  <thead>\n",
       "    <tr style=\"text-align: right;\">\n",
       "      <th></th>\n",
       "      <th>Code</th>\n",
       "      <th>Kanton</th>\n",
       "    </tr>\n",
       "  </thead>\n",
       "  <tbody>\n",
       "    <tr>\n",
       "      <th>0</th>\n",
       "      <td>ZH</td>\n",
       "      <td>Zürich</td>\n",
       "    </tr>\n",
       "    <tr>\n",
       "      <th>1</th>\n",
       "      <td>BE</td>\n",
       "      <td>Bern</td>\n",
       "    </tr>\n",
       "    <tr>\n",
       "      <th>2</th>\n",
       "      <td>LU</td>\n",
       "      <td>Luzern</td>\n",
       "    </tr>\n",
       "    <tr>\n",
       "      <th>3</th>\n",
       "      <td>UR</td>\n",
       "      <td>Uri</td>\n",
       "    </tr>\n",
       "    <tr>\n",
       "      <th>4</th>\n",
       "      <td>SZ</td>\n",
       "      <td>Schwyz</td>\n",
       "    </tr>\n",
       "    <tr>\n",
       "      <th>5</th>\n",
       "      <td>OW</td>\n",
       "      <td>Obwalden</td>\n",
       "    </tr>\n",
       "    <tr>\n",
       "      <th>6</th>\n",
       "      <td>NW</td>\n",
       "      <td>Nidwalden</td>\n",
       "    </tr>\n",
       "    <tr>\n",
       "      <th>7</th>\n",
       "      <td>GL</td>\n",
       "      <td>Glarus</td>\n",
       "    </tr>\n",
       "    <tr>\n",
       "      <th>8</th>\n",
       "      <td>ZG</td>\n",
       "      <td>Zug</td>\n",
       "    </tr>\n",
       "    <tr>\n",
       "      <th>9</th>\n",
       "      <td>FR</td>\n",
       "      <td>Freiburg</td>\n",
       "    </tr>\n",
       "  </tbody>\n",
       "</table>\n",
       "</div>"
      ],
      "text/plain": [
       "  Code     Kanton\n",
       "0   ZH     Zürich\n",
       "1   BE       Bern\n",
       "2   LU     Luzern\n",
       "3   UR        Uri\n",
       "4   SZ     Schwyz\n",
       "5   OW   Obwalden\n",
       "6   NW  Nidwalden\n",
       "7   GL     Glarus\n",
       "8   ZG        Zug\n",
       "9   FR   Freiburg"
      ]
     },
     "execution_count": 20,
     "metadata": {},
     "output_type": "execute_result"
    }
   ],
   "source": [
    "# Load data for swiss cantons\n",
    "columns = ['Code', 'Kanton']\n",
    "swiss_cantons_full = pd.read_csv(\"swiss_cantons_full.csv\", delimiter='\\t', usecols=columns, na_values=['data not included in P3', 'nan'])\n",
    "swiss_cantons_full['Kanton'] = swiss_cantons_full['Kanton'].str.split().str[2]\n",
    "swiss_cantons_full.head(10)"
   ]
  },
  {
   "cell_type": "code",
   "execution_count": 21,
   "metadata": {
    "collapsed": false
   },
   "outputs": [
    {
     "data": {
      "text/html": [
       "<div>\n",
       "<table border=\"1\" class=\"dataframe\">\n",
       "  <thead>\n",
       "    <tr style=\"text-align: right;\">\n",
       "      <th></th>\n",
       "      <th>Name</th>\n",
       "      <th>Canton</th>\n",
       "    </tr>\n",
       "  </thead>\n",
       "  <tbody>\n",
       "    <tr>\n",
       "      <th>0</th>\n",
       "      <td>Zürich</td>\n",
       "      <td>ZH</td>\n",
       "    </tr>\n",
       "    <tr>\n",
       "      <th>1</th>\n",
       "      <td>Winterthur</td>\n",
       "      <td>ZH</td>\n",
       "    </tr>\n",
       "    <tr>\n",
       "      <th>2</th>\n",
       "      <td>Uster</td>\n",
       "      <td>ZH</td>\n",
       "    </tr>\n",
       "    <tr>\n",
       "      <th>3</th>\n",
       "      <td>Dübendorf</td>\n",
       "      <td>ZH</td>\n",
       "    </tr>\n",
       "    <tr>\n",
       "      <th>4</th>\n",
       "      <td>Dietikon</td>\n",
       "      <td>ZH</td>\n",
       "    </tr>\n",
       "    <tr>\n",
       "      <th>5</th>\n",
       "      <td>Wetzikon</td>\n",
       "      <td>ZH</td>\n",
       "    </tr>\n",
       "    <tr>\n",
       "      <th>6</th>\n",
       "      <td>Wädenswil</td>\n",
       "      <td>ZH</td>\n",
       "    </tr>\n",
       "    <tr>\n",
       "      <th>7</th>\n",
       "      <td>Horgen</td>\n",
       "      <td>ZH</td>\n",
       "    </tr>\n",
       "    <tr>\n",
       "      <th>8</th>\n",
       "      <td>Bülach</td>\n",
       "      <td>ZH</td>\n",
       "    </tr>\n",
       "    <tr>\n",
       "      <th>9</th>\n",
       "      <td>Adliswil</td>\n",
       "      <td>ZH</td>\n",
       "    </tr>\n",
       "    <tr>\n",
       "      <th>10</th>\n",
       "      <td>Volketswil</td>\n",
       "      <td>ZH</td>\n",
       "    </tr>\n",
       "    <tr>\n",
       "      <th>11</th>\n",
       "      <td>Kloten</td>\n",
       "      <td>ZH</td>\n",
       "    </tr>\n",
       "    <tr>\n",
       "      <th>12</th>\n",
       "      <td>Schlieren</td>\n",
       "      <td>ZH</td>\n",
       "    </tr>\n",
       "    <tr>\n",
       "      <th>13</th>\n",
       "      <td>Thalwil</td>\n",
       "      <td>ZH</td>\n",
       "    </tr>\n",
       "    <tr>\n",
       "      <th>14</th>\n",
       "      <td>Regensdorf</td>\n",
       "      <td>ZH</td>\n",
       "    </tr>\n",
       "    <tr>\n",
       "      <th>15</th>\n",
       "      <td>Opfikon</td>\n",
       "      <td>ZH</td>\n",
       "    </tr>\n",
       "    <tr>\n",
       "      <th>16</th>\n",
       "      <td>Illnau-Effretikon</td>\n",
       "      <td>ZH</td>\n",
       "    </tr>\n",
       "    <tr>\n",
       "      <th>17</th>\n",
       "      <td>Wallisellen</td>\n",
       "      <td>ZH</td>\n",
       "    </tr>\n",
       "    <tr>\n",
       "      <th>18</th>\n",
       "      <td>Stäfa</td>\n",
       "      <td>ZH</td>\n",
       "    </tr>\n",
       "    <tr>\n",
       "      <th>19</th>\n",
       "      <td>Küsnacht</td>\n",
       "      <td>ZH</td>\n",
       "    </tr>\n",
       "  </tbody>\n",
       "</table>\n",
       "</div>"
      ],
      "text/plain": [
       "                 Name Canton\n",
       "0              Zürich     ZH\n",
       "1          Winterthur     ZH\n",
       "2               Uster     ZH\n",
       "3           Dübendorf     ZH\n",
       "4            Dietikon     ZH\n",
       "5            Wetzikon     ZH\n",
       "6           Wädenswil     ZH\n",
       "7              Horgen     ZH\n",
       "8              Bülach     ZH\n",
       "9            Adliswil     ZH\n",
       "10         Volketswil     ZH\n",
       "11             Kloten     ZH\n",
       "12          Schlieren     ZH\n",
       "13            Thalwil     ZH\n",
       "14         Regensdorf     ZH\n",
       "15            Opfikon     ZH\n",
       "16  Illnau-Effretikon     ZH\n",
       "17        Wallisellen     ZH\n",
       "18              Stäfa     ZH\n",
       "19           Küsnacht     ZH"
      ]
     },
     "execution_count": 21,
     "metadata": {},
     "output_type": "execute_result"
    }
   ],
   "source": [
    "#Add canton code to our loaded cities\n",
    "swiss_cities_german = swiss_cities.merge(swiss_cantons_full, on='Kanton')\n",
    "del swiss_cities_german['Kanton']\n",
    "swiss_cities_german.columns = ['Name', 'Canton']\n",
    "swiss_cities_german.head(20)"
   ]
  },
  {
   "cell_type": "code",
   "execution_count": 22,
   "metadata": {
    "collapsed": false
   },
   "outputs": [
    {
     "data": {
      "text/html": [
       "<div>\n",
       "<table border=\"1\" class=\"dataframe\">\n",
       "  <thead>\n",
       "    <tr style=\"text-align: right;\">\n",
       "      <th></th>\n",
       "      <th>Name</th>\n",
       "      <th>Canton</th>\n",
       "    </tr>\n",
       "  </thead>\n",
       "  <tbody>\n",
       "    <tr>\n",
       "      <th>0</th>\n",
       "      <td>Aarau</td>\n",
       "      <td>AG</td>\n",
       "    </tr>\n",
       "    <tr>\n",
       "      <th>1</th>\n",
       "      <td>Aarberg</td>\n",
       "      <td>BE</td>\n",
       "    </tr>\n",
       "    <tr>\n",
       "      <th>2</th>\n",
       "      <td>Aarburg</td>\n",
       "      <td>AG</td>\n",
       "    </tr>\n",
       "    <tr>\n",
       "      <th>3</th>\n",
       "      <td>Adliswil</td>\n",
       "      <td>ZH</td>\n",
       "    </tr>\n",
       "    <tr>\n",
       "      <th>4</th>\n",
       "      <td>Aesch (BL)</td>\n",
       "      <td>BL</td>\n",
       "    </tr>\n",
       "    <tr>\n",
       "      <th>5</th>\n",
       "      <td>Affoltern am Albis</td>\n",
       "      <td>ZH</td>\n",
       "    </tr>\n",
       "    <tr>\n",
       "      <th>6</th>\n",
       "      <td>Agno</td>\n",
       "      <td>TI</td>\n",
       "    </tr>\n",
       "    <tr>\n",
       "      <th>7</th>\n",
       "      <td>Aigle</td>\n",
       "      <td>VD</td>\n",
       "    </tr>\n",
       "    <tr>\n",
       "      <th>8</th>\n",
       "      <td>Allschwil</td>\n",
       "      <td>BL</td>\n",
       "    </tr>\n",
       "    <tr>\n",
       "      <th>9</th>\n",
       "      <td>Altdorf (UR)</td>\n",
       "      <td>UR</td>\n",
       "    </tr>\n",
       "  </tbody>\n",
       "</table>\n",
       "</div>"
      ],
      "text/plain": [
       "                 Name Canton\n",
       "0               Aarau     AG\n",
       "1             Aarberg     BE\n",
       "2             Aarburg     AG\n",
       "3            Adliswil     ZH\n",
       "4          Aesch (BL)     BL\n",
       "5  Affoltern am Albis     ZH\n",
       "6                Agno     TI\n",
       "7               Aigle     VD\n",
       "8           Allschwil     BL\n",
       "9        Altdorf (UR)     UR"
      ]
     },
     "execution_count": 22,
     "metadata": {},
     "output_type": "execute_result"
    }
   ],
   "source": [
    "# Load data for swiss towns (english names)\n",
    "columns = ['Town', 'Canton']\n",
    "swiss_cities_english = pd.read_csv(\"swiss_towns.csv\", delimiter='\\t', usecols=columns, na_values=['data not included in P3', 'nan'])\n",
    "#swiss_towns.set_index('Town', inplace=True)\n",
    "swiss_cities_english.columns = ['Name', 'Canton']\n",
    "swiss_cities_english.head(10)"
   ]
  },
  {
   "cell_type": "code",
   "execution_count": 23,
   "metadata": {
    "collapsed": false
   },
   "outputs": [
    {
     "data": {
      "text/html": [
       "<div>\n",
       "<table border=\"1\" class=\"dataframe\">\n",
       "  <thead>\n",
       "    <tr style=\"text-align: right;\">\n",
       "      <th></th>\n",
       "      <th>Name</th>\n",
       "      <th>Canton</th>\n",
       "    </tr>\n",
       "  </thead>\n",
       "  <tbody>\n",
       "    <tr>\n",
       "      <th>0</th>\n",
       "      <td>Zurich</td>\n",
       "      <td>ZH</td>\n",
       "    </tr>\n",
       "    <tr>\n",
       "      <th>1</th>\n",
       "      <td>Genève</td>\n",
       "      <td>GE</td>\n",
       "    </tr>\n",
       "    <tr>\n",
       "      <th>2</th>\n",
       "      <td>Bâle</td>\n",
       "      <td>BS</td>\n",
       "    </tr>\n",
       "    <tr>\n",
       "      <th>3</th>\n",
       "      <td>Lausanne</td>\n",
       "      <td>VD</td>\n",
       "    </tr>\n",
       "    <tr>\n",
       "      <th>4</th>\n",
       "      <td>Berne</td>\n",
       "      <td>BE</td>\n",
       "    </tr>\n",
       "    <tr>\n",
       "      <th>5</th>\n",
       "      <td>Winterthour</td>\n",
       "      <td>ZH</td>\n",
       "    </tr>\n",
       "    <tr>\n",
       "      <th>6</th>\n",
       "      <td>Lucerne</td>\n",
       "      <td>LU</td>\n",
       "    </tr>\n",
       "    <tr>\n",
       "      <th>7</th>\n",
       "      <td>Saint-Gall</td>\n",
       "      <td>SG</td>\n",
       "    </tr>\n",
       "    <tr>\n",
       "      <th>8</th>\n",
       "      <td>Lugano</td>\n",
       "      <td>TI</td>\n",
       "    </tr>\n",
       "    <tr>\n",
       "      <th>9</th>\n",
       "      <td>Bienne</td>\n",
       "      <td>BE</td>\n",
       "    </tr>\n",
       "  </tbody>\n",
       "</table>\n",
       "</div>"
      ],
      "text/plain": [
       "          Name Canton\n",
       "0       Zurich     ZH\n",
       "1       Genève     GE\n",
       "2         Bâle     BS\n",
       "3     Lausanne     VD\n",
       "4        Berne     BE\n",
       "5  Winterthour     ZH\n",
       "6      Lucerne     LU\n",
       "7   Saint-Gall     SG\n",
       "8       Lugano     TI\n",
       "9       Bienne     BE"
      ]
     },
     "execution_count": 23,
     "metadata": {},
     "output_type": "execute_result"
    }
   ],
   "source": [
    "# Load data for swiss towns (French names)\n",
    "columns = ['Ville']\n",
    "swiss_cities_french = pd.read_csv(\"swiss_cities_french.csv\", delimiter='\\t', usecols=columns, na_values=['french nan', 'nan'])\n",
    "#swiss_towns.set_index('Ville', inplace=True)\n",
    "swiss_cities_french = swiss_cities_french['Ville'].str.split(', ', expand=True)\n",
    "swiss_cities_french.columns = ['Name', 'Canton']\n",
    "swiss_cities_french.head(10)"
   ]
  },
  {
   "cell_type": "code",
   "execution_count": null,
   "metadata": {
    "collapsed": false
   },
   "outputs": [
    {
     "data": {
      "text/html": [
       "<div>\n",
       "<table border=\"1\" class=\"dataframe\">\n",
       "  <thead>\n",
       "    <tr style=\"text-align: right;\">\n",
       "      <th></th>\n",
       "      <th>Canton</th>\n",
       "    </tr>\n",
       "    <tr>\n",
       "      <th>Name</th>\n",
       "      <th></th>\n",
       "    </tr>\n",
       "  </thead>\n",
       "  <tbody>\n",
       "    <tr>\n",
       "      <th>Aarau</th>\n",
       "      <td>AG</td>\n",
       "    </tr>\n",
       "    <tr>\n",
       "      <th>Aarberg</th>\n",
       "      <td>BE</td>\n",
       "    </tr>\n",
       "    <tr>\n",
       "      <th>Aarburg</th>\n",
       "      <td>AG</td>\n",
       "    </tr>\n",
       "    <tr>\n",
       "      <th>Adliswil</th>\n",
       "      <td>ZH</td>\n",
       "    </tr>\n",
       "    <tr>\n",
       "      <th>Aesch (BL)</th>\n",
       "      <td>BL</td>\n",
       "    </tr>\n",
       "    <tr>\n",
       "      <th>Affoltern am Albis</th>\n",
       "      <td>ZH</td>\n",
       "    </tr>\n",
       "    <tr>\n",
       "      <th>Agno</th>\n",
       "      <td>TI</td>\n",
       "    </tr>\n",
       "    <tr>\n",
       "      <th>Aigle</th>\n",
       "      <td>VD</td>\n",
       "    </tr>\n",
       "    <tr>\n",
       "      <th>Allschwil</th>\n",
       "      <td>BL</td>\n",
       "    </tr>\n",
       "    <tr>\n",
       "      <th>Altdorf (UR)</th>\n",
       "      <td>UR</td>\n",
       "    </tr>\n",
       "  </tbody>\n",
       "</table>\n",
       "</div>"
      ],
      "text/plain": [
       "                   Canton\n",
       "Name                     \n",
       "Aarau                  AG\n",
       "Aarberg                BE\n",
       "Aarburg                AG\n",
       "Adliswil               ZH\n",
       "Aesch (BL)             BL\n",
       "Affoltern am Albis     ZH\n",
       "Agno                   TI\n",
       "Aigle                  VD\n",
       "Allschwil              BL\n",
       "Altdorf (UR)           UR"
      ]
     },
     "execution_count": 24,
     "metadata": {},
     "output_type": "execute_result"
    }
   ],
   "source": [
    "# Create data frame containing city names in all available languages:\n",
    "# (german, english and french)\n",
    "swiss_cities_dict = pd.concat([swiss_cities_english, swiss_cities_german, swiss_cities_french])\n",
    "swiss_cities_dict.drop_duplicates('Name', inplace=True)\n",
    "swiss_cities_dict.set_index('Name', inplace=True)\n",
    "swiss_cities_dict.head(10)"
   ]
  },
  {
   "cell_type": "code",
   "execution_count": null,
   "metadata": {
    "collapsed": false
   },
   "outputs": [
    {
     "name": "stderr",
     "output_type": "stream",
     "text": [
      "/home/ubuntu/anaconda3/lib/python3.5/site-packages/ipykernel/__main__.py:13: SettingWithCopyWarning: \n",
      "A value is trying to be set on a copy of a slice from a DataFrame\n",
      "\n",
      "See the caveats in the documentation: http://pandas.pydata.org/pandas-docs/stable/indexing.html#indexing-view-versus-copy\n"
     ]
    }
   ],
   "source": [
    "# Direct mapping of canton with our Switzerland town list \n",
    "\n",
    "has_info['Canton'] = np.nan\n",
    "\n",
    "def map_inst_canton(df, column):\n",
    "    for place in df[column].unique():\n",
    "        if str(place) == 'nan':\n",
    "            continue\n",
    "        for word in place.split():\n",
    "            if word in swiss_cities_dict.index:\n",
    "                p = swiss_cities_dict.loc[word]['Canton']\n",
    "                #print(place, \" -> \", p)\n",
    "                df['Canton'][df[column] == place] = p\n",
    "\n",
    "map_inst_canton(has_info, 'Institution')\n",
    "map_inst_canton(has_info, 'University')"
   ]
  },
  {
   "cell_type": "code",
   "execution_count": null,
   "metadata": {
    "collapsed": false
   },
   "outputs": [],
   "source": [
    "clean_cantons = has_info.dropna(subset = ['Canton'])\n",
    "clean_cantons.head()"
   ]
  },
  {
   "cell_type": "code",
   "execution_count": null,
   "metadata": {
    "collapsed": false
   },
   "outputs": [],
   "source": [
    "print('Dropped from original:', get_dropped_perc(has_info, clean_cantons))"
   ]
  },
  {
   "cell_type": "markdown",
   "metadata": {},
   "source": [
    "We are going to parse more results than that but lets work on this small dataset for now."
   ]
  },
  {
   "cell_type": "code",
   "execution_count": null,
   "metadata": {
    "collapsed": false
   },
   "outputs": [],
   "source": [
    "# List of parsed cantons (Note that some are missing! We will handle that!) \n",
    "clean_cantons['Canton'].unique()"
   ]
  },
  {
   "cell_type": "code",
   "execution_count": null,
   "metadata": {
    "collapsed": false
   },
   "outputs": [],
   "source": [
    "#Lets get the amount of subsidy for each canton\n",
    "grouped_cantons = clean_cantons.groupby('Canton')['Approved Amount'].sum()\n",
    "grants_cantons = pd.DataFrame(grouped_cantons)\n",
    "grants_cantons = grants_cantons.reset_index()\n",
    "grants_cantons.head(26)"
   ]
  },
  {
   "cell_type": "code",
   "execution_count": null,
   "metadata": {
    "collapsed": false,
    "scrolled": true
   },
   "outputs": [],
   "source": [
    "# Load data for all swiss cantons\n",
    "columns = ['Name', 'Canton']\n",
    "swiss_cantons = pd.read_csv(\"swiss_cantons.csv\", delimiter='\\t', usecols=columns, na_values=['Not there', 'nan'])\n",
    "swiss_cantons.set_index('Canton', inplace=True)\n",
    "swiss_cantons = swiss_cantons.reset_index()\n",
    "swiss_cantons.head(26)"
   ]
  },
  {
   "cell_type": "code",
   "execution_count": null,
   "metadata": {
    "collapsed": false
   },
   "outputs": [],
   "source": [
    "# Lets merge our parsed cantons with all cantons in CH\n",
    "grants_cantons = swiss_cantons.merge(grants_cantons, how='left')\n",
    "grants_cantons.head(26)"
   ]
  },
  {
   "cell_type": "code",
   "execution_count": null,
   "metadata": {
    "collapsed": false
   },
   "outputs": [],
   "source": [
    "#Fill out those NaN's\n",
    "grants_cantons.fillna(0, inplace=True)\n",
    "grants_cantons"
   ]
  },
  {
   "cell_type": "code",
   "execution_count": null,
   "metadata": {
    "collapsed": false,
    "scrolled": true
   },
   "outputs": [],
   "source": [
    "# And make a first sketch on the map\n",
    "cantons_topo = 'ch-cantons.topojson.json'\n",
    "\n",
    "main_map = folium.Map(location=[46.50,8.20], zoom_start=8)\n",
    "main_map.choropleth(geo_path=cantons_topo, \n",
    "                     data=grants_cantons,\n",
    "                     columns=['Canton', 'Approved Amount'],\n",
    "                     key_on='feature.id',\n",
    "                     topojson='objects.cantons',\n",
    "                     fill_color='YlGnBu',\n",
    "                     legend_name = 'Random numbers'\n",
    "                    )\n",
    "main_map"
   ]
  },
  {
   "cell_type": "markdown",
   "metadata": {},
   "source": [
    "## TODO's\n",
    "* merge geolocalized_df with has_uni\n",
    "* supply it to chris's method\n",
    "* display on map\n",
    "* do a bonus exercise"
   ]
  },
  {
   "cell_type": "code",
   "execution_count": null,
   "metadata": {
    "collapsed": true
   },
   "outputs": [],
   "source": []
  }
 ],
 "metadata": {
  "anaconda-cloud": {},
  "kernelspec": {
   "display_name": "Python [conda root]",
   "language": "python",
   "name": "conda-root-py"
  },
  "language_info": {
   "codemirror_mode": {
    "name": "ipython",
    "version": 3
   },
   "file_extension": ".py",
   "mimetype": "text/x-python",
   "name": "python",
   "nbconvert_exporter": "python",
   "pygments_lexer": "ipython3",
   "version": "3.5.2"
  }
 },
 "nbformat": 4,
 "nbformat_minor": 0
}
