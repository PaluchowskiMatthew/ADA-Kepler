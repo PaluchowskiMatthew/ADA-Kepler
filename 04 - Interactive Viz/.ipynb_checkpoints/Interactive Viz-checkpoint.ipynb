{
 "cells": [
  {
   "cell_type": "markdown",
   "metadata": {},
   "source": [
    "# Interactive Visualization"
   ]
  },
  {
   "cell_type": "code",
   "execution_count": 38,
   "metadata": {
    "collapsed": false
   },
   "outputs": [],
   "source": [
    "#WARNING guys! In order to use folium you are gonna need to run\n",
    "# pip install folium\n",
    "#in your terminal.\n",
    "import folium\n",
    "\n",
    "#Probably gonna use this:\n",
    "\n",
    "# Normal stack of pandas, numpy, matplotlib and seaborn\n",
    "import pandas as pd\n",
    "import numpy as np\n",
    "import matplotlib.pyplot as plt\n",
    "import matplotlib.pylab as pylab\n",
    "import seaborn as sns\n",
    "\n",
    "# For handeling the web requests\n",
    "import requests\n",
    "from collections import defaultdict\n",
    "from pprint import *\n",
    "\n",
    "# Statistical test library\n",
    "import scipy.stats as stats\n",
    "from helpers import *\n",
    "\n",
    "%matplotlib inline"
   ]
  },
  {
   "cell_type": "markdown",
   "metadata": {},
   "source": [
    "Folium: https://github.com/python-visualization/folium\n",
    " \n",
    " Documentation:\n",
    " 1. https://folium.readthedocs.io/en/latest/\n",
    " 2. https://media.readthedocs.org/pdf/folium/latest/folium.pdf"
   ]
  },
  {
   "cell_type": "code",
   "execution_count": 2,
   "metadata": {
    "collapsed": false,
    "scrolled": true
   },
   "outputs": [
    {
     "data": {
      "text/html": [
       "<div style=\"width:100%;\"><div style=\"position:relative;width:100%;height:0;padding-bottom:60%;\"><iframe src=\"data:text/html;base64,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\" style=\"position:absolute;width:100%;height:100%;left:0;top:0;\"></iframe></div></div>"
      ],
      "text/plain": [
       "<folium.folium.Map at 0x7f6ccc4c75f8>"
      ]
     },
     "execution_count": 2,
     "metadata": {},
     "output_type": "execute_result"
    }
   ],
   "source": [
    "#Folium test\n",
    "map_osm = folium.Map(location=[46.8076878,7.1004592], zoom_start=10)\n",
    "map_osm"
   ]
  },
  {
   "cell_type": "markdown",
   "metadata": {},
   "source": [
    "# Data wrangeling"
   ]
  },
  {
   "cell_type": "markdown",
   "metadata": {},
   "source": [
    "Data source (P3_GrantExport.csv)\n",
    "and description of the columns: http://p3.snf.ch/Pages/DataAndDocumentation.aspx"
   ]
  },
  {
   "cell_type": "code",
   "execution_count": 3,
   "metadata": {
    "collapsed": false
   },
   "outputs": [],
   "source": [
    "# Load the data we need. (Columns: Insti)\n",
    "columns = ['Institution', 'University','Approved Amount']\n",
    "p3 = pd.read_csv(\"P3_GrantExport.csv\", delimiter=';', usecols=columns, na_values=['data not included in P3', 'nan'])"
   ]
  },
  {
   "cell_type": "markdown",
   "metadata": {},
   "source": [
    "To be able to work with the data, we have to filter out the values where we have enough information.\n",
    "\n",
    "We start by filtering out the projects where we know at least the University or the institution related to the project"
   ]
  },
  {
   "cell_type": "code",
   "execution_count": 42,
   "metadata": {
    "collapsed": false
   },
   "outputs": [
    {
     "name": "stdout",
     "output_type": "stream",
     "text": [
      "Dropped from original: 2.3261267176288514\n"
     ]
    }
   ],
   "source": [
    "missing__info = p3[p3[['Institution', 'University']].isnull().all(axis=1)].index\n",
    "has_info = p3.drop(missing__info, axis=0)\n",
    "\n",
    "print('Dropped from original:', get_dropped_perc(p3, has_info))\n"
   ]
  },
  {
   "cell_type": "markdown",
   "metadata": {},
   "source": [
    "As we can see, this leaves out 2.33% of the original data."
   ]
  },
  {
   "cell_type": "code",
   "execution_count": 5,
   "metadata": {
    "collapsed": false
   },
   "outputs": [
    {
     "data": {
      "text/html": [
       "<div>\n",
       "<table border=\"1\" class=\"dataframe\">\n",
       "  <thead>\n",
       "    <tr style=\"text-align: right;\">\n",
       "      <th></th>\n",
       "      <th>Institution</th>\n",
       "      <th>University</th>\n",
       "      <th>Approved Amount</th>\n",
       "    </tr>\n",
       "  </thead>\n",
       "  <tbody>\n",
       "    <tr>\n",
       "      <th>0</th>\n",
       "      <td>NaN</td>\n",
       "      <td>Nicht zuteilbar - NA</td>\n",
       "      <td>11619.0</td>\n",
       "    </tr>\n",
       "    <tr>\n",
       "      <th>1</th>\n",
       "      <td>Faculté de Psychologie et des Sciences de l'Ed...</td>\n",
       "      <td>Université de Genève - GE</td>\n",
       "      <td>41022.0</td>\n",
       "    </tr>\n",
       "    <tr>\n",
       "      <th>2</th>\n",
       "      <td>Kommission für das Corpus philosophorum medii ...</td>\n",
       "      <td>NPO (Biblioth., Museen, Verwalt.) - NPO</td>\n",
       "      <td>79732.0</td>\n",
       "    </tr>\n",
       "    <tr>\n",
       "      <th>3</th>\n",
       "      <td>Abt. Handschriften und Alte Drucke Bibliothek ...</td>\n",
       "      <td>Universität Basel - BS</td>\n",
       "      <td>52627.0</td>\n",
       "    </tr>\n",
       "    <tr>\n",
       "      <th>4</th>\n",
       "      <td>Schweiz. Thesauruskommission</td>\n",
       "      <td>NPO (Biblioth., Museen, Verwalt.) - NPO</td>\n",
       "      <td>120042.0</td>\n",
       "    </tr>\n",
       "  </tbody>\n",
       "</table>\n",
       "</div>"
      ],
      "text/plain": [
       "                                         Institution  \\\n",
       "0                                                NaN   \n",
       "1  Faculté de Psychologie et des Sciences de l'Ed...   \n",
       "2  Kommission für das Corpus philosophorum medii ...   \n",
       "3  Abt. Handschriften und Alte Drucke Bibliothek ...   \n",
       "4                       Schweiz. Thesauruskommission   \n",
       "\n",
       "                                University  Approved Amount  \n",
       "0                     Nicht zuteilbar - NA          11619.0  \n",
       "1                Université de Genève - GE          41022.0  \n",
       "2  NPO (Biblioth., Museen, Verwalt.) - NPO          79732.0  \n",
       "3                   Universität Basel - BS          52627.0  \n",
       "4  NPO (Biblioth., Museen, Verwalt.) - NPO         120042.0  "
      ]
     },
     "execution_count": 5,
     "metadata": {},
     "output_type": "execute_result"
    }
   ],
   "source": [
    "grant_info = has_info[has_info[['Approved Amount']].isnull().all(axis=1) == False]\n",
    "grants_data = has_info.loc[grant_info.index]\n",
    "grants_data.head()"
   ]
  },
  {
   "cell_type": "code",
   "execution_count": 6,
   "metadata": {
    "collapsed": false
   },
   "outputs": [
    {
     "name": "stdout",
     "output_type": "stream",
     "text": [
      "Dropped from original: 18.340133502165113\n",
      "Dropped from last step: 16.395384196795824\n"
     ]
    }
   ],
   "source": [
    "print('Dropped from original:', get_dropped_perc(p3, grants_data))\n",
    "print('Dropped from last step:', get_dropped_perc(has_info, grants_data))"
   ]
  },
  {
   "cell_type": "markdown",
   "metadata": {},
   "source": [
    "So, for about 16.4% of the data, we don't have any information about the grant given. "
   ]
  },
  {
   "cell_type": "markdown",
   "metadata": {},
   "source": [
    "# Get the geo info\n",
    "\n",
    "From the description of the dataset, we have the folloring description:\n",
    "> ### Institution\n",
    "> According to the information submitted by the responsible applicant, this is the research institution where the project will largely be carried out. Typically, this is the institution or specific lab where the responsible applicant works. The institution is therefore linked to the application. This field is not structured, but its content is consolidated internally. There is no link in the database to the field University.\n",
    "\n",
    "> ### University\n",
    "> This is the institution where the project will largely be carried out according to the application. Pick list. This field is only filled if the research is carried out at a Swiss institution, otherwise the field remains blank. In the case of mobility fellowships, it is generally left empty.\n",
    "\n",
    "\n",
    "So, we know that for the rows where the university is given, the grant was awarded to a swizz university. However, we do not know much about the cases where we only have the institution information. We descided to look into these cases further."
   ]
  },
  {
   "cell_type": "code",
   "execution_count": 7,
   "metadata": {
    "collapsed": false
   },
   "outputs": [
    {
     "data": {
      "text/html": [
       "<div>\n",
       "<table border=\"1\" class=\"dataframe\">\n",
       "  <thead>\n",
       "    <tr style=\"text-align: right;\">\n",
       "      <th></th>\n",
       "      <th>Institution</th>\n",
       "      <th>University</th>\n",
       "      <th>Approved Amount</th>\n",
       "    </tr>\n",
       "  </thead>\n",
       "  <tbody>\n",
       "    <tr>\n",
       "      <th>0</th>\n",
       "      <td>NaN</td>\n",
       "      <td>Nicht zuteilbar - NA</td>\n",
       "      <td>11619.0</td>\n",
       "    </tr>\n",
       "    <tr>\n",
       "      <th>1</th>\n",
       "      <td>Faculté de Psychologie et des Sciences de l'Ed...</td>\n",
       "      <td>Université de Genève - GE</td>\n",
       "      <td>41022.0</td>\n",
       "    </tr>\n",
       "    <tr>\n",
       "      <th>2</th>\n",
       "      <td>Kommission für das Corpus philosophorum medii ...</td>\n",
       "      <td>NPO (Biblioth., Museen, Verwalt.) - NPO</td>\n",
       "      <td>79732.0</td>\n",
       "    </tr>\n",
       "    <tr>\n",
       "      <th>3</th>\n",
       "      <td>Abt. Handschriften und Alte Drucke Bibliothek ...</td>\n",
       "      <td>Universität Basel - BS</td>\n",
       "      <td>52627.0</td>\n",
       "    </tr>\n",
       "    <tr>\n",
       "      <th>4</th>\n",
       "      <td>Schweiz. Thesauruskommission</td>\n",
       "      <td>NPO (Biblioth., Museen, Verwalt.) - NPO</td>\n",
       "      <td>120042.0</td>\n",
       "    </tr>\n",
       "  </tbody>\n",
       "</table>\n",
       "</div>"
      ],
      "text/plain": [
       "                                         Institution  \\\n",
       "0                                                NaN   \n",
       "1  Faculté de Psychologie et des Sciences de l'Ed...   \n",
       "2  Kommission für das Corpus philosophorum medii ...   \n",
       "3  Abt. Handschriften und Alte Drucke Bibliothek ...   \n",
       "4                       Schweiz. Thesauruskommission   \n",
       "\n",
       "                                University  Approved Amount  \n",
       "0                     Nicht zuteilbar - NA          11619.0  \n",
       "1                Université de Genève - GE          41022.0  \n",
       "2  NPO (Biblioth., Museen, Verwalt.) - NPO          79732.0  \n",
       "3                   Universität Basel - BS          52627.0  \n",
       "4  NPO (Biblioth., Museen, Verwalt.) - NPO         120042.0  "
      ]
     },
     "execution_count": 7,
     "metadata": {},
     "output_type": "execute_result"
    }
   ],
   "source": [
    "has_uni = has_info[has_info['University'].isnull() == False]\n",
    "has_uni.head()"
   ]
  },
  {
   "cell_type": "code",
   "execution_count": 8,
   "metadata": {
    "collapsed": false
   },
   "outputs": [
    {
     "name": "stdout",
     "output_type": "stream",
     "text": [
      "Dropped from original: 20.292641748346853\n",
      "Dropped from last step: 2.3910255183107743\n"
     ]
    }
   ],
   "source": [
    "print('Dropped from original:', get_dropped_perc(p3, has_uni))\n",
    "print('Dropped from last step:', get_dropped_perc(grants_data, has_uni))"
   ]
  },
  {
   "cell_type": "code",
   "execution_count": 9,
   "metadata": {
    "collapsed": false
   },
   "outputs": [
    {
     "data": {
      "text/html": [
       "<div>\n",
       "<table border=\"1\" class=\"dataframe\">\n",
       "  <thead>\n",
       "    <tr style=\"text-align: right;\">\n",
       "      <th></th>\n",
       "      <th>University</th>\n",
       "      <th>Code</th>\n",
       "    </tr>\n",
       "  </thead>\n",
       "  <tbody>\n",
       "    <tr>\n",
       "      <th>0</th>\n",
       "      <td>Nicht zuteilbar</td>\n",
       "      <td>NA</td>\n",
       "    </tr>\n",
       "    <tr>\n",
       "      <th>1</th>\n",
       "      <td>Université de Genève</td>\n",
       "      <td>GE</td>\n",
       "    </tr>\n",
       "    <tr>\n",
       "      <th>2</th>\n",
       "      <td>NPO (Biblioth., Museen, Verwalt.)</td>\n",
       "      <td>NPO</td>\n",
       "    </tr>\n",
       "    <tr>\n",
       "      <th>3</th>\n",
       "      <td>Universität Basel</td>\n",
       "      <td>BS</td>\n",
       "    </tr>\n",
       "    <tr>\n",
       "      <th>4</th>\n",
       "      <td>NPO (Biblioth., Museen, Verwalt.)</td>\n",
       "      <td>NPO</td>\n",
       "    </tr>\n",
       "  </tbody>\n",
       "</table>\n",
       "</div>"
      ],
      "text/plain": [
       "                          University Code\n",
       "0                    Nicht zuteilbar   NA\n",
       "1               Université de Genève   GE\n",
       "2  NPO (Biblioth., Museen, Verwalt.)  NPO\n",
       "3                  Universität Basel   BS\n",
       "4  NPO (Biblioth., Museen, Verwalt.)  NPO"
      ]
     },
     "execution_count": 9,
     "metadata": {},
     "output_type": "execute_result"
    }
   ],
   "source": [
    "has_code = has_uni['University'].str.extract('(?P<University>.*?(?= -))(?P<delim>\\ -\\ )(?P<Code>.*)', expand=True).drop('delim', axis=1)\n",
    "has_code.head()"
   ]
  },
  {
   "cell_type": "code",
   "execution_count": 18,
   "metadata": {
    "collapsed": false
   },
   "outputs": [
    {
     "data": {
      "text/html": [
       "<div>\n",
       "<table border=\"1\" class=\"dataframe\">\n",
       "  <thead>\n",
       "    <tr style=\"text-align: right;\">\n",
       "      <th></th>\n",
       "      <th>University</th>\n",
       "      <th>Code</th>\n",
       "    </tr>\n",
       "  </thead>\n",
       "  <tbody>\n",
       "    <tr>\n",
       "      <th>1</th>\n",
       "      <td>Université de Genève</td>\n",
       "      <td>GE</td>\n",
       "    </tr>\n",
       "    <tr>\n",
       "      <th>3</th>\n",
       "      <td>Universität Basel</td>\n",
       "      <td>BS</td>\n",
       "    </tr>\n",
       "    <tr>\n",
       "      <th>5</th>\n",
       "      <td>Université de Fribourg</td>\n",
       "      <td>FR</td>\n",
       "    </tr>\n",
       "    <tr>\n",
       "      <th>6</th>\n",
       "      <td>Université de Fribourg</td>\n",
       "      <td>FR</td>\n",
       "    </tr>\n",
       "    <tr>\n",
       "      <th>7</th>\n",
       "      <td>Universität Zürich</td>\n",
       "      <td>ZH</td>\n",
       "    </tr>\n",
       "  </tbody>\n",
       "</table>\n",
       "</div>"
      ],
      "text/plain": [
       "               University Code\n",
       "1    Université de Genève   GE\n",
       "3       Universität Basel   BS\n",
       "5  Université de Fribourg   FR\n",
       "6  Université de Fribourg   FR\n",
       "7      Universität Zürich   ZH"
      ]
     },
     "execution_count": 18,
     "metadata": {},
     "output_type": "execute_result"
    }
   ],
   "source": [
    "# Drop NAs and NPOs in Canton Codes (not avaialable and NGOs)\n",
    "has_code = has_code[has_code.Code != 'NPO']\n",
    "has_code = has_code[has_code.Code != 'NA']\n",
    "has_code.head()"
   ]
  },
  {
   "cell_type": "code",
   "execution_count": 19,
   "metadata": {
    "collapsed": false
   },
   "outputs": [
    {
     "data": {
      "text/plain": [
       "Int64Index([    1,     3,     5,     6,     7,     9,    10,    12,    13,\n",
       "               14,\n",
       "            ...\n",
       "            63918, 63919, 63921, 63922, 63927, 63928, 63932, 63934, 63955,\n",
       "            63958],\n",
       "           dtype='int64', length=27702)"
      ]
     },
     "execution_count": 19,
     "metadata": {},
     "output_type": "execute_result"
    }
   ],
   "source": [
    "# For these rows, we allready have the canton code\n",
    "has_canton_code = has_code['Code'][has_code['Code'].apply(is_canton_code)].rename('Canton code')\n",
    "\n",
    "has_canton_code.index"
   ]
  },
  {
   "cell_type": "code",
   "execution_count": 20,
   "metadata": {
    "collapsed": false
   },
   "outputs": [
    {
     "data": {
      "text/html": [
       "<div>\n",
       "<table border=\"1\" class=\"dataframe\">\n",
       "  <thead>\n",
       "    <tr style=\"text-align: right;\">\n",
       "      <th></th>\n",
       "      <th>Institution</th>\n",
       "      <th>University</th>\n",
       "      <th>Approved Amount</th>\n",
       "    </tr>\n",
       "  </thead>\n",
       "  <tbody>\n",
       "    <tr>\n",
       "      <th>8</th>\n",
       "      <td>NaN</td>\n",
       "      <td>Université de Lausanne - LA</td>\n",
       "      <td>25814.0</td>\n",
       "    </tr>\n",
       "    <tr>\n",
       "      <th>19</th>\n",
       "      <td>NaN</td>\n",
       "      <td>Université de Lausanne - LA</td>\n",
       "      <td>14138.0</td>\n",
       "    </tr>\n",
       "    <tr>\n",
       "      <th>29</th>\n",
       "      <td>Eidg. Forschungsanstalt für Wald, Schnee und L...</td>\n",
       "      <td>Eidg. Forschungsanstalt für Wald,Schnee,Land -...</td>\n",
       "      <td>445198.0</td>\n",
       "    </tr>\n",
       "    <tr>\n",
       "      <th>47</th>\n",
       "      <td>Chair of English Literature ETH-Zentrum</td>\n",
       "      <td>ETH Zürich - ETHZ</td>\n",
       "      <td>46200.0</td>\n",
       "    </tr>\n",
       "    <tr>\n",
       "      <th>51</th>\n",
       "      <td>Faculté des lettres Université de Lausanne</td>\n",
       "      <td>Université de Lausanne - LA</td>\n",
       "      <td>74617.0</td>\n",
       "    </tr>\n",
       "  </tbody>\n",
       "</table>\n",
       "</div>"
      ],
      "text/plain": [
       "                                          Institution  \\\n",
       "8                                                 NaN   \n",
       "19                                                NaN   \n",
       "29  Eidg. Forschungsanstalt für Wald, Schnee und L...   \n",
       "47            Chair of English Literature ETH-Zentrum   \n",
       "51         Faculté des lettres Université de Lausanne   \n",
       "\n",
       "                                           University  Approved Amount  \n",
       "8                         Université de Lausanne - LA          25814.0  \n",
       "19                        Université de Lausanne - LA          14138.0  \n",
       "29  Eidg. Forschungsanstalt für Wald,Schnee,Land -...         445198.0  \n",
       "47                                  ETH Zürich - ETHZ          46200.0  \n",
       "51                        Université de Lausanne - LA          74617.0  "
      ]
     },
     "execution_count": 20,
     "metadata": {},
     "output_type": "execute_result"
    }
   ],
   "source": [
    "# For the rest, we will try to get the canton code by requesting the GeoNames web service\n",
    "has_uni_code = has_code['Code'][has_code['Code'].apply(is_canton_code) == False]\n",
    "\n",
    "has_uni_no_cantoncode = has_uni.loc[has_uni_code.index]\n",
    "has_uni_no_cantoncode.head()"
   ]
  },
  {
   "cell_type": "code",
   "execution_count": 21,
   "metadata": {
    "collapsed": false
   },
   "outputs": [],
   "source": [
    "for place in has_uni_no_cantoncode['University'].unique():\n",
    "    if place:\n",
    "        p = geo_lookup(place)\n",
    "    if p:\n",
    "        print(place)\n",
    "        pprint(p)"
   ]
  },
  {
   "cell_type": "code",
   "execution_count": 44,
   "metadata": {
    "collapsed": false
   },
   "outputs": [
    {
     "name": "stdout",
     "output_type": "stream",
     "text": [
      "Faculté de Psychologie et des Sciences de l'Education Université de Genève None\n",
      "Kommission für das Corpus philosophorum medii aevi der SGG None\n",
      "Abt. Handschriften und Alte Drucke Bibliothek der Universität Basel None\n",
      "Schweiz. Thesauruskommission None\n",
      "Séminaire de politique économique, d'économie internationale et d'économie régionale None\n",
      "Institut für ökumenische Studien Université de Fribourg None\n",
      "Ostasiatisches Seminar Universität Zürich None\n",
      "Laboratoire de Didactique et Epistémologie des Sciences Université de Genève None\n",
      "Klinische Psychologie und Psychotherapie Institut für Psychologie Universität Bern None\n",
      "Schweizerische Rechtsquellen c/o Universität Zürich / RWI None\n",
      "Département de Sociologie Faculté des Sciences de la Société Université de Genève None\n",
      "Institut für Volkswirtschaft WWZ / FGS Universität Basel None\n",
      "Soziologisches Institut Universität Zürich None\n",
      "Forschungszentrum FAL None\n",
      "Forschungsbereich Politisches Verhalten und Oeffentliche Meinung Inst. für Politikwissenschaft None\n",
      "Département des langues et des littératures françaises et latines médiévales Faculté des Lettres / Université de Genève None\n",
      "Schweizerische Gesellschaft für Volkskunde None\n",
      "Kuratorium Carl J. Burckhardt None\n",
      "Eidg. Forschungsanstalt für Wald, Schnee und Landschaft WSL None\n",
      "Schweizerisches Nationalmuseum Landesmuseum Zürich None\n",
      "Fondation Hardt pour l'étude de l'Antiquité classique None\n",
      "Institut für Iberoromanistik Universität Basel None\n",
      "Historische und Antiquarische Gesellschaft zu Basel None\n",
      "Faculté de Théologie Université de Genève None\n",
      "Schweizerisches Institut für Volkskunde (SIV) None\n",
      "Bibliothèque de Genève Département des périodiques None\n",
      "Ägyptologisches Seminar Departement Altertumswissenschaften Universität Basel None\n",
      "Chair of English Literature ETH-Zentrum None\n",
      "Klassische Archäologie Departement Altertumswissenschaft Universität Basel None\n",
      "Institut d'architecture Université de Genève None\n",
      "Faculté des lettres Université de Lausanne None\n",
      "Kommission zur Herausgabe der Basler Rektoratsmatrikel None\n",
      "Institut de sociologie et de sciences politiques Université de Neuchâtel None\n",
      "Collège secondaire de Béthusy None\n",
      "Département de science politique SES Université de Genève None\n",
      "Département des Sciences Politiques IUHEI None\n",
      "Section de français et de littérature comparée Université de Lausanne None\n",
      "Forum Ost-West None\n",
      "Institut für Philosophie Universität Bern None\n",
      "Département de droit constitutionnel Faculté de droit Université de Genève None\n",
      "Seminar für Rechnungswesen und Finanzmanagement Universität Freiburg None\n",
      "AGGS Staatsarchiv None\n",
      "Institut d'Ethnologie Université de Neuchâtel None\n",
      "Sprachatlas der deutschen Schweiz None\n",
      "Institut de pédagogie Université de Fribourg None\n",
      "Institut international des sciences sociales et politiques Université de Fribourg None\n",
      "Schweizerischer Juristenverein None\n",
      "Dipartimento di storia e geografia Università di Firenze None\n",
      "Département des sciences de l'antiquité Faculté des lettres Université de Genève None\n",
      "Antikenmuseum None\n",
      "Fachrichtung Rechtswissenschaft ETH-Zentrum None\n",
      "Stiftung \"Pro Innerrhoden\" None\n",
      "Musikethnologisches Archiv der Univ. Zürich None\n",
      "Abt. für Architektur Vorstehersekretariat EHT-Hönggerberg None\n",
      "IHEID Fondation pour l'institut de hautes études internationales et du développement None\n",
      "Institut für psychologische Forschung und Beratung None\n",
      "Deutsches Seminar Universität Zürich None\n",
      "Erziehungsberatungsstelle Pädagogisches Institut Universität Zürich None\n",
      "Schweiz. Osteuropabibliothek None\n",
      "Institut für Marketing und Handel Universität St. Gallen None\n",
      "Philosophische Fakultät I Universität Zürich None\n",
      "Pädagogisches Institut Universität Zürich None\n",
      "Fachrichtung Angewandte Psychologie Psychologisches Institut Universität Zürich None\n",
      "Institut für Wirtschaftsforschung ETH-Zürich None\n",
      "Fondation pour le LIMC None\n",
      "Stift. Pro Kloster St. Johann in Müstair None\n",
      "Schweizerische Nationalbibliothek None\n",
      "Romanisches Seminar Universität Zürich None\n",
      "Ethnologisches Seminar Universität Basel None\n",
      "For qurery parmas:\n",
      "'maxRows=1&username=raccct&country=ch&name=Medizinhistorisches+Institut+Universit%C3%A4t+Z%C3%BCrich'\n"
     ]
    },
    {
     "ename": "UnboundLocalError",
     "evalue": "local variable 'r' referenced before assignment",
     "output_type": "error",
     "traceback": [
      "\u001b[1;31m---------------------------------------------------------------------------\u001b[0m",
      "\u001b[1;31mKeyboardInterrupt\u001b[0m                         Traceback (most recent call last)",
      "\u001b[1;32m/mnt/DATA/Dropbox/!!EPFL/16hs/Courses/ADA/ADA-Kepler/04 - Interactive Viz/helpers.py\u001b[0m in \u001b[0;36mgeo_lookup\u001b[1;34m(name)\u001b[0m\n\u001b[0;32m     52\u001b[0m     \u001b[1;32mtry\u001b[0m\u001b[1;33m:\u001b[0m\u001b[1;33m\u001b[0m\u001b[0m\n\u001b[1;32m---> 53\u001b[1;33m         \u001b[0mr\u001b[0m \u001b[1;33m=\u001b[0m \u001b[0mrequests\u001b[0m\u001b[1;33m.\u001b[0m\u001b[0mget\u001b[0m\u001b[1;33m(\u001b[0m\u001b[0murl\u001b[0m \u001b[1;33m+\u001b[0m \u001b[0mencoded_args\u001b[0m\u001b[1;33m)\u001b[0m\u001b[1;33m\u001b[0m\u001b[0m\n\u001b[0m\u001b[0;32m     54\u001b[0m \u001b[1;33m\u001b[0m\u001b[0m\n",
      "\u001b[1;32m/home/raccct/anaconda3/lib/python3.5/site-packages/requests/api.py\u001b[0m in \u001b[0;36mget\u001b[1;34m(url, params, **kwargs)\u001b[0m\n\u001b[0;32m     70\u001b[0m     \u001b[0mkwargs\u001b[0m\u001b[1;33m.\u001b[0m\u001b[0msetdefault\u001b[0m\u001b[1;33m(\u001b[0m\u001b[1;34m'allow_redirects'\u001b[0m\u001b[1;33m,\u001b[0m \u001b[1;32mTrue\u001b[0m\u001b[1;33m)\u001b[0m\u001b[1;33m\u001b[0m\u001b[0m\n\u001b[1;32m---> 71\u001b[1;33m     \u001b[1;32mreturn\u001b[0m \u001b[0mrequest\u001b[0m\u001b[1;33m(\u001b[0m\u001b[1;34m'get'\u001b[0m\u001b[1;33m,\u001b[0m \u001b[0murl\u001b[0m\u001b[1;33m,\u001b[0m \u001b[0mparams\u001b[0m\u001b[1;33m=\u001b[0m\u001b[0mparams\u001b[0m\u001b[1;33m,\u001b[0m \u001b[1;33m**\u001b[0m\u001b[0mkwargs\u001b[0m\u001b[1;33m)\u001b[0m\u001b[1;33m\u001b[0m\u001b[0m\n\u001b[0m\u001b[0;32m     72\u001b[0m \u001b[1;33m\u001b[0m\u001b[0m\n",
      "\u001b[1;32m/home/raccct/anaconda3/lib/python3.5/site-packages/requests/api.py\u001b[0m in \u001b[0;36mrequest\u001b[1;34m(method, url, **kwargs)\u001b[0m\n\u001b[0;32m     56\u001b[0m     \u001b[1;32mwith\u001b[0m \u001b[0msessions\u001b[0m\u001b[1;33m.\u001b[0m\u001b[0mSession\u001b[0m\u001b[1;33m(\u001b[0m\u001b[1;33m)\u001b[0m \u001b[1;32mas\u001b[0m \u001b[0msession\u001b[0m\u001b[1;33m:\u001b[0m\u001b[1;33m\u001b[0m\u001b[0m\n\u001b[1;32m---> 57\u001b[1;33m         \u001b[1;32mreturn\u001b[0m \u001b[0msession\u001b[0m\u001b[1;33m.\u001b[0m\u001b[0mrequest\u001b[0m\u001b[1;33m(\u001b[0m\u001b[0mmethod\u001b[0m\u001b[1;33m=\u001b[0m\u001b[0mmethod\u001b[0m\u001b[1;33m,\u001b[0m \u001b[0murl\u001b[0m\u001b[1;33m=\u001b[0m\u001b[0murl\u001b[0m\u001b[1;33m,\u001b[0m \u001b[1;33m**\u001b[0m\u001b[0mkwargs\u001b[0m\u001b[1;33m)\u001b[0m\u001b[1;33m\u001b[0m\u001b[0m\n\u001b[0m\u001b[0;32m     58\u001b[0m \u001b[1;33m\u001b[0m\u001b[0m\n",
      "\u001b[1;32m/home/raccct/anaconda3/lib/python3.5/site-packages/requests/sessions.py\u001b[0m in \u001b[0;36mrequest\u001b[1;34m(self, method, url, params, data, headers, cookies, files, auth, timeout, allow_redirects, proxies, hooks, stream, verify, cert, json)\u001b[0m\n\u001b[0;32m    474\u001b[0m         \u001b[0msend_kwargs\u001b[0m\u001b[1;33m.\u001b[0m\u001b[0mupdate\u001b[0m\u001b[1;33m(\u001b[0m\u001b[0msettings\u001b[0m\u001b[1;33m)\u001b[0m\u001b[1;33m\u001b[0m\u001b[0m\n\u001b[1;32m--> 475\u001b[1;33m         \u001b[0mresp\u001b[0m \u001b[1;33m=\u001b[0m \u001b[0mself\u001b[0m\u001b[1;33m.\u001b[0m\u001b[0msend\u001b[0m\u001b[1;33m(\u001b[0m\u001b[0mprep\u001b[0m\u001b[1;33m,\u001b[0m \u001b[1;33m**\u001b[0m\u001b[0msend_kwargs\u001b[0m\u001b[1;33m)\u001b[0m\u001b[1;33m\u001b[0m\u001b[0m\n\u001b[0m\u001b[0;32m    476\u001b[0m \u001b[1;33m\u001b[0m\u001b[0m\n",
      "\u001b[1;32m/home/raccct/anaconda3/lib/python3.5/site-packages/requests/sessions.py\u001b[0m in \u001b[0;36msend\u001b[1;34m(self, request, **kwargs)\u001b[0m\n\u001b[0;32m    584\u001b[0m         \u001b[1;31m# Send the request\u001b[0m\u001b[1;33m\u001b[0m\u001b[1;33m\u001b[0m\u001b[0m\n\u001b[1;32m--> 585\u001b[1;33m         \u001b[0mr\u001b[0m \u001b[1;33m=\u001b[0m \u001b[0madapter\u001b[0m\u001b[1;33m.\u001b[0m\u001b[0msend\u001b[0m\u001b[1;33m(\u001b[0m\u001b[0mrequest\u001b[0m\u001b[1;33m,\u001b[0m \u001b[1;33m**\u001b[0m\u001b[0mkwargs\u001b[0m\u001b[1;33m)\u001b[0m\u001b[1;33m\u001b[0m\u001b[0m\n\u001b[0m\u001b[0;32m    586\u001b[0m \u001b[1;33m\u001b[0m\u001b[0m\n",
      "\u001b[1;32m/home/raccct/anaconda3/lib/python3.5/site-packages/requests/adapters.py\u001b[0m in \u001b[0;36msend\u001b[1;34m(self, request, stream, timeout, verify, cert, proxies)\u001b[0m\n\u001b[0;32m    402\u001b[0m                     \u001b[0mretries\u001b[0m\u001b[1;33m=\u001b[0m\u001b[0mself\u001b[0m\u001b[1;33m.\u001b[0m\u001b[0mmax_retries\u001b[0m\u001b[1;33m,\u001b[0m\u001b[1;33m\u001b[0m\u001b[0m\n\u001b[1;32m--> 403\u001b[1;33m                     \u001b[0mtimeout\u001b[0m\u001b[1;33m=\u001b[0m\u001b[0mtimeout\u001b[0m\u001b[1;33m\u001b[0m\u001b[0m\n\u001b[0m\u001b[0;32m    404\u001b[0m                 )\n",
      "\u001b[1;32m/home/raccct/anaconda3/lib/python3.5/site-packages/requests/packages/urllib3/connectionpool.py\u001b[0m in \u001b[0;36murlopen\u001b[1;34m(self, method, url, body, headers, retries, redirect, assert_same_host, timeout, pool_timeout, release_conn, chunked, **response_kw)\u001b[0m\n\u001b[0;32m    577\u001b[0m                                                   \u001b[0mbody\u001b[0m\u001b[1;33m=\u001b[0m\u001b[0mbody\u001b[0m\u001b[1;33m,\u001b[0m \u001b[0mheaders\u001b[0m\u001b[1;33m=\u001b[0m\u001b[0mheaders\u001b[0m\u001b[1;33m,\u001b[0m\u001b[1;33m\u001b[0m\u001b[0m\n\u001b[1;32m--> 578\u001b[1;33m                                                   chunked=chunked)\n\u001b[0m\u001b[0;32m    579\u001b[0m \u001b[1;33m\u001b[0m\u001b[0m\n",
      "\u001b[1;32m/home/raccct/anaconda3/lib/python3.5/site-packages/requests/packages/urllib3/connectionpool.py\u001b[0m in \u001b[0;36m_make_request\u001b[1;34m(self, conn, method, url, timeout, chunked, **httplib_request_kw)\u001b[0m\n\u001b[0;32m    361\u001b[0m         \u001b[1;32melse\u001b[0m\u001b[1;33m:\u001b[0m\u001b[1;33m\u001b[0m\u001b[0m\n\u001b[1;32m--> 362\u001b[1;33m             \u001b[0mconn\u001b[0m\u001b[1;33m.\u001b[0m\u001b[0mrequest\u001b[0m\u001b[1;33m(\u001b[0m\u001b[0mmethod\u001b[0m\u001b[1;33m,\u001b[0m \u001b[0murl\u001b[0m\u001b[1;33m,\u001b[0m \u001b[1;33m**\u001b[0m\u001b[0mhttplib_request_kw\u001b[0m\u001b[1;33m)\u001b[0m\u001b[1;33m\u001b[0m\u001b[0m\n\u001b[0m\u001b[0;32m    363\u001b[0m \u001b[1;33m\u001b[0m\u001b[0m\n",
      "\u001b[1;32m/home/raccct/anaconda3/lib/python3.5/http/client.py\u001b[0m in \u001b[0;36mrequest\u001b[1;34m(self, method, url, body, headers)\u001b[0m\n\u001b[0;32m   1105\u001b[0m         \u001b[1;34m\"\"\"Send a complete request to the server.\"\"\"\u001b[0m\u001b[1;33m\u001b[0m\u001b[0m\n\u001b[1;32m-> 1106\u001b[1;33m         \u001b[0mself\u001b[0m\u001b[1;33m.\u001b[0m\u001b[0m_send_request\u001b[0m\u001b[1;33m(\u001b[0m\u001b[0mmethod\u001b[0m\u001b[1;33m,\u001b[0m \u001b[0murl\u001b[0m\u001b[1;33m,\u001b[0m \u001b[0mbody\u001b[0m\u001b[1;33m,\u001b[0m \u001b[0mheaders\u001b[0m\u001b[1;33m)\u001b[0m\u001b[1;33m\u001b[0m\u001b[0m\n\u001b[0m\u001b[0;32m   1107\u001b[0m \u001b[1;33m\u001b[0m\u001b[0m\n",
      "\u001b[1;32m/home/raccct/anaconda3/lib/python3.5/http/client.py\u001b[0m in \u001b[0;36m_send_request\u001b[1;34m(self, method, url, body, headers)\u001b[0m\n\u001b[0;32m   1150\u001b[0m             \u001b[0mbody\u001b[0m \u001b[1;33m=\u001b[0m \u001b[0m_encode\u001b[0m\u001b[1;33m(\u001b[0m\u001b[0mbody\u001b[0m\u001b[1;33m,\u001b[0m \u001b[1;34m'body'\u001b[0m\u001b[1;33m)\u001b[0m\u001b[1;33m\u001b[0m\u001b[0m\n\u001b[1;32m-> 1151\u001b[1;33m         \u001b[0mself\u001b[0m\u001b[1;33m.\u001b[0m\u001b[0mendheaders\u001b[0m\u001b[1;33m(\u001b[0m\u001b[0mbody\u001b[0m\u001b[1;33m)\u001b[0m\u001b[1;33m\u001b[0m\u001b[0m\n\u001b[0m\u001b[0;32m   1152\u001b[0m \u001b[1;33m\u001b[0m\u001b[0m\n",
      "\u001b[1;32m/home/raccct/anaconda3/lib/python3.5/http/client.py\u001b[0m in \u001b[0;36mendheaders\u001b[1;34m(self, message_body)\u001b[0m\n\u001b[0;32m   1101\u001b[0m             \u001b[1;32mraise\u001b[0m \u001b[0mCannotSendHeader\u001b[0m\u001b[1;33m(\u001b[0m\u001b[1;33m)\u001b[0m\u001b[1;33m\u001b[0m\u001b[0m\n\u001b[1;32m-> 1102\u001b[1;33m         \u001b[0mself\u001b[0m\u001b[1;33m.\u001b[0m\u001b[0m_send_output\u001b[0m\u001b[1;33m(\u001b[0m\u001b[0mmessage_body\u001b[0m\u001b[1;33m)\u001b[0m\u001b[1;33m\u001b[0m\u001b[0m\n\u001b[0m\u001b[0;32m   1103\u001b[0m \u001b[1;33m\u001b[0m\u001b[0m\n",
      "\u001b[1;32m/home/raccct/anaconda3/lib/python3.5/http/client.py\u001b[0m in \u001b[0;36m_send_output\u001b[1;34m(self, message_body)\u001b[0m\n\u001b[0;32m    933\u001b[0m \u001b[1;33m\u001b[0m\u001b[0m\n\u001b[1;32m--> 934\u001b[1;33m         \u001b[0mself\u001b[0m\u001b[1;33m.\u001b[0m\u001b[0msend\u001b[0m\u001b[1;33m(\u001b[0m\u001b[0mmsg\u001b[0m\u001b[1;33m)\u001b[0m\u001b[1;33m\u001b[0m\u001b[0m\n\u001b[0m\u001b[0;32m    935\u001b[0m         \u001b[1;32mif\u001b[0m \u001b[0mmessage_body\u001b[0m \u001b[1;32mis\u001b[0m \u001b[1;32mnot\u001b[0m \u001b[1;32mNone\u001b[0m\u001b[1;33m:\u001b[0m\u001b[1;33m\u001b[0m\u001b[0m\n",
      "\u001b[1;32m/home/raccct/anaconda3/lib/python3.5/http/client.py\u001b[0m in \u001b[0;36msend\u001b[1;34m(self, data)\u001b[0m\n\u001b[0;32m    876\u001b[0m             \u001b[1;32mif\u001b[0m \u001b[0mself\u001b[0m\u001b[1;33m.\u001b[0m\u001b[0mauto_open\u001b[0m\u001b[1;33m:\u001b[0m\u001b[1;33m\u001b[0m\u001b[0m\n\u001b[1;32m--> 877\u001b[1;33m                 \u001b[0mself\u001b[0m\u001b[1;33m.\u001b[0m\u001b[0mconnect\u001b[0m\u001b[1;33m(\u001b[0m\u001b[1;33m)\u001b[0m\u001b[1;33m\u001b[0m\u001b[0m\n\u001b[0m\u001b[0;32m    878\u001b[0m             \u001b[1;32melse\u001b[0m\u001b[1;33m:\u001b[0m\u001b[1;33m\u001b[0m\u001b[0m\n",
      "\u001b[1;32m/home/raccct/anaconda3/lib/python3.5/site-packages/requests/packages/urllib3/connection.py\u001b[0m in \u001b[0;36mconnect\u001b[1;34m(self)\u001b[0m\n\u001b[0;32m    166\u001b[0m     \u001b[1;32mdef\u001b[0m \u001b[0mconnect\u001b[0m\u001b[1;33m(\u001b[0m\u001b[0mself\u001b[0m\u001b[1;33m)\u001b[0m\u001b[1;33m:\u001b[0m\u001b[1;33m\u001b[0m\u001b[0m\n\u001b[1;32m--> 167\u001b[1;33m         \u001b[0mconn\u001b[0m \u001b[1;33m=\u001b[0m \u001b[0mself\u001b[0m\u001b[1;33m.\u001b[0m\u001b[0m_new_conn\u001b[0m\u001b[1;33m(\u001b[0m\u001b[1;33m)\u001b[0m\u001b[1;33m\u001b[0m\u001b[0m\n\u001b[0m\u001b[0;32m    168\u001b[0m         \u001b[0mself\u001b[0m\u001b[1;33m.\u001b[0m\u001b[0m_prepare_conn\u001b[0m\u001b[1;33m(\u001b[0m\u001b[0mconn\u001b[0m\u001b[1;33m)\u001b[0m\u001b[1;33m\u001b[0m\u001b[0m\n",
      "\u001b[1;32m/home/raccct/anaconda3/lib/python3.5/site-packages/requests/packages/urllib3/connection.py\u001b[0m in \u001b[0;36m_new_conn\u001b[1;34m(self)\u001b[0m\n\u001b[0;32m    141\u001b[0m             conn = connection.create_connection(\n\u001b[1;32m--> 142\u001b[1;33m                 (self.host, self.port), self.timeout, **extra_kw)\n\u001b[0m\u001b[0;32m    143\u001b[0m \u001b[1;33m\u001b[0m\u001b[0m\n",
      "\u001b[1;32m/home/raccct/anaconda3/lib/python3.5/site-packages/requests/packages/urllib3/util/connection.py\u001b[0m in \u001b[0;36mcreate_connection\u001b[1;34m(address, timeout, source_address, socket_options)\u001b[0m\n\u001b[0;32m     66\u001b[0m     \u001b[0merr\u001b[0m \u001b[1;33m=\u001b[0m \u001b[1;32mNone\u001b[0m\u001b[1;33m\u001b[0m\u001b[0m\n\u001b[1;32m---> 67\u001b[1;33m     \u001b[1;32mfor\u001b[0m \u001b[0mres\u001b[0m \u001b[1;32min\u001b[0m \u001b[0msocket\u001b[0m\u001b[1;33m.\u001b[0m\u001b[0mgetaddrinfo\u001b[0m\u001b[1;33m(\u001b[0m\u001b[0mhost\u001b[0m\u001b[1;33m,\u001b[0m \u001b[0mport\u001b[0m\u001b[1;33m,\u001b[0m \u001b[1;36m0\u001b[0m\u001b[1;33m,\u001b[0m \u001b[0msocket\u001b[0m\u001b[1;33m.\u001b[0m\u001b[0mSOCK_STREAM\u001b[0m\u001b[1;33m)\u001b[0m\u001b[1;33m:\u001b[0m\u001b[1;33m\u001b[0m\u001b[0m\n\u001b[0m\u001b[0;32m     68\u001b[0m         \u001b[0maf\u001b[0m\u001b[1;33m,\u001b[0m \u001b[0msocktype\u001b[0m\u001b[1;33m,\u001b[0m \u001b[0mproto\u001b[0m\u001b[1;33m,\u001b[0m \u001b[0mcanonname\u001b[0m\u001b[1;33m,\u001b[0m \u001b[0msa\u001b[0m \u001b[1;33m=\u001b[0m \u001b[0mres\u001b[0m\u001b[1;33m\u001b[0m\u001b[0m\n",
      "\u001b[1;32m/home/raccct/anaconda3/lib/python3.5/socket.py\u001b[0m in \u001b[0;36mgetaddrinfo\u001b[1;34m(host, port, family, type, proto, flags)\u001b[0m\n\u001b[0;32m    731\u001b[0m     \u001b[0maddrlist\u001b[0m \u001b[1;33m=\u001b[0m \u001b[1;33m[\u001b[0m\u001b[1;33m]\u001b[0m\u001b[1;33m\u001b[0m\u001b[0m\n\u001b[1;32m--> 732\u001b[1;33m     \u001b[1;32mfor\u001b[0m \u001b[0mres\u001b[0m \u001b[1;32min\u001b[0m \u001b[0m_socket\u001b[0m\u001b[1;33m.\u001b[0m\u001b[0mgetaddrinfo\u001b[0m\u001b[1;33m(\u001b[0m\u001b[0mhost\u001b[0m\u001b[1;33m,\u001b[0m \u001b[0mport\u001b[0m\u001b[1;33m,\u001b[0m \u001b[0mfamily\u001b[0m\u001b[1;33m,\u001b[0m \u001b[0mtype\u001b[0m\u001b[1;33m,\u001b[0m \u001b[0mproto\u001b[0m\u001b[1;33m,\u001b[0m \u001b[0mflags\u001b[0m\u001b[1;33m)\u001b[0m\u001b[1;33m:\u001b[0m\u001b[1;33m\u001b[0m\u001b[0m\n\u001b[0m\u001b[0;32m    733\u001b[0m         \u001b[0maf\u001b[0m\u001b[1;33m,\u001b[0m \u001b[0msocktype\u001b[0m\u001b[1;33m,\u001b[0m \u001b[0mproto\u001b[0m\u001b[1;33m,\u001b[0m \u001b[0mcanonname\u001b[0m\u001b[1;33m,\u001b[0m \u001b[0msa\u001b[0m \u001b[1;33m=\u001b[0m \u001b[0mres\u001b[0m\u001b[1;33m\u001b[0m\u001b[0m\n",
      "\u001b[1;31mKeyboardInterrupt\u001b[0m: ",
      "\nDuring handling of the above exception, another exception occurred:\n",
      "\u001b[1;31mUnboundLocalError\u001b[0m                         Traceback (most recent call last)",
      "\u001b[1;32m<ipython-input-44-1299549f7f64>\u001b[0m in \u001b[0;36m<module>\u001b[1;34m()\u001b[0m\n\u001b[0;32m     16\u001b[0m \u001b[1;33m\u001b[0m\u001b[0m\n\u001b[0;32m     17\u001b[0m \u001b[1;33m\u001b[0m\u001b[0m\n\u001b[1;32m---> 18\u001b[1;33m \u001b[0mmap_institution_canton\u001b[0m\u001b[1;33m(\u001b[0m\u001b[0mhas_info\u001b[0m\u001b[1;33m)\u001b[0m\u001b[1;33m\u001b[0m\u001b[0m\n\u001b[0m",
      "\u001b[1;32m<ipython-input-44-1299549f7f64>\u001b[0m in \u001b[0;36mmap_institution_canton\u001b[1;34m(df)\u001b[0m\n\u001b[0;32m      7\u001b[0m         \u001b[1;31m#c = get_canton(place)\u001b[0m\u001b[1;33m\u001b[0m\u001b[1;33m\u001b[0m\u001b[0m\n\u001b[0;32m      8\u001b[0m         \u001b[1;31m#if c == '':\u001b[0m\u001b[1;33m\u001b[0m\u001b[1;33m\u001b[0m\u001b[0m\n\u001b[1;32m----> 9\u001b[1;33m         \u001b[0mp\u001b[0m \u001b[1;33m=\u001b[0m \u001b[0mgeo_lookup\u001b[0m\u001b[1;33m(\u001b[0m\u001b[0mplace\u001b[0m\u001b[1;33m)\u001b[0m\u001b[1;33m\u001b[0m\u001b[0m\n\u001b[0m\u001b[0;32m     10\u001b[0m         \u001b[1;32mif\u001b[0m \u001b[0mp\u001b[0m\u001b[1;33m:\u001b[0m\u001b[1;33m\u001b[0m\u001b[0m\n\u001b[0;32m     11\u001b[0m             \u001b[0mprint\u001b[0m\u001b[1;33m(\u001b[0m\u001b[1;34m'found'\u001b[0m\u001b[1;33m,\u001b[0m \u001b[0mp\u001b[0m\u001b[1;33m,\u001b[0m \u001b[1;34m'in the api'\u001b[0m\u001b[1;33m)\u001b[0m\u001b[1;33m\u001b[0m\u001b[0m\n",
      "\u001b[1;32m/mnt/DATA/Dropbox/!!EPFL/16hs/Courses/ADA/ADA-Kepler/04 - Interactive Viz/helpers.py\u001b[0m in \u001b[0;36mgeo_lookup\u001b[1;34m(name)\u001b[0m\n\u001b[0;32m     62\u001b[0m         \u001b[0mprint\u001b[0m\u001b[1;33m(\u001b[0m\u001b[1;34m'For qurery parmas:'\u001b[0m\u001b[1;33m)\u001b[0m\u001b[1;33m\u001b[0m\u001b[0m\n\u001b[0;32m     63\u001b[0m         \u001b[0mpprint\u001b[0m\u001b[1;33m(\u001b[0m\u001b[0mencoded_args\u001b[0m\u001b[1;33m)\u001b[0m\u001b[1;33m\u001b[0m\u001b[0m\n\u001b[1;32m---> 64\u001b[1;33m         \u001b[0mpprint\u001b[0m\u001b[1;33m(\u001b[0m\u001b[0mr\u001b[0m\u001b[1;33m.\u001b[0m\u001b[0mjson\u001b[0m\u001b[1;33m(\u001b[0m\u001b[1;33m)\u001b[0m\u001b[1;33m)\u001b[0m\u001b[1;33m\u001b[0m\u001b[0m\n\u001b[0m\u001b[0;32m     65\u001b[0m \u001b[1;33m\u001b[0m\u001b[0m\n\u001b[0;32m     66\u001b[0m \u001b[1;33m\u001b[0m\u001b[0m\n",
      "\u001b[1;31mUnboundLocalError\u001b[0m: local variable 'r' referenced before assignment"
     ]
    }
   ],
   "source": [
    "def map_institution_canton(df):\n",
    "    for place in df['Institution'].unique():\n",
    "        if str(place) == 'nan':\n",
    "            continue\n",
    "        if str(place).startswith('Uni'):\n",
    "            continue\n",
    "        #c = get_canton(place)\n",
    "        #if c == '':\n",
    "        p = geo_lookup(place)\n",
    "        if p:\n",
    "            print('found', p, 'in the api')\n",
    "            canton_dict[place] = p\n",
    "        else:\n",
    "            has_looked_up[place] = True\n",
    "            print(place, p)\n",
    "\n",
    "\n",
    "map_institution_canton(has_info)"
   ]
  },
  {
   "cell_type": "code",
   "execution_count": 50,
   "metadata": {
    "collapsed": false
   },
   "outputs": [
    {
     "data": {
      "text/html": [
       "<div>\n",
       "<table border=\"1\" class=\"dataframe\">\n",
       "  <thead>\n",
       "    <tr style=\"text-align: right;\">\n",
       "      <th></th>\n",
       "      <th>Name</th>\n",
       "      <th>Kanton</th>\n",
       "    </tr>\n",
       "  </thead>\n",
       "  <tbody>\n",
       "    <tr>\n",
       "      <th>0</th>\n",
       "      <td>Zürich</td>\n",
       "      <td>Kanton Zürich Zürich</td>\n",
       "    </tr>\n",
       "    <tr>\n",
       "      <th>1</th>\n",
       "      <td>Genf</td>\n",
       "      <td>Kanton Genf Genf</td>\n",
       "    </tr>\n",
       "    <tr>\n",
       "      <th>2</th>\n",
       "      <td>Basel</td>\n",
       "      <td>Kanton Basel-Stadt Basel-Stadt</td>\n",
       "    </tr>\n",
       "    <tr>\n",
       "      <th>3</th>\n",
       "      <td>Lausanne</td>\n",
       "      <td>Kanton Waadt Waadt</td>\n",
       "    </tr>\n",
       "    <tr>\n",
       "      <th>4</th>\n",
       "      <td>Bern</td>\n",
       "      <td>Kanton Bern Bern</td>\n",
       "    </tr>\n",
       "    <tr>\n",
       "      <th>5</th>\n",
       "      <td>Winterthur</td>\n",
       "      <td>Kanton Zürich Zürich</td>\n",
       "    </tr>\n",
       "    <tr>\n",
       "      <th>6</th>\n",
       "      <td>Luzern</td>\n",
       "      <td>Kanton Luzern Luzern</td>\n",
       "    </tr>\n",
       "    <tr>\n",
       "      <th>7</th>\n",
       "      <td>St. Gallen</td>\n",
       "      <td>Kanton St. Gallen St. Gallen</td>\n",
       "    </tr>\n",
       "    <tr>\n",
       "      <th>8</th>\n",
       "      <td>Lugano</td>\n",
       "      <td>Kanton Tessin Tessin</td>\n",
       "    </tr>\n",
       "    <tr>\n",
       "      <th>9</th>\n",
       "      <td>Biel/Bienne</td>\n",
       "      <td>Kanton Bern Bern</td>\n",
       "    </tr>\n",
       "  </tbody>\n",
       "</table>\n",
       "</div>"
      ],
      "text/plain": [
       "          Name                          Kanton\n",
       "0       Zürich            Kanton Zürich Zürich\n",
       "1         Genf                Kanton Genf Genf\n",
       "2        Basel  Kanton Basel-Stadt Basel-Stadt\n",
       "3     Lausanne              Kanton Waadt Waadt\n",
       "4         Bern                Kanton Bern Bern\n",
       "5   Winterthur            Kanton Zürich Zürich\n",
       "6       Luzern            Kanton Luzern Luzern\n",
       "7   St. Gallen    Kanton St. Gallen St. Gallen\n",
       "8       Lugano            Kanton Tessin Tessin\n",
       "9  Biel/Bienne                Kanton Bern Bern"
      ]
     },
     "execution_count": 50,
     "metadata": {},
     "output_type": "execute_result"
    }
   ],
   "source": [
    "# Load data for swiss cities\n",
    "columns = ['Name', 'Kanton']\n",
    "swiss_cities = pd.read_csv(\"swiss_cities.csv\", delimiter='\\t', usecols=columns, na_values=['data not included in P3', 'nan'])\n",
    "swiss_cities.head(10)"
   ]
  },
  {
   "cell_type": "code",
   "execution_count": 66,
   "metadata": {
    "collapsed": false
   },
   "outputs": [],
   "source": [
    "# Clean Kantons up\n",
    "#swiss_cities['Kanton'] = swiss_cities['Kanton'].apply(lambda x:get_canton_code(x.rsplit()[-1])) #str.rsplit(None, 1)[0]) # = swiss_cities['Kanton'].map(.str.rsplit(None, 1)[0]\n",
    "#swiss_cities.head(20)\n",
    "# Broken since German names"
   ]
  },
  {
   "cell_type": "code",
   "execution_count": 102,
   "metadata": {
    "collapsed": false
   },
   "outputs": [
    {
     "data": {
      "text/html": [
       "<div>\n",
       "<table border=\"1\" class=\"dataframe\">\n",
       "  <thead>\n",
       "    <tr style=\"text-align: right;\">\n",
       "      <th></th>\n",
       "      <th>Canton</th>\n",
       "    </tr>\n",
       "    <tr>\n",
       "      <th>Town</th>\n",
       "      <th></th>\n",
       "    </tr>\n",
       "  </thead>\n",
       "  <tbody>\n",
       "    <tr>\n",
       "      <th>Aarau</th>\n",
       "      <td>AG</td>\n",
       "    </tr>\n",
       "    <tr>\n",
       "      <th>Aarberg</th>\n",
       "      <td>BE</td>\n",
       "    </tr>\n",
       "    <tr>\n",
       "      <th>Aarburg</th>\n",
       "      <td>AG</td>\n",
       "    </tr>\n",
       "    <tr>\n",
       "      <th>Adliswil</th>\n",
       "      <td>ZH</td>\n",
       "    </tr>\n",
       "    <tr>\n",
       "      <th>Aesch (BL)</th>\n",
       "      <td>BL</td>\n",
       "    </tr>\n",
       "    <tr>\n",
       "      <th>Affoltern am Albis</th>\n",
       "      <td>ZH</td>\n",
       "    </tr>\n",
       "    <tr>\n",
       "      <th>Agno</th>\n",
       "      <td>TI</td>\n",
       "    </tr>\n",
       "    <tr>\n",
       "      <th>Aigle</th>\n",
       "      <td>VD</td>\n",
       "    </tr>\n",
       "    <tr>\n",
       "      <th>Allschwil</th>\n",
       "      <td>BL</td>\n",
       "    </tr>\n",
       "    <tr>\n",
       "      <th>Altdorf (UR)</th>\n",
       "      <td>UR</td>\n",
       "    </tr>\n",
       "  </tbody>\n",
       "</table>\n",
       "</div>"
      ],
      "text/plain": [
       "                   Canton\n",
       "Town                     \n",
       "Aarau                  AG\n",
       "Aarberg                BE\n",
       "Aarburg                AG\n",
       "Adliswil               ZH\n",
       "Aesch (BL)             BL\n",
       "Affoltern am Albis     ZH\n",
       "Agno                   TI\n",
       "Aigle                  VD\n",
       "Allschwil              BL\n",
       "Altdorf (UR)           UR"
      ]
     },
     "execution_count": 102,
     "metadata": {},
     "output_type": "execute_result"
    }
   ],
   "source": [
    "# Load data for swiss towns\n",
    "columns = ['Town', 'Canton']\n",
    "swiss_towns = pd.read_csv(\"swiss_towns.csv\", delimiter='\\t', usecols=columns, na_values=['data not included in P3', 'nan'])\n",
    "swiss_towns.set_index('Town', inplace=True)\n",
    "swiss_towns.head(10)"
   ]
  },
  {
   "cell_type": "code",
   "execution_count": 107,
   "metadata": {
    "collapsed": false
   },
   "outputs": [
    {
     "ename": "AttributeError",
     "evalue": "'str' object has no attribute 'str'",
     "output_type": "error",
     "traceback": [
      "\u001b[1;31m---------------------------------------------------------------------------\u001b[0m",
      "\u001b[1;31mAttributeError\u001b[0m                            Traceback (most recent call last)",
      "\u001b[1;32m<ipython-input-107-8734c30a74d8>\u001b[0m in \u001b[0;36m<module>\u001b[1;34m()\u001b[0m\n\u001b[0;32m      1\u001b[0m \u001b[1;31m# Test for particular town\u001b[0m\u001b[1;33m\u001b[0m\u001b[1;33m\u001b[0m\u001b[0m\n\u001b[0;32m      2\u001b[0m \u001b[1;31m#swiss_towns.loc[swiss_towns.Town == 'Basel']\u001b[0m\u001b[1;33m\u001b[0m\u001b[1;33m\u001b[0m\u001b[0m\n\u001b[1;32m----> 3\u001b[1;33m \u001b[0mswiss_towns\u001b[0m\u001b[1;33m.\u001b[0m\u001b[0mloc\u001b[0m\u001b[1;33m[\u001b[0m\u001b[1;34m'Basel'\u001b[0m\u001b[1;33m]\u001b[0m\u001b[1;33m[\u001b[0m\u001b[1;34m'Canton'\u001b[0m\u001b[1;33m]\u001b[0m\u001b[1;33m.\u001b[0m\u001b[0mstr\u001b[0m\u001b[1;33m\u001b[0m\u001b[0m\n\u001b[0m",
      "\u001b[1;31mAttributeError\u001b[0m: 'str' object has no attribute 'str'"
     ]
    }
   ],
   "source": [
    "# Test for particular town\n",
    "#swiss_towns.loc[swiss_towns.Town == 'Basel']\n",
    "swiss_towns.loc['Basel']['Canton']"
   ]
  },
  {
   "cell_type": "code",
   "execution_count": 113,
   "metadata": {
    "collapsed": false
   },
   "outputs": [
    {
     "name": "stdout",
     "output_type": "stream",
     "text": [
      "Abt. Handschriften und Alte Drucke Bibliothek der Universität Basel  ->  BS\n",
      "Institut für ökumenische Studien Université de Fribourg  ->  FR\n",
      "Ostasiatisches Seminar Universität Zürich  ->  ZH\n",
      "Klinische Psychologie und Psychotherapie Institut für Psychologie Universität Bern  ->  BE\n",
      "Schweizerische Rechtsquellen c/o Universität Zürich / RWI  ->  ZH\n",
      "Institut für Volkswirtschaft WWZ / FGS Universität Basel  ->  BS\n",
      "Soziologisches Institut Universität Zürich  ->  ZH\n",
      "Schweizerisches Nationalmuseum Landesmuseum Zürich  ->  ZH\n",
      "Institut für Iberoromanistik Universität Basel  ->  BS\n",
      "Historische und Antiquarische Gesellschaft zu Basel  ->  BS\n",
      "Universitätsbibliothek Basel Pressestelle  ->  BS\n",
      "Ägyptologisches Seminar Departement Altertumswissenschaften Universität Basel  ->  BS\n",
      "Klassische Archäologie Departement Altertumswissenschaft Universität Basel  ->  BS\n",
      "Faculté des lettres Université de Lausanne  ->  VD\n",
      "Institut de sociologie et de sciences politiques Université de Neuchâtel  ->  NE\n",
      "Section de français et de littérature comparée Université de Lausanne  ->  VD\n",
      "Institut für Philosophie Universität Bern  ->  BE\n",
      "Institut d'Ethnologie Université de Neuchâtel  ->  NE\n",
      "Institut de pédagogie Université de Fribourg  ->  FR\n",
      "Institut international des sciences sociales et politiques Université de Fribourg  ->  FR\n",
      "Musikethnologisches Archiv der Univ. Zürich  ->  ZH\n",
      "Deutsches Seminar Universität Zürich  ->  ZH\n",
      "Erziehungsberatungsstelle Pädagogisches Institut Universität Zürich  ->  ZH\n",
      "Philosophische Fakultät I Universität Zürich  ->  ZH\n",
      "Pädagogisches Institut Universität Zürich  ->  ZH\n",
      "Fachrichtung Angewandte Psychologie Psychologisches Institut Universität Zürich  ->  ZH\n",
      "Romanisches Seminar Universität Zürich  ->  ZH\n",
      "Ethnologisches Seminar Universität Basel  ->  BS\n",
      "Medizinhistorisches Institut Universität Zürich  ->  ZH\n",
      "Englisches Seminar Universität Basel  ->  BS\n",
      "Universität Bern Institut für Archäologische Wissenschaften Ur- & Frühgesch. & Arch. der Römischen Prov.  ->  BE\n",
      "Séminaire de français moderne Université de Neuchâtel  ->  NE\n",
      "Büro für Archäologie der Stadt Zürich  ->  ZH\n",
      "Institut de psychologie Faculté des sciences sociales et politiques Université de Lausanne  ->  VD\n",
      "Institut de linguistique Faculté des lettres et sciences humaines Université de Neuchâtel  ->  NE\n",
      "Institut du monde antique et byzantin Faculté des lettres Université de Fribourg  ->  FR\n",
      "Vorderasiatische Archäologie Institut für Archäologische Wissenschaften Universität Bern  ->  BE\n",
      "Theologische Fakultät Universität Zürich  ->  ZH\n",
      "Institut d'études médiévales Université de Fribourg  ->  FR\n",
      "Faculté des lettres et sciences humaines Université de Neuchâtel  ->  NE\n",
      "Kantonsschule Sargans  ->  SG\n",
      "Chaire de Science des Religions Université de Fribourg  ->  FR\n",
      "Slavisches Seminar Universität Zürich  ->  ZH\n",
      "Kuratorium der Helvetia Sacra c/o Staatsarchiv Basel  ->  BS\n",
      "Séminaire de philologie classique Université de Neuchâtel  ->  NE\n",
      "Departement Volkswirtschaftslehre Universität Bern  ->  BE\n",
      "Servicezentrum Zeitschriften SZ ZS / B460 Universitätsbibliothek Bern  ->  BE\n",
      "Chaire d'histoire de l'art médiéval Université de Fribourg  ->  FR\n",
      "Institut des sciences sociales Université de Lausanne  ->  VD\n",
      "Institut für Soziologie Universität Bern  ->  BE\n",
      "Dépt d'Histoire de l'art & de Musicologie Faculté des Lettres Université de Fribourg  ->  FR\n",
      "Institut de littérature française Faculté des lettres et sciences humaines Université de Neuchâtel  ->  NE\n",
      "Kunstgeschichtliches Seminar Universität Zürich  ->  ZH\n",
      "Departement für Sprach- und Literaturwissensch. II, Jaberg-Bibliothek Univ. Bern  ->  BE\n",
      "Institut für Geschichte & Theorie der Architektur (gta) / D-ARCH ETH Zürich  ->  ZH\n",
      "Zivilistisches Seminar Universität Bern  ->  BE\n",
      "Kriminalistisches Seminar Universität Bern  ->  BE\n",
      "Pädagogische Hochschule Zürich Bibliothek PH Zürich / ZS  ->  ZH\n",
      "Pädagogische Hochschule Zürich Bibliothek PH Zürich / ZS  ->  ZH\n",
      "Dépt d'économétrie et économie politique Faculté des Hautes Etudes Commerciales (HEC) Université de Lausanne  ->  VD\n",
      "Section Linguistique Faculté des lettres Université de Lausanne  ->  VD\n",
      "Ecole Suisse d'archéologie en Grèce  Univ. de Lausanne  ->  VD\n",
      "Institut für Sozialanthropologie Universität Bern  ->  BE\n",
      "Kommission des Phonogrammarchivs Universität Zürich  ->  ZH\n",
      "Rectorat de l'Université de Lausanne  ->  VD\n",
      "Forschungsstelle für Sozial- und Wirtschaftsgeschichte Universität Zürich  ->  ZH\n",
      "Faculté des Sciences Sociales et Politiques Université de Lausanne  ->  VD\n",
      "Département de patristique et d'histoire de l'Eglise Université de Fribourg  ->  FR\n",
      "KOF - Konjunkturforschungsstelle ETH Zürich  ->  ZH\n",
      "Tschudi-Kommission der AGGS Staatsarchiv Zürich  ->  ZH\n",
      "Seminar für Ur- und Frühgeschichte Universität Basel  ->  BS\n",
      "Abteilung Ur- und Frühgeschichte Historisches Seminar Universität Zürich  ->  ZH\n",
      "Droit international public Faculté de droit et des sciences criminelles Université de Lausanne  ->  VD\n",
      "Institut des sciences économiques et sociales Université de Fribourg  ->  FR\n",
      "Institut de Théologie morale Université de Fribourg  ->  FR\n",
      "Historisches Institut Philosophisch-historische Fakultät Universität Bern  ->  BE\n",
      "Musikwissenschaftliches Institut Universität Zürich  ->  ZH\n",
      "Musikwissenschaftliches Seminar Universität Basel  ->  BS\n",
      "Rechtswissenschaftliches Institut Universität Zürich  ->  ZH\n",
      "Sprachlabor Universität Zürich  ->  ZH\n",
      "Institut d'archéologie & d'histoire ancienne Université de Lausanne  ->  VD\n",
      "Deutsches Seminar Universität Basel  ->  BS\n",
      "Centre de recherches d'histoire économique et sociale Université de Lausanne  ->  VD\n",
      "Centre de recherche en économie de l'espace Université de Fribourg  ->  FR\n",
      "Séminaire de littérature française Université de Fribourg  ->  FR\n",
      "Séminaire de linguistique comparée et de langues indoeuropéennes Université de Fribourg  ->  FR\n",
      "Ethnologisches Seminar Universität Zürich  ->  ZH\n",
      "Institut de psychologie et éducation Faculté des lettres et sciences humaines Université de Neuchâtel  ->  NE\n",
      "Institut des sciences sociales Faculté des sciences sociales et politiques Université de Lausanne  ->  VD\n",
      "Domaine Sociologie et Médias Département des Sciences de la Société Université de Fribourg  ->  FR\n",
      "Institut d'Histoire Faculté des Lettres et des Sciences Humaines Université de Neuchâtel  ->  NE\n",
      "Wirtschaftswissenschaftliches Zentrum, WWZ Universität Basel  ->  BS\n",
      "École des Hautes Études Commerciales Université de Lausanne  ->  VD\n",
      "IPMZ - Institut für Publizistikwissenschaft und Medienforschung Universität Zürich  ->  ZH\n",
      "Institut de droit de la santé Faculté de droit Université de Neuchâtel  ->  NE\n",
      "Département de Philosophie Faculté des Lettres Université de Fribourg  ->  FR\n",
      "Klassische Archäologie Institut für Archäologische Wissenschaften Universität Bern  ->  BE\n",
      "Departement Geschichte Universität Basel  ->  BS\n",
      "Rektorat Universität Zürich  ->  ZH\n",
      "Institut für Empirische Wirtschaftsforschung Universität Zürich  ->  ZH\n",
      "Lehrstuhl für Steuer-, Finanz- und Verwaltungsrecht Universität Zürich  ->  ZH\n",
      "Kantonsschule Appenzell A.Rh.  ->  AI\n",
      "Institut für öffentliches Recht Universität Bern  ->  BE\n",
      "Minéralogie et Pétrographie Département des Géosciences Université de Fribourg  ->  FR\n",
      "Fakultät für Psychologie Universität Basel  ->  BS\n",
      "Sozialökonomisches Institut Universität Zürich  ->  ZH\n",
      "Centre de Dialectologie Université de Neuchâtel  ->  NE\n",
      "Slavisches Seminar Universität Basel  ->  BS\n",
      "Historisches Seminar Universität Zürich  ->  ZH\n",
      "Institut de langue et littérature allemandes Faculté des lettres et sciences humaines Université de Neuchâtel  ->  NE\n",
      "Geographisches Institut Universität Zürich  ->  ZH\n",
      "Kantonsschule Baden  ->  AG\n",
      "Séminaire d'anglais Université de Neuchâtel  ->  NE\n",
      "Erziehungsdirektion des Kantons Appenzell A.Rh.  ->  AI\n",
      "Rechtswissenschaftliche Fakultät Universität Zürich  ->  ZH\n",
      "Chaire de pédagogie et didactique EPF de Lausanne  ->  VD\n",
      "Juristische Fakultät Universität Basel  ->  BS\n",
      "Section d'Italien Faculté des Lettres Université de Lausanne  ->  VD\n",
      "Institut für Populäre Kulturen Universität Zürich  ->  ZH\n",
      "Institut für Atmosphäre und Klima ETH Zürich  ->  ZH\n",
      "Bereich Sonderpädagogik Institut für Erziehungswissenschaft Universität Zürich  ->  ZH\n",
      "Interfakultäre Koordinationsstelle für Allgemeine Ökologie (IKAÖ) Universität Bern  ->  BE\n",
      "Departement Geowissenschaften Universität Basel  ->  BS\n",
      "Institut für Praktische Theologie Evangelisch-theologische Fakultät Universität Bern  ->  BE\n",
      "Liceo di Lugano 2  ->  TI\n",
      "Institut für Betriebswirtschaft Universität Basel  ->  BS\n",
      "Département de Psychologie Université de Fribourg  ->  FR\n",
      "Laténium Parc et musée d'archéologie de Neuchâtel  ->  NE\n",
      "Institut für Veterinärphysiologie Vetsuisse-Fakultät Universität Zürich  ->  ZH\n",
      "Institut für Archäologie - Fachbereich Klassische Archäologie und Archäologische Sammlung, Universität Zürich  ->  ZH\n",
      "Seminar für Vergleichende Literaturwissenschaften Universität Zürich  ->  ZH\n",
      "Institut de pédagogie curative Université de Fribourg  ->  FR\n",
      "Archives de l'Etat de Fribourg  ->  FR\n",
      "Institut für Soziologie Universität Basel  ->  BS\n",
      "Mineralogisch-Petrographisches Institut Universität Basel  ->  BS\n",
      "Philosophisches Seminar Universität Zürich  ->  ZH\n",
      "Section de langues et civilisations slaves Faculté des lettres Université de Lausanne  ->  VD\n",
      "Kunsthistorisches Seminar Universität Bern  ->  BE\n",
      "Institut für Denkmalpflege und Bauforschung ETH Zürich  ->  ZH\n",
      "Section d'Histoire de l'Art Faculté des Lettres Université de Lausanne  ->  VD\n",
      "Institut für Germanistik Philosophisch-historische Fakultät Universität Bern  ->  BE\n",
      "Institut für englische Sprachen und Literaturen Universität Bern  ->  BE\n",
      "Division Economique et Sociale Université de Neuchâtel  ->  NE\n",
      "Faculté de Théologie Université de Fribourg  ->  FR\n",
      "Phonetisches Laboratorium Universität Zürich  ->  ZH\n",
      "Institut d'histoire moderne et contemporaine Université de Fribourg  ->  FR\n",
      "Robert Walser-Stiftung Zürich  ->  ZH\n",
      "Psychologisches Institut Universität Zürich  ->  ZH\n",
      "Völkerkundemuseum Universität Zürich  ->  ZH\n",
      "Service archéologique Canton de Fribourg  ->  FR\n",
      "Europainstitut Universität Basel  ->  BS\n",
      "Institut d'histoire économique et sociale Université de Lausanne  ->  VD\n",
      "Faculté de droit Université de Lausanne  ->  VD\n",
      "Philosophisches Seminar Universität Basel  ->  BS\n",
      "Institut d'informatique et Intelligence artificielle Université de Neuchâtel  ->  NE\n",
      "Geographisches Institut Universität Bern  ->  BE\n",
      "Kantonale Denkmalpflege Zug  ->  ZG\n",
      "Séminaire de philologie classique Université de Fribourg  ->  FR\n",
      "Bâtiment du Rectorat et de l'administration centrale Université de Lausanne  ->  VD\n",
      "Centre de recherches sur les lettres romandes (CRLR) Université de Lausanne  ->  VD\n",
      "Departement Forschung Kantonsspital Basel  ->  BS\n",
      "Englisches Seminar Universität Zürich  ->  ZH\n",
      "Séminaire de préhistoire Université de Neuchâtel  ->  NE\n",
      "Institut de Police Scientifique Ecole des Sciences Criminelles Université de Lausanne  ->  VD\n",
      "Archäologischer Dienst des Kantons Bern  ->  BE\n",
      "Institut für klassische Philologie und antike Philosophie Universität Bern  ->  BE\n",
      "Institut für Völkerrecht und ausländisches Verfassungsrecht Universität Zürich  ->  ZH\n",
      "Arbeitslehrerinnenseminar des Kantons Zürich  ->  ZH\n",
      "Section de français Faculté des lettres Université de Lausanne  ->  VD\n",
      "Centre de droit comparé, européen et international Université de Lausanne  ->  VD\n",
      "Pädagogisches Institut Universität Bern  ->  BE\n",
      "Section d'Histoire Faculté des Lettres Université de Lausanne  ->  VD\n",
      "Faculté de théologie Université de Neuchâtel  ->  NE\n",
      "Séminaire de linguistique française Université de Fribourg  ->  FR\n",
      "Institut d'histoire économique et sociale (IHES) Université de Lausanne  ->  VD\n",
      "Institut für Sozialethik Ethik-Zentrum Universität Zürich  ->  ZH\n",
      "Section de Philosophie Faculté des Lettres Université de Lausanne  ->  VD\n",
      "BFF Bern Berufs-, Fach- und Fortbildungsschule  ->  BE\n",
      "Abteilung Information Engineering Institut für Wirtschaftsinformatik Universität Bern  ->  BE\n",
      "Mathematisch-naturwissensch. Gymnasium Kantonsschule Rämibühl Zürich  ->  ZH\n",
      "Dekanat Theologische Fakultät Universität Basel  ->  BS\n",
      "Institut de recherches économiques Université de Neuchâtel  ->  NE\n",
      "Abteilung Unternehmensführung Inst. für Marketing und Unternehmensführung Universität Bern  ->  BE\n",
      "Institut für Musikwissenschaft Universität Bern  ->  BE\n",
      "Institut de sociologie Université de Fribourg  ->  FR\n",
      "Institut interdisciplinaire d'éthique et des droits de l'homme Université de Fribourg  ->  FR\n",
      "Séminaire de littérature française Universität Bern  ->  BE\n",
      "Section des Sciences de l'Antiquité Faculté des Lettres Université de Lausanne  ->  VD\n",
      "Rectorat de l'Université de Fribourg  ->  FR\n",
      "Inst. für Pädagogik und Schulpädagogik AAP Universität Bern  ->  BE\n",
      "Sozialpsychologie Psychologisches Institut Universität Zürich  ->  ZH\n",
      "Géologie et Paléontologie Département des Géosciences Université de Fribourg  ->  FR\n",
      "Volkswirtschaftliches Institut Abteilung Wirtschaftstheorie Universität Bern  ->  BE\n",
      "Institut de Géographie Université de Lausanne  ->  VD\n",
      "Institut Religions, Cultures, Modernité Faculté de Théologie Université de Lausanne  ->  VD\n",
      "Stiftschule Einsiedeln Rektorat  ->  SZ\n",
      "Literargymnasium Kantonsschule Rämibühl Zürich  ->  ZH\n",
      "Institut de Minéralogie et Pétrographie Centre d'Analyse Minérale Université de Lausanne  ->  VD\n",
      "IPTO Université de Neuchâtel  ->  NE\n",
      "Forschungsstelle Arbeitsmarkt- und Industrieökonomik (FAI), WWZ Universität Basel  ->  BS\n",
      "Centre de Linguistique Appliquée Université de Neuchâtel  ->  NE\n",
      "Staatsarchiv Basel Stadt  ->  BS\n",
      "Stadtbibliothek Schaffhausen  ->  SH\n",
      "Département d'Histoire de l'Eglise Faculté de Théologie Université de Fribourg  ->  FR\n",
      "Abteilung Pädagogische Psychologie Institut für Erziehungswissenschaft Universität Bern  ->  BE\n",
      "Université de Fribourg Chaire de Finance et Gouvernance d`Entrepris Prof. D. Isakov  ->  FR\n",
      "Liceo Cantonale Locarno  ->  TI\n",
      "Département d'Informatique Université de Fribourg  ->  FR\n",
      "Section d'espagnol Faculté des Lettres Université de Lausanne  ->  VD\n",
      "Institut de Logique Université de Neuchâtel  ->  NE\n",
      "Institut romand des sciences bibliques(IRSB) Université de Lausanne  ->  VD\n",
      "Section d'anglais Faculté des lettres Université de Lausanne  ->  VD\n",
      "Laboratorium für Physikalische Chemie ETH Zürich  ->  ZH\n",
      "Physikalische Chemie Departement Chemie Universität Basel  ->  BS\n",
      "Département de Chimie Université de Fribourg  ->  FR\n",
      "Inst. f. Techn. Physik ETH - Zürich  ->  ZH\n",
      "Groupe Limnoceane Institut de géologie Université de Neuchâtel  ->  NE\n",
      "Departement Physik Universität Basel  ->  BS\n",
      "Institut de Physique Université de Neuchâtel  ->  NE\n",
      "Institut für Geologie Universität Bern  ->  BE\n",
      "Laboratorium für Festkörperphysik ETH Zürich  ->  ZH\n",
      "Inst. f. Reaktortechnik ETH - Zürich  ->  ZH\n",
      "Institut de Mathématiques Université de Lausanne  ->  VD\n",
      "Laboratorium für Anorganische Chemie ETH Zürich  ->  ZH\n",
      "Botanisches Institut Universität Basel  ->  BS\n",
      "Institut für Physikalische Chemie Universität Zürich  ->  ZH\n",
      "Institut für angewandte Physik Universität Bern  ->  BE\n",
      "Institut für Teilchenphysik ETH Zürich  ->  ZH\n",
      "Institut de Géologie Université de Neuchâtel  ->  NE\n",
      "Institut für Chemie Universität Zürich  ->  ZH\n",
      "Institut für Verfahrenstechnik ETH Zürich  ->  ZH\n",
      "Institut de Physique Théorique Université de Lausanne  ->  VD\n",
      "Hochalpine Forschungsstationen Jungfraujoch & Gornergrat Universität Bern  ->  BE\n",
      "Institut für Mineralogie und Petrographie ETH Zürich  ->  ZH\n",
      "Institut de Physique de la Matière Condensée (IPMC) Université de Lausanne  ->  VD\n",
      "Laboratorium für Organische Chemie ETH Zürich  ->  ZH\n",
      "Organisch-chemisches Institut Universität Zürich  ->  ZH\n",
      "Institut für Organische Chemie Universität Bern  ->  BE\n",
      "Astronomisches Institut Universität Bern  ->  BE\n",
      "Geologisches Institut ETH Zürich  ->  ZH\n",
      "Institut für Geophysik ETH Zürich  ->  ZH\n",
      "Versuchsanstalt für Wasserbau, Hydrologie und Glaziologie ETH Zürich  ->  ZH\n",
      "Institut für Chemie- und Bioingenieurwissenschaften ETH Zürich  ->  ZH\n",
      "Institut für Farbenchemie Universität Basel  ->  BS\n",
      "Institut für Theoretische Physik ETH Zürich  ->  ZH\n",
      "Institut für Anorganische Chemie Universität Basel  ->  BS\n",
      "Forschungsinstitut für Mathematik ETH Zürich  ->  ZH\n",
      "Institut für Anorganische, Ana- lytische und Physikalische Chemie Universität Bern  ->  BE\n",
      "Organische Chemie Departement Chemie Universität Basel  ->  BS\n",
      "Institut de chimie Université de Neuchâtel  ->  NE\n",
      "Département de Physique Université de Fribourg  ->  FR\n",
      "Institut für Theoretische Physik Universität Zürich  ->  ZH\n",
      "Institut für Theoretische Physik Universität Bern  ->  BE\n",
      "Groupe de Géomagnétisme Université de Neuchâtel  ->  NE\n",
      "Physik-Institut Universität Zürich  ->  ZH\n",
      "Physikalisches Institut Universität Bern  ->  BE\n",
      "Institut de Physique des Hautes Energies Université de Lausanne  ->  VD\n",
      "Laboratorium für Hochenergiephysik Albert Einstein Center Universität Bern  ->  BE\n",
      "Klima- und Umweltphysik Physikalisches Institut Universität Bern  ->  BE\n",
      "Photografisches Institut ETH - Zürich  ->  ZH\n",
      "Institut für Baustatik und Konstruktion ETH Zürich  ->  ZH\n",
      "Institut für Mathematik Universität Zürich  ->  ZH\n",
      "Institut für Geochemie und Petrologie ETH Zürich  ->  ZH\n",
      "Departement Mathematik ETH Zürich  ->  ZH\n",
      "Institut de Métallurgie Structurale Université de Neuchâtel  ->  NE\n",
      "Seminar für Angewandte Mathematik ETH Zürich  ->  ZH\n",
      "Departement für Physik und Astronomie Astronomisches Institut Universität Basel  ->  BS\n",
      "Institut für Feldtheorie und Höchstfrequenztechnik ETH Zürich  ->  ZH\n",
      "Departement Chemie und Angewandte Biowissenschaften ETH  Zürich  ->  ZH\n",
      "Institut de Minéralogie et Pétrographie Université de Lausanne  ->  VD\n",
      "Institut für Geodäsie und Photogrammetrie ETH Zürich  ->  ZH\n",
      "Departement Umweltsystemwissenschaften ETH Zürich  ->  ZH\n",
      "Gruppe Isotopengeologie Institut für Geologie Universität Bern  ->  BE\n",
      "Institut für Elektrische Energieübertragung und Hochspannungstechnik ETH Zürich  ->  ZH\n",
      "Naturhistorisches Museum Basel  ->  BS\n",
      "Institut für Fluiddynamik ETH Zürich  ->  ZH\n",
      "Abteilung Biophysikalische Chemie Biozentrum der Universität Basel  ->  BS\n",
      "Geologisch-Paläontologisches Institut Universität Basel  ->  BS\n",
      "Musée Cantonal de Géologie Université de Lausanne  ->  VD\n",
      "Institut für Werkzeugmaschinen und Fertigung ETH Zürich  ->  ZH\n",
      "Institut für Pharmakologie Medizinische Fakultät Universität Bern  ->  BE\n",
      "Institut für Elektronik ETH Zürich  ->  ZH\n",
      "Fachbereich Mathematik Departement Mathematik und Informatik Universität Basel  ->  BS\n",
      "Mathematisches Institut Universität Bern  ->  BE\n",
      "Institut für Polymere ETH Zürich  ->  ZH\n",
      "Institut für Astronomie ETH Zürich  ->  ZH\n",
      "Institut de géologie et de paléontologie Université de Lausanne  ->  VD\n",
      "Institut de mathématiques Université de Neuchâtel  ->  NE\n",
      "Ingenieurschule Burgdorf  ->  BE\n",
      "Institut für Informationssysteme ETH Zürich  ->  ZH\n",
      "Paläontologisches Institut und Museum Universität Zürich  ->  ZH\n",
      "Laboratorium für chemische und mineralogische Kristallographie Universität Bern  ->  BE\n",
      "Institut de géophysique Université de Lausanne  ->  VD\n",
      "Institut für Informatik Universität Zürich  ->  ZH\n",
      "Ecole supérieur de commerce de la ville de Sion  ->  VS\n",
      "Institut für Angewandte Physik ETH Zürich  ->  ZH\n",
      "Departement Informatik ETH Zürich  ->  ZH\n",
      "Institut de Pharmacognosie et Phytochimie Université de Lausanne  ->  VD\n",
      "Institut für pharmazeutische Technologie Departement Pharmazie Universität Basel  ->  BS\n",
      "Institut für mathematische Statistik und Versicherungslehre Universität Bern  ->  BE\n",
      "Institut für Terrestrische Ökosysteme ETH Zürich  ->  ZH\n",
      "Département de Mathématiques Université de Fribourg  ->  FR\n",
      "Institut de géographie Université de Neuchâtel  ->  NE\n",
      "Centre d'hydrogéologie et de géothermie Université de Neuchâtel  ->  NE\n",
      "Institut Universitaire de Médecine Sociale et Préventive - IUMSP CHUV et Université de Lausanne  ->  VD\n",
      "Labor für Metallphysik und Technologie ETH Zürich  ->  ZH\n",
      "Institut für Theoretische Informatik ETH Zürich  ->  ZH\n",
      "Institut für Operations Research ETH Zürich  ->  ZH\n",
      "Institut für Angewandte Mathematik Universität Zürich - Irchel  ->  ZH\n",
      "Institut für Operations Research und Math. Methoden der Wirtschaft-Wissenschaft Universität Zürich  ->  ZH\n",
      "Institut für Mechanische Systeme ETH Zürich  ->  ZH\n",
      "Institut für Automatik ETH Zürich  ->  ZH\n",
      "Institut für Informatik Universität Bern  ->  BE\n",
      "Institut für Energietechnik ETH Zürich  ->  ZH\n",
      "Institut de statistique Faculté des sciences économiques Universite de Neuchâtel  ->  NE\n",
      "Institut für Technische Informatik und Kommunikationsnetze ETH Zürich  ->  ZH\n",
      "Institut für Quantenelektronik ETH Zürich  ->  ZH\n",
      "Institut für Terrestrische Ökosysteme ITES Forstliches Ingenieurwesen ETH Zürich  ->  ZH\n",
      "Institut für Baustoffe ETH Zürich  ->  ZH\n",
      "Naturforschende Gesellschaft Basel Naturhistorisches Museum  ->  BS\n",
      "Institut de Biologie et de Physiologie végétales Université de Lausanne  ->  VD\n",
      "Chirurgische Universitätsklinik Tiefenauspital der Stadt Bern  ->  BE\n",
      "Institut für Anatomie Medizinische Fakultät Universität Bern  ->  BE\n",
      "Abteilung Mikrobiologie Biozentrum Universität Basel  ->  BS\n",
      "Physiologisches Institut Universität Zürich  ->  ZH\n",
      "Universitätsinstitut für Immunologie Universität Bern  ->  BE\n",
      "Institut für Molekulare Biologie Universität Zürich  ->  ZH\n",
      "Kardiovaskuläre Abteilung Departement für Innere Medizin Kantonsspital Zürich  ->  ZH\n",
      "Institut für Mikrobiologie Departement Biologie ETH Zürich  ->  ZH\n",
      "Université de Lausanne Institut d'Anatomie  ->  VD\n",
      "Abteilung Zellbiologie Biozentrum Universität Basel  ->  BS\n",
      "Institut für Zellbiologie Departement Biologie Universität Bern  ->  BE\n",
      "Institut für klin. Eiweissforschung Universität Bern Tiefenauspital  ->  BE\n",
      "Centre Integratif de Genomique Faculté de Biologie et Médecine Université de Lausanne  ->  VD\n",
      "Departement für Chemie und Biochemie Universität Bern  ->  BE\n",
      "Institut für Pathologie Medizinische Fakultät Universität Bern  ->  BE\n",
      "Institut für Toxikologie der ETH und der Universität Zürich  ->  ZH\n",
      "Universitätsklinik Balgrist Departement für Orthopädie Universität Zürich  ->  ZH\n",
      "Biochemisches Institut Universität Zürich  ->  ZH\n",
      "Biomolekulare Tumordiagnostik Universitätsspital Basel  ->  BS\n",
      "Zoologisches Institut der Uni- versität Bern Abteilung Neurobiologie  ->  BE\n",
      "Urologische Klinik und Poliklinik Universitätsspital Zürich  ->  ZH\n",
      "Institut für Pflanzenbiologie Universität Zürich  ->  ZH\n",
      "Institut de Zoologie Faculté des Sciences Université de Neuchâtel  ->  NE\n",
      "Institut für Medizinische Radiobiologie Universität Zürich  ->  ZH\n",
      "Medizinische Universitätspoliklinik Universitätsspital Basel  ->  BS\n",
      "Institut für Dynamische Systeme und Regelungstechnik ETH Zürich  ->  ZH\n",
      "Institut für Biochemie Departement Biologie ETH Zürich  ->  ZH\n",
      "Abteilung Strukturbiologie und Biophysik Biozentrum Universität Basel  ->  BS\n",
      "Institut für Zellbiologie ETH Zürich  ->  ZH\n",
      "Neurochirurgische Klinik Universitätsspital Zürich  ->  ZH\n",
      "Abteilung Pharmakologie/Neurobiologie Biozentrum der Universität Basel  ->  BS\n",
      "Hämostase- Hämatologielabor Departement Zentrallaboratorium Universitätsspital Basel  ->  BS\n",
      "Institut für Systematische Botanik und Botanischer Garten Universität Zürich  ->  ZH\n",
      "Klinik für Endokrinologie, Diabetologie und Klinische Ernährung Universitätsspital Zürich  ->  ZH\n",
      "Institut für Biochemie und Genetik Universität Basel  ->  BS\n",
      "Institut für Pflanzenwissenschaften Universität Bern  ->  BE\n",
      "Institut für Hirnforschung Universität Zürich  ->  ZH\n",
      "Institut für Medizinische Mikrobiologie Universität Zürich  ->  ZH\n",
      "Departement Magen-Darm-, Leber- und Lungenkrankheiten Universitätsspital Bern  ->  BE\n",
      "Inselspital Universitätsspital Bern  ->  BE\n",
      "Département de Pharmacologie & Toxicologie Faculté de Biologie et de Médecine Université de Lausanne  ->  VD\n",
      "Theodor Kocher Institut Medizinische Fakultät Universität Bern  ->  BE\n",
      "Klinik für Rheumatologie Universitätsspital Zürich  ->  ZH\n",
      "Neurologische Klinik Universitätsspital Zürich  ->  ZH\n",
      "Kinderspital Zürich Universitäts-Kinderklinik  ->  ZH\n",
      "Département d'Ecologie et d'Evolution Faculté de Biologie et de Médecine Université de Lausanne  ->  VD\n",
      "Institut für Parasitologie Vetsuisse-Fakultät Universität Zürich  ->  ZH\n",
      "Virologisches Institut Vetsuisse Fakultät Universität Zürich  ->  ZH\n",
      "Abt. Plastische & Rekonstruktive Chirurgie Uniklinik für Wiederherstellende Chirurgie Kantonsspital Basel  ->  BS\n",
      "Département de Médecine Université de Fribourg  ->  FR\n",
      "Klinik für Angiologie Departement Innere Medizin Universitätsspital Zürich  ->  ZH\n",
      "Institut für Molekularbiologie und Biophysik ETH Zürich  ->  ZH\n",
      "Institut für Pathologie Universitätsspital Basel  ->  BS\n",
      "Institut für Veterinär-Bakteriologie Vetsuisse-Fakultät Universität Bern  ->  BE\n",
      "Département de Physiologie Faculté de Biologie et de Médecine Université de Lausanne  ->  VD\n",
      "Institut für Klinische Pharmakologie Universität Bern  ->  BE\n",
      "Laboratoire d'Analyse Ultrastructurale et Centre de Microscopie Electronique Université de Lausanne  ->  VD\n",
      "Institut für Physiologie Medizinische Fakultät Universität Bern  ->  BE\n",
      "Institut für Klinische Chemie Universitätsspital Zürich  ->  ZH\n",
      "Limnologische Station Universität Zürich  ->  ZH\n",
      "Klinik für Immunologie Departement Innere Medizin Universitätsspital Zürich  ->  ZH\n",
      "Hals-Nasen-Ohrenklinik Kantonsspital Basel  ->  BS\n",
      "Laboratoire de Physiologie végétale Université de Neuchâtel  ->  NE\n",
      "Laboratoire de Botanique Évolutive Institut de Biologie Université de Neuchâtel  ->  NE\n",
      "Steroidlabor / Abt. Endokr. und Stoffwechsel Departement für Innere Medizin Univ.sspital Zürich  ->  ZH\n",
      "Abteilung für Transplantationsimmunologie und Nephrologie Universitätsspital Basel  ->  BS\n",
      "Departement Klinische Forschung Inselspital Bern Universität Bern  ->  BE\n",
      "Departement Klinische Forschung Inselspital Bern Universität Bern  ->  BE\n",
      "Institut für Genetik Vetsuisse-Fakultät Universität Bern  ->  BE\n",
      "Institut für Physiologie der Universität Basel Vesalianum  ->  BS\n",
      "Biologisches Zentrallaboratorium Kantonsspital Zürich  ->  ZH\n",
      "Forschungsbereich Klinische und Experimentelle Psychopathologie Psychiatrische Universitätsklinik Zürich  ->  ZH\n",
      "Universitäts-Kinderspital beider Basel  ->  BS\n",
      "Klinik für Wiederkäuer Vetsuisse Universität Bern  ->  BE\n",
      "Zentrum für Zahnmedizin Universität Zürich  ->  ZH\n",
      "Abteilung Psychosoziale Medizin Universitätsspital Zürich  ->  ZH\n",
      "Medizinische Genetik Universitätsspital Basel  ->  BS\n",
      "Institut für Sozial- und Präventivmedizin Universität Bern  ->  BE\n",
      "Dermatologische Klinik Universitätsspital Zürich  ->  ZH\n",
      "Veterinär-Pharmakologisches Institut Vetsuisse-Fakultät Universität Bern  ->  BE\n",
      "Laboratoire de Microbiologie Institut de Biologie Université de Neuchâtel  ->  NE\n",
      "Institut für Medizinische Mikrobiologie Universität Basel  ->  BS\n",
      "Institut für Biomedizinische Technik Universität Zürich und ETHZ  ->  ZH\n",
      "Abteilung Biochemie Biozentrum Universität Basel  ->  BS\n",
      "Institut für Experimentelle Immunologie Departement Pathologie Universität Zürich  ->  ZH\n",
      "Ethologische Station Hasli Institut für Ökologie und Evolution Universität Bern  ->  BE\n",
      "Institut für Medizinische Virologie Universität Zürich  ->  ZH\n",
      "Institut für Tierpathologie Vetsuisse-Fakultät Universität Bern  ->  BE\n",
      "Département de Microbiologie Fondamentale Faculté de Biologie et de Médecine Université de Lausanne  ->  VD\n",
      "Institut für allgemeine Botanik ETH Zürich  ->  ZH\n",
      "Theodor Kocher Institut Universität Bern  ->  BE\n",
      "Augenklinik Universitätsspital Zürich  ->  ZH\n",
      "Institut für Hochbauforschung ETH Zürich Hönggerberg  ->  ZH\n",
      "Abteilung Endokrinologie, Diabetologie und Metabolismus Universitätsspital Basel  ->  BS\n",
      "ORL-Klinik Universitätsspital Zürich  ->  ZH\n",
      "Institut für Lebensmittelwissenschaften, Ernährung und Gesundheit ETH Zürich  ->  ZH\n",
      "Klinik für Parodontologie Zahnmedizinische Kliniken Universität Bern  ->  BE\n",
      "Abteilung für Hämatologie Universitätsspital Basel  ->  BS\n",
      "Institut für Diagnostische Radiologie Departement Medizinische Radiologie Universitätsspital Zürich  ->  ZH\n",
      "Universitätsklinik für Nuklearmedizin Inselspital Bern  ->  BE\n",
      "Institut de génétique et de biolo- gie microbiennes Université de Lausanne  ->  VD\n",
      "Zoologisches Institut Bio-/Pharmazentrum Universität Basel  ->  BS\n",
      "Psychiatrische Universitätspoliklinik Allg. Psychiatrie ambulant c/o Universitätsspital Basel  ->  BS\n",
      "Klinik für Viszeral- und Transplantationschirurgie Universitätsspital Zürich  ->  ZH\n",
      "Institut für Biomechanik ETH Zürich  ->  ZH\n",
      "Institut für Lebensmittelchemie der Universität Bern  ->  BE\n",
      "Dermatologische Universitätsklinik Universitätsspital Basel  ->  BS\n",
      "Abteilung für Klinische Neurophysiologie Neurologische Universitätsklinik Kantonsspital Basel  ->  BS\n",
      "Institut für Nuklearmedizin Universitätsspital Basel  ->  BS\n",
      "Labor für Elektronenmikroskopie Veterinär-Medizinische Fakultät Universität Zürich  ->  ZH\n",
      "Departement Umweltsystemwissenschaften ETH Zürich IBP / D-USYS  ->  ZH\n",
      "WHO Immun. Research & Training Ctr. Institute of Biochemistry Université de Lausanne  ->  VD\n",
      "Abteilung für Klinische Physiologie Klinik für Herz-& Thoraxchirurgie Universitätskliniken Basel  ->  BS\n",
      "Forschung Geburtshilfe Universitätsspital Zürich  ->  ZH\n",
      "Veterinärmedizinische Fakultät Klinik für Andrologie und Gynäkologie Universität Zürich  ->  ZH\n",
      "Abteilung für Angiologie Medizinische Universitätsklinik A Universitätsspital Basel  ->  BS\n",
      "Institut für Epidemiologie, Biostatistik und Prävention Universität Zürich  ->  ZH\n",
      "Laboratoire de Biotechnologie moléculaire Université de Lausanne EPFL - LBTM  ->  VD\n",
      "Institut für Veterinär-Virologie Vetsuisse-Fakultät Universität Bern  ->  BE\n",
      "Institut für Infektionskrankheiten Universität Bern  ->  BE\n",
      "Veterinärmedizinisches Labor Universität Zürich  ->  ZH\n",
      "Klinik für Herz- und Gefässchirurgie Departement Chirurgie Universitätsspital Zürich  ->  ZH\n",
      "Departement Klinische Forschung Universität Bern  ->  BE\n",
      "Klinik für Geburtshilfe Departement Frauenheilkunde Universitätsspital Zürich  ->  ZH\n",
      "Institut für Sozial- und Präventivmedizin Universität Basel Swiss TPH  ->  BS\n",
      "Division de Biochimie Département de Biologie Université de Fribourg  ->  FR\n",
      "Klinik für Hämatologie Departement Innere Medizin Universitätsspital Zürich  ->  ZH\n",
      "Histologie et Embryologie générale Département de médecine Université de Fribourg  ->  FR\n",
      "Geriatrische Universitätsklinik Kantonsspital Basel  ->  BS\n",
      "Regionalspital Burgdorf Medizinische Abteilung  ->  BE\n",
      "Abteilung für Neuropsychologie Neurologische Klinik Universitätsspital Zürich  ->  ZH\n",
      "Kantonsspital Liestal Chirurgische Klinik Abt. Orthopädie & Traumatologie  ->  BL\n",
      "Veterinärmedizinisches Labor Departement für Nutztiere Vetsuisse-Fakultät der Universität Zürich  ->  ZH\n",
      "Limnologische Station Institut für Pflanzenbiologie Universität Zürich  ->  ZH\n",
      "Sukkulentensammlung Zürich  ->  ZH\n",
      "Anatomisches Institut Universität Basel  ->  BS\n",
      "Klinik für Kardiologie Bereich Medizin Universitätsspital Basel  ->  BS\n",
      "Institut für Veterinärpharmakologie und -toxikologie Universität Zürich  ->  ZH\n",
      "Abt. für Infektiologie und Spitalhygiene Universitätsspital Zürich  ->  ZH\n",
      "Gesundheitsdienst der Stadt Bern  ->  BE\n",
      "Anatomisches Institut Universität Zürich  ->  ZH\n",
      "Abteilung Mikrobiologie Institut für Pflanzenbiologie Universität Zürich  ->  ZH\n",
      "Abt. für Zell- und Molekularpathologie Departement für Pathologie Universität Zürich  ->  ZH\n",
      "Institut für Neuropathologie Departement für Pathologie Universitätsspital Zürich  ->  ZH\n",
      "Zahnmedizinische Kliniken Universität Bern  ->  BE\n",
      "Lindenhofspital Bern  ->  BE\n",
      "Institut für Parasitologie Universität Bern  ->  BE\n",
      "Institut für chirurgische Technologien und Biomechanik (ISTB) Universität Bern  ->  BE\n",
      "Laboratoire de Biochimie Institut de Botanique Université de Neuchâtel  ->  NE\n",
      "Universitätsspital Basel  ->  BS\n",
      "Sozialpsychiatrische Dienste Universitätsklinik Zürich  ->  ZH\n",
      "Medizinische Poliklinik Departement Innere Medizin Universitätsspital Zürich  ->  ZH\n",
      "Augenklinik Universitätsspital Basel  ->  BS\n",
      "Klinik für Orthopädische Chirurgie Inselspital Universität Bern  ->  BE\n",
      "Klinik für Klinische Pharmakologie und Toxikologie Universitätsspital Zürich  ->  ZH\n",
      "Abteilung Neurobiologie Departement Forschung Universitätsspital Basel  ->  BS\n",
      "Institut für Integrative Biologie (IBZ) Departement Umweltwissenschaften ETH Zürich  ->  ZH\n",
      "Groupe de Pharmacologie Section de Pharmacie Université de Lausanne  ->  VD\n",
      "Kantonsspital Basel Departement Medizinische Radiologie  ->  BS\n",
      "Institut für medizinische Lehre Medizinische Fakultät Universität Bern  ->  BE\n",
      "Kantonsspital Aarau Kinderklinik  ->  AG\n",
      "Kinderspital Basel Traumatologische Abteilung  ->  BS\n",
      "Departement Innere Medizin Universitätsspital Zürich  ->  ZH\n",
      "Zytogenetisches Diagnostik-& Forschungslabor Institut für Medizinische Genetik der Universität Zürich  ->  ZH\n",
      "Institut de Microbiologie Université de Lausanne  ->  VD\n",
      "Departement Frauenheilkunde Universitätsspital Zürich  ->  ZH\n",
      "Klinik für Kardiologie Departement Innere Medizin Universitätsspital Zürich  ->  ZH\n",
      "Departement Medizinische Radiologie MR-Zentrum Universitätsspital Zürich  ->  ZH\n",
      "Institut Universitaire de Médecine Légale Université de Lausanne  ->  VD\n",
      "Sozialmedizinische Beratungsstelle für Jugendliche Integrative Psych. Winterthur  ->  ZH\n",
      "Abteilung für Pneumologie Medizinische Universitätsklinik A Universitätsspital Basel  ->  BS\n",
      "Institut für Sportwissenschaft Universität Bern  ->  BE\n",
      "Institut für Veterinärbakteriologie Universität Zürich  ->  ZH\n",
      "Laboratoire d'écologie végétale Institut de botanique Université de Neuchâtel  ->  NE\n",
      "Gastroenterologie-Zentrum Hirslanden Zürich  ->  ZH\n",
      "Institut für Genetik Veterinär-medizinische Fakultät Universität Bern  ->  BE\n",
      "Service Universitaire de Psycho- gériatrie de Lausanne Hôpital de Prilly  ->  VD\n",
      "Service Universitaire de Psycho- gériatrie de Lausanne Hôpital de Prilly  ->  VD\n",
      "Klinik für kleine Haustiere Universität Bern  ->  BE\n",
      "Klinische Psychologie und Psychotherapie Psychologisches Institut Universität Zürich  ->  ZH\n",
      "Abteilung für Onkologie Medizinische Universitätsklinik B Universitätsspital Basel  ->  BS\n",
      "Wasser- und Energiewirtschaftsamt des Kantons Bern  ->  BE\n",
      "Hôpital de Sion Service de Pédiatrie  ->  VS\n",
      "Psychologisches Institut Universität Zürich Klinische Psychologie  ->  ZH\n",
      "Institut für Verkehrsplanung und Transportsysteme ETH Zürich  ->  ZH\n",
      "BAK Konjunkturforschung Basel AG  ->  BS\n",
      "Oberforstamt des Kantons Zürich Abteilung Wald  ->  ZH\n",
      "Institut für Baustatik und Konstruktion IBK ETH Zürich  ->  ZH\n",
      "Institut für Politikwissenschaft Universität Bern  ->  BE\n",
      "Staatsarchiv des Kantons Bern  ->  BE\n",
      "Abteilung für Angewandte Mikroökonomie Universität Bern  ->  BE\n",
      "Institut für Sprachwissenschaft Universität Bern  ->  BE\n",
      "Institut für Integrierte Systeme ETH Zürich  ->  ZH\n",
      "UNI: Zürich CH  ->  ZH\n",
      "UNI: Genf Bern  Basel CH  ->  BE\n",
      "UNI: Genf Bern  Basel CH  ->  BS"
     ]
    },
    {
     "ename": "ValueError",
     "evalue": "I/O operation on closed file",
     "output_type": "error",
     "traceback": [
      "\u001b[1;31m---------------------------------------------------------------------------\u001b[0m",
      "\u001b[1;31mValueError\u001b[0m                                Traceback (most recent call last)",
      "\u001b[1;32m<ipython-input-113-db2d63544a14>\u001b[0m in \u001b[0;36m<module>\u001b[1;34m()\u001b[0m\n\u001b[0;32m      9\u001b[0m                 \u001b[0mprint\u001b[0m\u001b[1;33m(\u001b[0m\u001b[0mplace\u001b[0m\u001b[1;33m,\u001b[0m \u001b[1;34m\" -> \"\u001b[0m\u001b[1;33m,\u001b[0m \u001b[0mp\u001b[0m\u001b[1;33m)\u001b[0m\u001b[1;33m\u001b[0m\u001b[0m\n\u001b[0;32m     10\u001b[0m \u001b[1;33m\u001b[0m\u001b[0m\n\u001b[1;32m---> 11\u001b[1;33m \u001b[0mmap_inst_canton\u001b[0m\u001b[1;33m(\u001b[0m\u001b[0mhas_info\u001b[0m\u001b[1;33m)\u001b[0m\u001b[1;33m\u001b[0m\u001b[0m\n\u001b[0m",
      "\u001b[1;32m<ipython-input-113-db2d63544a14>\u001b[0m in \u001b[0;36mmap_inst_canton\u001b[1;34m(df)\u001b[0m\n\u001b[0;32m      7\u001b[0m             \u001b[1;32mif\u001b[0m \u001b[0mword\u001b[0m \u001b[1;32min\u001b[0m \u001b[0mswiss_towns\u001b[0m\u001b[1;33m.\u001b[0m\u001b[0mindex\u001b[0m\u001b[1;33m:\u001b[0m\u001b[1;33m\u001b[0m\u001b[0m\n\u001b[0;32m      8\u001b[0m                 \u001b[0mp\u001b[0m \u001b[1;33m=\u001b[0m \u001b[0mswiss_towns\u001b[0m\u001b[1;33m.\u001b[0m\u001b[0mloc\u001b[0m\u001b[1;33m[\u001b[0m\u001b[0mword\u001b[0m\u001b[1;33m]\u001b[0m\u001b[1;33m[\u001b[0m\u001b[1;34m'Canton'\u001b[0m\u001b[1;33m]\u001b[0m\u001b[1;33m\u001b[0m\u001b[0m\n\u001b[1;32m----> 9\u001b[1;33m                 \u001b[0mprint\u001b[0m\u001b[1;33m(\u001b[0m\u001b[0mplace\u001b[0m\u001b[1;33m,\u001b[0m \u001b[1;34m\" -> \"\u001b[0m\u001b[1;33m,\u001b[0m \u001b[0mp\u001b[0m\u001b[1;33m)\u001b[0m\u001b[1;33m\u001b[0m\u001b[0m\n\u001b[0m\u001b[0;32m     10\u001b[0m \u001b[1;33m\u001b[0m\u001b[0m\n\u001b[0;32m     11\u001b[0m \u001b[0mmap_inst_canton\u001b[0m\u001b[1;33m(\u001b[0m\u001b[0mhas_info\u001b[0m\u001b[1;33m)\u001b[0m\u001b[1;33m\u001b[0m\u001b[0m\n",
      "\u001b[1;32m/home/raccct/anaconda3/lib/python3.5/site-packages/ipykernel/iostream.py\u001b[0m in \u001b[0;36mwrite\u001b[1;34m(self, string)\u001b[0m\n\u001b[0;32m    315\u001b[0m \u001b[1;33m\u001b[0m\u001b[0m\n\u001b[0;32m    316\u001b[0m             \u001b[0mis_child\u001b[0m \u001b[1;33m=\u001b[0m \u001b[1;33m(\u001b[0m\u001b[1;32mnot\u001b[0m \u001b[0mself\u001b[0m\u001b[1;33m.\u001b[0m\u001b[0m_is_master_process\u001b[0m\u001b[1;33m(\u001b[0m\u001b[1;33m)\u001b[0m\u001b[1;33m)\u001b[0m\u001b[1;33m\u001b[0m\u001b[0m\n\u001b[1;32m--> 317\u001b[1;33m             \u001b[0mself\u001b[0m\u001b[1;33m.\u001b[0m\u001b[0m_buffer\u001b[0m\u001b[1;33m.\u001b[0m\u001b[0mwrite\u001b[0m\u001b[1;33m(\u001b[0m\u001b[0mstring\u001b[0m\u001b[1;33m)\u001b[0m\u001b[1;33m\u001b[0m\u001b[0m\n\u001b[0m\u001b[0;32m    318\u001b[0m             \u001b[1;32mif\u001b[0m \u001b[0mis_child\u001b[0m\u001b[1;33m:\u001b[0m\u001b[1;33m\u001b[0m\u001b[0m\n\u001b[0;32m    319\u001b[0m                 \u001b[1;31m# newlines imply flush in subprocesses\u001b[0m\u001b[1;33m\u001b[0m\u001b[1;33m\u001b[0m\u001b[0m\n",
      "\u001b[1;31mValueError\u001b[0m: I/O operation on closed file"
     ]
    }
   ],
   "source": [
    "# Direct mapping of canton with Switzerland town list from wikipedia https://en.wikipedia.org/wiki/List_of_cities_in_Switzerland\n",
    "\n",
    "def map_inst_canton(df):\n",
    "    for place in df['Institution'].unique():\n",
    "        if str(place) == 'nan':\n",
    "            continue\n",
    "        for word in place.split():\n",
    "            #print(word)\n",
    "            if word in swiss_towns.index:\n",
    "                p = swiss_towns.loc[word]['Canton']\n",
    "                print(place, \" -> \", p)\n",
    "\n",
    "map_inst_canton(has_info)"
   ]
  },
  {
   "cell_type": "code",
   "execution_count": 23,
   "metadata": {
    "collapsed": false
   },
   "outputs": [
    {
     "name": "stdout",
     "output_type": "stream",
     "text": [
      "''\n"
     ]
    }
   ],
   "source": [
    "pprint(canton_dict)"
   ]
  },
  {
   "cell_type": "code",
   "execution_count": 24,
   "metadata": {
    "collapsed": false
   },
   "outputs": [
    {
     "ename": "NameError",
     "evalue": "name 'university_grants' is not defined",
     "output_type": "error",
     "traceback": [
      "\u001b[1;31m---------------------------------------------------------------------------\u001b[0m",
      "\u001b[1;31mNameError\u001b[0m                                 Traceback (most recent call last)",
      "\u001b[1;32m<ipython-input-24-ee9451bcced4>\u001b[0m in \u001b[0;36m<module>\u001b[1;34m()\u001b[0m\n\u001b[1;32m----> 1\u001b[1;33m \u001b[0mgrants_with_has_code\u001b[0m \u001b[1;33m=\u001b[0m \u001b[0muniversity_grants\u001b[0m\u001b[1;33m.\u001b[0m\u001b[0mjoin\u001b[0m\u001b[1;33m(\u001b[0m\u001b[0mhas_canton_code\u001b[0m\u001b[1;33m)\u001b[0m\u001b[1;33m\u001b[0m\u001b[0m\n\u001b[0m\u001b[0;32m      2\u001b[0m \u001b[0mgrants_with_has_code\u001b[0m\u001b[1;33m.\u001b[0m\u001b[0mhead\u001b[0m\u001b[1;33m(\u001b[0m\u001b[1;33m)\u001b[0m\u001b[1;33m\u001b[0m\u001b[0m\n",
      "\u001b[1;31mNameError\u001b[0m: name 'university_grants' is not defined"
     ]
    }
   ],
   "source": [
    "grants_with_has_code = university_grants.join(has_canton_code)\n",
    "grants_with_has_code.head()"
   ]
  },
  {
   "cell_type": "code",
   "execution_count": 25,
   "metadata": {
    "collapsed": false
   },
   "outputs": [
    {
     "ename": "NameError",
     "evalue": "name 'university_grants' is not defined",
     "output_type": "error",
     "traceback": [
      "\u001b[1;31m---------------------------------------------------------------------------\u001b[0m",
      "\u001b[1;31mNameError\u001b[0m                                 Traceback (most recent call last)",
      "\u001b[1;32m<ipython-input-25-70d6e9ca8458>\u001b[0m in \u001b[0;36m<module>\u001b[1;34m()\u001b[0m\n\u001b[1;32m----> 1\u001b[1;33m \u001b[0muniversity_grants\u001b[0m\u001b[1;33m.\u001b[0m\u001b[0mhead\u001b[0m\u001b[1;33m(\u001b[0m\u001b[1;33m)\u001b[0m\u001b[1;33m\u001b[0m\u001b[0m\n\u001b[0m",
      "\u001b[1;31mNameError\u001b[0m: name 'university_grants' is not defined"
     ]
    }
   ],
   "source": [
    "university_grants.head()"
   ]
  },
  {
   "cell_type": "code",
   "execution_count": 26,
   "metadata": {
    "collapsed": false
   },
   "outputs": [
    {
     "ename": "NameError",
     "evalue": "name 'university_grants' is not defined",
     "output_type": "error",
     "traceback": [
      "\u001b[1;31m---------------------------------------------------------------------------\u001b[0m",
      "\u001b[1;31mNameError\u001b[0m                                 Traceback (most recent call last)",
      "\u001b[1;32m<ipython-input-26-9ec6ddae102b>\u001b[0m in \u001b[0;36m<module>\u001b[1;34m()\u001b[0m\n\u001b[1;32m----> 1\u001b[1;33m \u001b[0mextracts\u001b[0m \u001b[1;33m=\u001b[0m \u001b[0muniversity_grants\u001b[0m\u001b[1;33m[\u001b[0m\u001b[1;34m'University'\u001b[0m\u001b[1;33m]\u001b[0m\u001b[1;33m.\u001b[0m\u001b[0mstr\u001b[0m\u001b[1;33m.\u001b[0m\u001b[0mextract\u001b[0m\u001b[1;33m(\u001b[0m\u001b[1;34m'(?P<University>.*-)(?P<Code>.*)'\u001b[0m\u001b[1;33m,\u001b[0m \u001b[0mexpand\u001b[0m\u001b[1;33m=\u001b[0m\u001b[1;32mTrue\u001b[0m\u001b[1;33m)\u001b[0m\u001b[1;33m\u001b[0m\u001b[0m\n\u001b[0m\u001b[0;32m      2\u001b[0m \u001b[0mhas_code\u001b[0m \u001b[1;33m=\u001b[0m \u001b[0mpd\u001b[0m\u001b[1;33m.\u001b[0m\u001b[0mDataFrame\u001b[0m\u001b[1;33m(\u001b[0m \u001b[0mextracts\u001b[0m\u001b[1;33m[\u001b[0m\u001b[1;34m'Code'\u001b[0m\u001b[1;33m]\u001b[0m \u001b[1;33m)\u001b[0m\u001b[1;33m\u001b[0m\u001b[0m\n\u001b[0;32m      3\u001b[0m \u001b[0mhas_code\u001b[0m\u001b[1;33m.\u001b[0m\u001b[0mCode\u001b[0m\u001b[1;33m.\u001b[0m\u001b[0mapply\u001b[0m\u001b[1;33m(\u001b[0m\u001b[0mis_canton_code\u001b[0m\u001b[1;33m)\u001b[0m\u001b[1;33m\u001b[0m\u001b[0m\n\u001b[0;32m      4\u001b[0m \u001b[0mgrouped_has_code\u001b[0m \u001b[1;33m=\u001b[0m \u001b[0mhas_code\u001b[0m\u001b[1;33m.\u001b[0m\u001b[0mgroupby\u001b[0m\u001b[1;33m(\u001b[0m\u001b[1;34m'Code'\u001b[0m\u001b[1;33m)\u001b[0m\u001b[1;33m\u001b[0m\u001b[0m\n",
      "\u001b[1;31mNameError\u001b[0m: name 'university_grants' is not defined"
     ]
    }
   ],
   "source": [
    "extracts = university_grants['University'].str.extract('(?P<University>.*-)(?P<Code>.*)', expand=True)\n",
    "has_code = pd.DataFrame( extracts['Code'] )\n",
    "has_code.Code.apply(is_canton_code)\n",
    "grouped_has_code = has_code.groupby('Code')"
   ]
  },
  {
   "cell_type": "code",
   "execution_count": 27,
   "metadata": {
    "collapsed": false
   },
   "outputs": [],
   "source": [
    "only_institution_data = grants_data[grants_data[['University']].isnull().all(axis=1)].index"
   ]
  },
  {
   "cell_type": "markdown",
   "metadata": {},
   "source": [
    "## TODO:\n",
    "\n",
    "1. clean up this mess (:\n",
    "\n",
    "1. make one function for mapping a row to a canton\n",
    "   Suggested strategy: \n",
    "   \n",
    "   (we can only make 200 req. pr hour to the api, so we should try to keep the number down)\n",
    "   \n",
    "   1. Unique institutions, unique universities\n",
    "   2. Lookup institution name, place result in hashmap: institution -> canton\n",
    "   3. Parse university. If no canton code is given, lookup. Place result in the hashmap\n",
    "   4. In the function, do a query in our hashmap for each column. If conflict, return (?)\n",
    "\n",
    "1. apply the function to all rows in the data, add canton as a column\n",
    "1. make a df of Canton, Approved Amount\n",
    "1. Groupby canton, sum approved_amount, add a count column\n",
    "1. Plot the results on the map etc\n",
    "1 Bonus\n"
   ]
  },
  {
   "cell_type": "code",
   "execution_count": null,
   "metadata": {
    "collapsed": true
   },
   "outputs": [],
   "source": []
  }
 ],
 "metadata": {
  "anaconda-cloud": {},
  "kernelspec": {
   "display_name": "Python [Root]",
   "language": "python",
   "name": "Python [Root]"
  },
  "language_info": {
   "codemirror_mode": {
    "name": "ipython",
    "version": 3
   },
   "file_extension": ".py",
   "mimetype": "text/x-python",
   "name": "python",
   "nbconvert_exporter": "python",
   "pygments_lexer": "ipython3",
   "version": "3.5.2"
  }
 },
 "nbformat": 4,
 "nbformat_minor": 0
}
