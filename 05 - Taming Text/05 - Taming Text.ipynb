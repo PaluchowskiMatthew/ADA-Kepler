{
 "cells": [
  {
   "cell_type": "markdown",
   "metadata": {},
   "source": [
    "# Taming Text"
   ]
  },
  {
   "cell_type": "code",
   "execution_count": 1,
   "metadata": {
    "collapsed": false
   },
   "outputs": [],
   "source": [
    "# Normal stack of pandas, numpy, matplotlib and seaborn\n",
    "import pandas as pd\n",
    "import numpy as np\n",
    "import matplotlib.pyplot as plt\n",
    "import matplotlib.pylab as pylab\n",
    "import seaborn as sns\n",
    "import nltk\n",
    "from os import path\n",
    "from wordcloud import WordCloud # pip install wordcloud\n",
    "from PIL import Image\n",
    "\n",
    "%matplotlib inline"
   ]
  },
  {
   "cell_type": "markdown",
   "metadata": {},
   "source": [
    "First and foremost lets just load the data:"
   ]
  },
  {
   "cell_type": "code",
   "execution_count": 2,
   "metadata": {
    "collapsed": false
   },
   "outputs": [],
   "source": [
    "folder = 'hillary-clinton-emails/'\n",
    "aliases = pd.read_csv(folder + 'Aliases.csv', index_col='Id')\n",
    "email_receivers = pd.read_csv(folder + 'EmailReceivers.csv', index_col='Id')\n",
    "emails = pd.read_csv(folder + 'Emails.csv', index_col='Id')\n",
    "persons = pd.read_csv(folder + 'Persons.csv', index_col='Id')"
   ]
  },
  {
   "cell_type": "code",
   "execution_count": 3,
   "metadata": {
    "collapsed": false
   },
   "outputs": [
    {
     "data": {
      "text/html": [
       "<div>\n",
       "<table border=\"1\" class=\"dataframe\">\n",
       "  <thead>\n",
       "    <tr style=\"text-align: right;\">\n",
       "      <th></th>\n",
       "      <th>Alias</th>\n",
       "      <th>PersonId</th>\n",
       "    </tr>\n",
       "    <tr>\n",
       "      <th>Id</th>\n",
       "      <th></th>\n",
       "      <th></th>\n",
       "    </tr>\n",
       "  </thead>\n",
       "  <tbody>\n",
       "    <tr>\n",
       "      <th>1</th>\n",
       "      <td>111th congress</td>\n",
       "      <td>1</td>\n",
       "    </tr>\n",
       "    <tr>\n",
       "      <th>2</th>\n",
       "      <td>agna usemb kabul afghanistan</td>\n",
       "      <td>2</td>\n",
       "    </tr>\n",
       "    <tr>\n",
       "      <th>3</th>\n",
       "      <td>ap</td>\n",
       "      <td>3</td>\n",
       "    </tr>\n",
       "    <tr>\n",
       "      <th>4</th>\n",
       "      <td>asuncion</td>\n",
       "      <td>4</td>\n",
       "    </tr>\n",
       "    <tr>\n",
       "      <th>5</th>\n",
       "      <td>alec</td>\n",
       "      <td>5</td>\n",
       "    </tr>\n",
       "  </tbody>\n",
       "</table>\n",
       "</div>"
      ],
      "text/plain": [
       "                           Alias  PersonId\n",
       "Id                                        \n",
       "1                 111th congress         1\n",
       "2   agna usemb kabul afghanistan         2\n",
       "3                             ap         3\n",
       "4                       asuncion         4\n",
       "5                           alec         5"
      ]
     },
     "execution_count": 3,
     "metadata": {},
     "output_type": "execute_result"
    }
   ],
   "source": [
    "aliases.head()"
   ]
  },
  {
   "cell_type": "code",
   "execution_count": 4,
   "metadata": {
    "collapsed": false
   },
   "outputs": [
    {
     "data": {
      "text/html": [
       "<div>\n",
       "<table border=\"1\" class=\"dataframe\">\n",
       "  <thead>\n",
       "    <tr style=\"text-align: right;\">\n",
       "      <th></th>\n",
       "      <th>EmailId</th>\n",
       "      <th>PersonId</th>\n",
       "    </tr>\n",
       "    <tr>\n",
       "      <th>Id</th>\n",
       "      <th></th>\n",
       "      <th></th>\n",
       "    </tr>\n",
       "  </thead>\n",
       "  <tbody>\n",
       "    <tr>\n",
       "      <th>1</th>\n",
       "      <td>1</td>\n",
       "      <td>80</td>\n",
       "    </tr>\n",
       "    <tr>\n",
       "      <th>2</th>\n",
       "      <td>2</td>\n",
       "      <td>80</td>\n",
       "    </tr>\n",
       "    <tr>\n",
       "      <th>3</th>\n",
       "      <td>3</td>\n",
       "      <td>228</td>\n",
       "    </tr>\n",
       "    <tr>\n",
       "      <th>4</th>\n",
       "      <td>3</td>\n",
       "      <td>80</td>\n",
       "    </tr>\n",
       "    <tr>\n",
       "      <th>5</th>\n",
       "      <td>4</td>\n",
       "      <td>80</td>\n",
       "    </tr>\n",
       "  </tbody>\n",
       "</table>\n",
       "</div>"
      ],
      "text/plain": [
       "    EmailId  PersonId\n",
       "Id                   \n",
       "1         1        80\n",
       "2         2        80\n",
       "3         3       228\n",
       "4         3        80\n",
       "5         4        80"
      ]
     },
     "execution_count": 4,
     "metadata": {},
     "output_type": "execute_result"
    }
   ],
   "source": [
    "email_receivers.head()"
   ]
  },
  {
   "cell_type": "code",
   "execution_count": 5,
   "metadata": {
    "collapsed": false
   },
   "outputs": [
    {
     "data": {
      "text/html": [
       "<div>\n",
       "<table border=\"1\" class=\"dataframe\">\n",
       "  <thead>\n",
       "    <tr style=\"text-align: right;\">\n",
       "      <th></th>\n",
       "      <th>DocNumber</th>\n",
       "      <th>MetadataSubject</th>\n",
       "      <th>MetadataTo</th>\n",
       "      <th>MetadataFrom</th>\n",
       "      <th>SenderPersonId</th>\n",
       "      <th>MetadataDateSent</th>\n",
       "      <th>MetadataDateReleased</th>\n",
       "      <th>MetadataPdfLink</th>\n",
       "      <th>MetadataCaseNumber</th>\n",
       "      <th>MetadataDocumentClass</th>\n",
       "      <th>...</th>\n",
       "      <th>ExtractedTo</th>\n",
       "      <th>ExtractedFrom</th>\n",
       "      <th>ExtractedCc</th>\n",
       "      <th>ExtractedDateSent</th>\n",
       "      <th>ExtractedCaseNumber</th>\n",
       "      <th>ExtractedDocNumber</th>\n",
       "      <th>ExtractedDateReleased</th>\n",
       "      <th>ExtractedReleaseInPartOrFull</th>\n",
       "      <th>ExtractedBodyText</th>\n",
       "      <th>RawText</th>\n",
       "    </tr>\n",
       "    <tr>\n",
       "      <th>Id</th>\n",
       "      <th></th>\n",
       "      <th></th>\n",
       "      <th></th>\n",
       "      <th></th>\n",
       "      <th></th>\n",
       "      <th></th>\n",
       "      <th></th>\n",
       "      <th></th>\n",
       "      <th></th>\n",
       "      <th></th>\n",
       "      <th></th>\n",
       "      <th></th>\n",
       "      <th></th>\n",
       "      <th></th>\n",
       "      <th></th>\n",
       "      <th></th>\n",
       "      <th></th>\n",
       "      <th></th>\n",
       "      <th></th>\n",
       "      <th></th>\n",
       "      <th></th>\n",
       "    </tr>\n",
       "  </thead>\n",
       "  <tbody>\n",
       "    <tr>\n",
       "      <th>1</th>\n",
       "      <td>C05739545</td>\n",
       "      <td>WOW</td>\n",
       "      <td>H</td>\n",
       "      <td>Sullivan, Jacob J</td>\n",
       "      <td>87.0</td>\n",
       "      <td>2012-09-12T04:00:00+00:00</td>\n",
       "      <td>2015-05-22T04:00:00+00:00</td>\n",
       "      <td>DOCUMENTS/HRC_Email_1_296/HRCH2/DOC_0C05739545...</td>\n",
       "      <td>F-2015-04841</td>\n",
       "      <td>HRC_Email_296</td>\n",
       "      <td>...</td>\n",
       "      <td>NaN</td>\n",
       "      <td>Sullivan, Jacob J &lt;Sullivan11@state.gov&gt;</td>\n",
       "      <td>NaN</td>\n",
       "      <td>Wednesday, September 12, 2012 10:16 AM</td>\n",
       "      <td>F-2015-04841</td>\n",
       "      <td>C05739545</td>\n",
       "      <td>05/13/2015</td>\n",
       "      <td>RELEASE IN FULL</td>\n",
       "      <td>NaN</td>\n",
       "      <td>UNCLASSIFIED\\nU.S. Department of State\\nCase N...</td>\n",
       "    </tr>\n",
       "    <tr>\n",
       "      <th>2</th>\n",
       "      <td>C05739546</td>\n",
       "      <td>H: LATEST: HOW SYRIA IS AIDING QADDAFI AND MOR...</td>\n",
       "      <td>H</td>\n",
       "      <td>NaN</td>\n",
       "      <td>NaN</td>\n",
       "      <td>2011-03-03T05:00:00+00:00</td>\n",
       "      <td>2015-05-22T04:00:00+00:00</td>\n",
       "      <td>DOCUMENTS/HRC_Email_1_296/HRCH1/DOC_0C05739546...</td>\n",
       "      <td>F-2015-04841</td>\n",
       "      <td>HRC_Email_296</td>\n",
       "      <td>...</td>\n",
       "      <td>NaN</td>\n",
       "      <td>NaN</td>\n",
       "      <td>NaN</td>\n",
       "      <td>NaN</td>\n",
       "      <td>F-2015-04841</td>\n",
       "      <td>C05739546</td>\n",
       "      <td>05/13/2015</td>\n",
       "      <td>RELEASE IN PART</td>\n",
       "      <td>B6\\nThursday, March 3, 2011 9:45 PM\\nH: Latest...</td>\n",
       "      <td>UNCLASSIFIED\\nU.S. Department of State\\nCase N...</td>\n",
       "    </tr>\n",
       "    <tr>\n",
       "      <th>3</th>\n",
       "      <td>C05739547</td>\n",
       "      <td>CHRIS STEVENS</td>\n",
       "      <td>;H</td>\n",
       "      <td>Mills, Cheryl D</td>\n",
       "      <td>32.0</td>\n",
       "      <td>2012-09-12T04:00:00+00:00</td>\n",
       "      <td>2015-05-22T04:00:00+00:00</td>\n",
       "      <td>DOCUMENTS/HRC_Email_1_296/HRCH2/DOC_0C05739547...</td>\n",
       "      <td>F-2015-04841</td>\n",
       "      <td>HRC_Email_296</td>\n",
       "      <td>...</td>\n",
       "      <td>B6</td>\n",
       "      <td>Mills, Cheryl D &lt;MillsCD@state.gov&gt;</td>\n",
       "      <td>Abedin, Huma</td>\n",
       "      <td>Wednesday, September 12, 2012 11:52 AM</td>\n",
       "      <td>F-2015-04841</td>\n",
       "      <td>C05739547</td>\n",
       "      <td>05/14/2015</td>\n",
       "      <td>RELEASE IN PART</td>\n",
       "      <td>Thx</td>\n",
       "      <td>UNCLASSIFIED\\nU.S. Department of State\\nCase N...</td>\n",
       "    </tr>\n",
       "    <tr>\n",
       "      <th>4</th>\n",
       "      <td>C05739550</td>\n",
       "      <td>CAIRO CONDEMNATION - FINAL</td>\n",
       "      <td>H</td>\n",
       "      <td>Mills, Cheryl D</td>\n",
       "      <td>32.0</td>\n",
       "      <td>2012-09-12T04:00:00+00:00</td>\n",
       "      <td>2015-05-22T04:00:00+00:00</td>\n",
       "      <td>DOCUMENTS/HRC_Email_1_296/HRCH2/DOC_0C05739550...</td>\n",
       "      <td>F-2015-04841</td>\n",
       "      <td>HRC_Email_296</td>\n",
       "      <td>...</td>\n",
       "      <td>NaN</td>\n",
       "      <td>Mills, Cheryl D &lt;MillsCD@state.gov&gt;</td>\n",
       "      <td>Mitchell, Andrew B</td>\n",
       "      <td>Wednesday, September 12,2012 12:44 PM</td>\n",
       "      <td>F-2015-04841</td>\n",
       "      <td>C05739550</td>\n",
       "      <td>05/13/2015</td>\n",
       "      <td>RELEASE IN PART</td>\n",
       "      <td>NaN</td>\n",
       "      <td>UNCLASSIFIED\\nU.S. Department of State\\nCase N...</td>\n",
       "    </tr>\n",
       "    <tr>\n",
       "      <th>5</th>\n",
       "      <td>C05739554</td>\n",
       "      <td>H: LATEST: HOW SYRIA IS AIDING QADDAFI AND MOR...</td>\n",
       "      <td>Abedin, Huma</td>\n",
       "      <td>H</td>\n",
       "      <td>80.0</td>\n",
       "      <td>2011-03-11T05:00:00+00:00</td>\n",
       "      <td>2015-05-22T04:00:00+00:00</td>\n",
       "      <td>DOCUMENTS/HRC_Email_1_296/HRCH1/DOC_0C05739554...</td>\n",
       "      <td>F-2015-04841</td>\n",
       "      <td>HRC_Email_296</td>\n",
       "      <td>...</td>\n",
       "      <td>NaN</td>\n",
       "      <td>NaN</td>\n",
       "      <td>NaN</td>\n",
       "      <td>NaN</td>\n",
       "      <td>F-2015-04841</td>\n",
       "      <td>C05739554</td>\n",
       "      <td>05/13/2015</td>\n",
       "      <td>RELEASE IN PART</td>\n",
       "      <td>H &lt;hrod17@clintonemail.com&gt;\\nFriday, March 11,...</td>\n",
       "      <td>B6\\nUNCLASSIFIED\\nU.S. Department of State\\nCa...</td>\n",
       "    </tr>\n",
       "  </tbody>\n",
       "</table>\n",
       "<p>5 rows × 21 columns</p>\n",
       "</div>"
      ],
      "text/plain": [
       "    DocNumber                                    MetadataSubject  \\\n",
       "Id                                                                 \n",
       "1   C05739545                                                WOW   \n",
       "2   C05739546  H: LATEST: HOW SYRIA IS AIDING QADDAFI AND MOR...   \n",
       "3   C05739547                                      CHRIS STEVENS   \n",
       "4   C05739550                         CAIRO CONDEMNATION - FINAL   \n",
       "5   C05739554  H: LATEST: HOW SYRIA IS AIDING QADDAFI AND MOR...   \n",
       "\n",
       "      MetadataTo       MetadataFrom  SenderPersonId  \\\n",
       "Id                                                    \n",
       "1              H  Sullivan, Jacob J            87.0   \n",
       "2              H                NaN             NaN   \n",
       "3             ;H    Mills, Cheryl D            32.0   \n",
       "4              H    Mills, Cheryl D            32.0   \n",
       "5   Abedin, Huma                  H            80.0   \n",
       "\n",
       "             MetadataDateSent       MetadataDateReleased  \\\n",
       "Id                                                         \n",
       "1   2012-09-12T04:00:00+00:00  2015-05-22T04:00:00+00:00   \n",
       "2   2011-03-03T05:00:00+00:00  2015-05-22T04:00:00+00:00   \n",
       "3   2012-09-12T04:00:00+00:00  2015-05-22T04:00:00+00:00   \n",
       "4   2012-09-12T04:00:00+00:00  2015-05-22T04:00:00+00:00   \n",
       "5   2011-03-11T05:00:00+00:00  2015-05-22T04:00:00+00:00   \n",
       "\n",
       "                                      MetadataPdfLink MetadataCaseNumber  \\\n",
       "Id                                                                         \n",
       "1   DOCUMENTS/HRC_Email_1_296/HRCH2/DOC_0C05739545...       F-2015-04841   \n",
       "2   DOCUMENTS/HRC_Email_1_296/HRCH1/DOC_0C05739546...       F-2015-04841   \n",
       "3   DOCUMENTS/HRC_Email_1_296/HRCH2/DOC_0C05739547...       F-2015-04841   \n",
       "4   DOCUMENTS/HRC_Email_1_296/HRCH2/DOC_0C05739550...       F-2015-04841   \n",
       "5   DOCUMENTS/HRC_Email_1_296/HRCH1/DOC_0C05739554...       F-2015-04841   \n",
       "\n",
       "   MetadataDocumentClass                        ...                          \\\n",
       "Id                                              ...                           \n",
       "1          HRC_Email_296                        ...                           \n",
       "2          HRC_Email_296                        ...                           \n",
       "3          HRC_Email_296                        ...                           \n",
       "4          HRC_Email_296                        ...                           \n",
       "5          HRC_Email_296                        ...                           \n",
       "\n",
       "   ExtractedTo                             ExtractedFrom         ExtractedCc  \\\n",
       "Id                                                                             \n",
       "1          NaN  Sullivan, Jacob J <Sullivan11@state.gov>                 NaN   \n",
       "2          NaN                                       NaN                 NaN   \n",
       "3           B6       Mills, Cheryl D <MillsCD@state.gov>        Abedin, Huma   \n",
       "4          NaN       Mills, Cheryl D <MillsCD@state.gov>  Mitchell, Andrew B   \n",
       "5          NaN                                       NaN                 NaN   \n",
       "\n",
       "                         ExtractedDateSent ExtractedCaseNumber  \\\n",
       "Id                                                               \n",
       "1   Wednesday, September 12, 2012 10:16 AM        F-2015-04841   \n",
       "2                                      NaN        F-2015-04841   \n",
       "3   Wednesday, September 12, 2012 11:52 AM        F-2015-04841   \n",
       "4    Wednesday, September 12,2012 12:44 PM        F-2015-04841   \n",
       "5                                      NaN        F-2015-04841   \n",
       "\n",
       "   ExtractedDocNumber ExtractedDateReleased ExtractedReleaseInPartOrFull  \\\n",
       "Id                                                                         \n",
       "1           C05739545            05/13/2015              RELEASE IN FULL   \n",
       "2           C05739546            05/13/2015              RELEASE IN PART   \n",
       "3           C05739547            05/14/2015              RELEASE IN PART   \n",
       "4           C05739550            05/13/2015              RELEASE IN PART   \n",
       "5           C05739554            05/13/2015              RELEASE IN PART   \n",
       "\n",
       "                                    ExtractedBodyText  \\\n",
       "Id                                                      \n",
       "1                                                 NaN   \n",
       "2   B6\\nThursday, March 3, 2011 9:45 PM\\nH: Latest...   \n",
       "3                                                 Thx   \n",
       "4                                                 NaN   \n",
       "5   H <hrod17@clintonemail.com>\\nFriday, March 11,...   \n",
       "\n",
       "                                              RawText  \n",
       "Id                                                     \n",
       "1   UNCLASSIFIED\\nU.S. Department of State\\nCase N...  \n",
       "2   UNCLASSIFIED\\nU.S. Department of State\\nCase N...  \n",
       "3   UNCLASSIFIED\\nU.S. Department of State\\nCase N...  \n",
       "4   UNCLASSIFIED\\nU.S. Department of State\\nCase N...  \n",
       "5   B6\\nUNCLASSIFIED\\nU.S. Department of State\\nCa...  \n",
       "\n",
       "[5 rows x 21 columns]"
      ]
     },
     "execution_count": 5,
     "metadata": {},
     "output_type": "execute_result"
    }
   ],
   "source": [
    "emails.head()"
   ]
  },
  {
   "cell_type": "code",
   "execution_count": 6,
   "metadata": {
    "collapsed": false
   },
   "outputs": [
    {
     "data": {
      "text/plain": [
       "Index(['DocNumber', 'MetadataSubject', 'MetadataTo', 'MetadataFrom',\n",
       "       'SenderPersonId', 'MetadataDateSent', 'MetadataDateReleased',\n",
       "       'MetadataPdfLink', 'MetadataCaseNumber', 'MetadataDocumentClass',\n",
       "       'ExtractedSubject', 'ExtractedTo', 'ExtractedFrom', 'ExtractedCc',\n",
       "       'ExtractedDateSent', 'ExtractedCaseNumber', 'ExtractedDocNumber',\n",
       "       'ExtractedDateReleased', 'ExtractedReleaseInPartOrFull',\n",
       "       'ExtractedBodyText', 'RawText'],\n",
       "      dtype='object')"
      ]
     },
     "execution_count": 6,
     "metadata": {},
     "output_type": "execute_result"
    }
   ],
   "source": [
    "emails.columns"
   ]
  },
  {
   "cell_type": "code",
   "execution_count": 7,
   "metadata": {
    "collapsed": false
   },
   "outputs": [],
   "source": [
    "emailsList = emails['ExtractedBodyText'].tolist()\n",
    "cleanedList = [str(x) for x in emailsList if str(x) != 'nan']"
   ]
  },
  {
   "cell_type": "code",
   "execution_count": 8,
   "metadata": {
    "collapsed": false
   },
   "outputs": [],
   "source": [
    "rawExtractedBody = ' '.join(cleanedList)"
   ]
  },
  {
   "cell_type": "code",
   "execution_count": 9,
   "metadata": {
    "collapsed": false
   },
   "outputs": [
    {
     "data": {
      "image/png": "[encoded data removed]",
      "text/plain": [
       "<matplotlib.figure.Figure at 0x11b79e7b8>"
      ]
     },
     "metadata": {},
     "output_type": "display_data"
    },
    {
     "data": {
      "image/png": "[encoded data removed]",
      "text/plain": [
       "<matplotlib.figure.Figure at 0x11b7d05f8>"
      ]
     },
     "metadata": {},
     "output_type": "display_data"
    }
   ],
   "source": [
    "def generate_word_cloud(text):\n",
    "    mask = np.array(Image.open(\"hillary_mask_1.jpg\"))\n",
    "    \n",
    "    # Generate a word cloud image\n",
    "    wordcloud = WordCloud(mask=mask).generate(text)\n",
    "    \n",
    "    # Display the generated image:\n",
    "    plt.imshow(wordcloud)\n",
    "    plt.axis(\"off\")\n",
    "\n",
    "    # lower max_font_size\n",
    "    wordcloud = WordCloud(max_font_size=40, mask=mask).generate(text)\n",
    "    plt.figure()\n",
    "    plt.imshow(wordcloud)\n",
    "    plt.axis(\"off\")\n",
    "    plt.show()\n",
    "    \n",
    "generate_word_cloud(rawExtractedBody)"
   ]
  },
  {
   "cell_type": "markdown",
   "metadata": {},
   "source": [
    "## Preprosessing\n",
    "\n",
    "- Tokenizing\n",
    "- Stemming\n",
    "- Stop word removal"
   ]
  },
  {
   "cell_type": "code",
   "execution_count": 10,
   "metadata": {
    "collapsed": true
   },
   "outputs": [],
   "source": [
    "from nltk.tokenize import RegexpTokenizer\n",
    "\n",
    "# Make a tokenizer that only the words (e.g. remove punctuation)\n",
    "tokenizer = RegexpTokenizer(r'\\w+')"
   ]
  },
  {
   "cell_type": "code",
   "execution_count": 11,
   "metadata": {
    "collapsed": false
   },
   "outputs": [
    {
     "data": {
      "text/plain": [
       "0           B6\n",
       "1     Thursday\n",
       "2        March\n",
       "3            3\n",
       "4         2011\n",
       "5            9\n",
       "6           45\n",
       "7           PM\n",
       "8            H\n",
       "9       Latest\n",
       "10         How\n",
       "11       Syria\n",
       "12          is\n",
       "13      aiding\n",
       "14     Qaddafi\n",
       "dtype: object"
      ]
     },
     "execution_count": 11,
     "metadata": {},
     "output_type": "execute_result"
    }
   ],
   "source": [
    "tokens = pd.Series(tokenizer.tokenize(rawExtractedBody))\n",
    "tokens.head(15)"
   ]
  },
  {
   "cell_type": "markdown",
   "metadata": {},
   "source": [
    "### Stemming"
   ]
  },
  {
   "cell_type": "code",
   "execution_count": 12,
   "metadata": {
    "collapsed": false
   },
   "outputs": [],
   "source": [
    "from nltk.stem import SnowballStemmer\n",
    "\n",
    "stemmer = SnowballStemmer('english')\n",
    "\n",
    "stemmed = tokens.apply(stemmer.stem)"
   ]
  },
  {
   "cell_type": "code",
   "execution_count": 13,
   "metadata": {
    "collapsed": false
   },
   "outputs": [
    {
     "data": {
      "text/plain": [
       "0           b6\n",
       "1     thursday\n",
       "2        march\n",
       "3            3\n",
       "4         2011\n",
       "5            9\n",
       "6           45\n",
       "7           pm\n",
       "8            h\n",
       "9       latest\n",
       "10         how\n",
       "11       syria\n",
       "12          is\n",
       "13         aid\n",
       "14     qaddafi\n",
       "dtype: object"
      ]
     },
     "execution_count": 13,
     "metadata": {},
     "output_type": "execute_result"
    }
   ],
   "source": [
    "stemmed.head(15)"
   ]
  },
  {
   "cell_type": "markdown",
   "metadata": {},
   "source": [
    "### Stopword removal"
   ]
  },
  {
   "cell_type": "code",
   "execution_count": 14,
   "metadata": {
    "collapsed": false
   },
   "outputs": [],
   "source": [
    "from nltk.corpus import stopwords\n",
    "\n",
    "stop = set(stopwords.words('english'))\n",
    "\n",
    "no_stopwords = stemmed[stemmed.apply(lambda x: x not in stop)]"
   ]
  },
  {
   "cell_type": "code",
   "execution_count": 15,
   "metadata": {
    "collapsed": false
   },
   "outputs": [
    {
     "data": {
      "text/plain": [
       "0           b6\n",
       "1     thursday\n",
       "2        march\n",
       "3            3\n",
       "4         2011\n",
       "5            9\n",
       "6           45\n",
       "7           pm\n",
       "8            h\n",
       "9       latest\n",
       "11       syria\n",
       "13         aid\n",
       "14     qaddafi\n",
       "17         sid\n",
       "18         hrc\n",
       "dtype: object"
      ]
     },
     "execution_count": 15,
     "metadata": {},
     "output_type": "execute_result"
    }
   ],
   "source": [
    "no_stopwords.head(15)"
   ]
  },
  {
   "cell_type": "code",
   "execution_count": 16,
   "metadata": {
    "collapsed": false
   },
   "outputs": [
    {
     "data": {
      "text/plain": [
       "(368718,)"
      ]
     },
     "execution_count": 16,
     "metadata": {},
     "output_type": "execute_result"
    }
   ],
   "source": [
    "no_stopwords.shape"
   ]
  },
  {
   "cell_type": "code",
   "execution_count": 17,
   "metadata": {
    "collapsed": false
   },
   "outputs": [
    {
     "name": "stdout",
     "output_type": "stream",
     "text": [
      "Removing stopwords took away 41.13% of the words\n"
     ]
    }
   ],
   "source": [
    "print('Removing stopwords took away %.2f%% of the words' % (100*(1 - no_stopwords.shape[0] / stemmed.shape[0])))"
   ]
  },
  {
   "cell_type": "code",
   "execution_count": 18,
   "metadata": {
    "collapsed": false
   },
   "outputs": [
    {
     "data": {
      "image/png": "[encoded data removed]",
      "text/plain": [
       "<matplotlib.figure.Figure at 0x12756dba8>"
      ]
     },
     "metadata": {},
     "output_type": "display_data"
    },
    {
     "data": {
      "image/png": "[encoded data removed]",
      "text/plain": [
       "<matplotlib.figure.Figure at 0x127585eb8>"
      ]
     },
     "metadata": {},
     "output_type": "display_data"
    }
   ],
   "source": [
    "generate_word_cloud(no_stopwords.to_string(index=False, header=False))"
   ]
  },
  {
   "cell_type": "markdown",
   "metadata": {},
   "source": [
    "## 2.\n"
   ]
  },
  {
   "cell_type": "code",
   "execution_count": 19,
   "metadata": {
    "collapsed": false
   },
   "outputs": [
    {
     "data": {
      "text/plain": [
       "249"
      ]
     },
     "execution_count": 19,
     "metadata": {},
     "output_type": "execute_result"
    }
   ],
   "source": [
    "import pycountry # pip install pycountry\n",
    "len(pycountry.countries)"
   ]
  },
  {
   "cell_type": "code",
   "execution_count": 57,
   "metadata": {
    "collapsed": false
   },
   "outputs": [
    {
     "data": {
      "text/plain": [
       "Country(alpha_2='PM', alpha_3='SPM', name='Saint Pierre and Miquelon', numeric='666')"
      ]
     },
     "execution_count": 57,
     "metadata": {},
     "output_type": "execute_result"
    }
   ],
   "source": [
    "pycountry.countries.lookup('PM')\n"
   ]
  },
  {
   "cell_type": "code",
   "execution_count": 21,
   "metadata": {
    "collapsed": false
   },
   "outputs": [],
   "source": [
    "emailsList = emails['ExtractedBodyText'].astype(str)\n",
    "tokenized = emailsList.apply(tokenizer.tokenize)"
   ]
  },
  {
   "cell_type": "code",
   "execution_count": 22,
   "metadata": {
    "collapsed": false
   },
   "outputs": [
    {
     "data": {
      "text/plain": [
       "Id\n",
       "1                                                [nan]\n",
       "2    [B6, Thursday, March, 3, 2011, 9, 45, PM, H, L...\n",
       "3                                                [Thx]\n",
       "4                                                [nan]\n",
       "5    [H, hrod17, clintonemail, com, Friday, March, ...\n",
       "Name: ExtractedBodyText, dtype: object"
      ]
     },
     "execution_count": 22,
     "metadata": {},
     "output_type": "execute_result"
    }
   ],
   "source": [
    "tokenized.head()"
   ]
  },
  {
   "cell_type": "code",
   "execution_count": 23,
   "metadata": {
    "collapsed": false
   },
   "outputs": [],
   "source": [
    "stemmed = tokenized.apply(lambda x: [stemmer.stem(w) for w in x])"
   ]
  },
  {
   "cell_type": "code",
   "execution_count": 24,
   "metadata": {
    "collapsed": false
   },
   "outputs": [
    {
     "data": {
      "text/plain": [
       "Id\n",
       "1                                                [nan]\n",
       "2    [b6, thursday, march, 3, 2011, 9, 45, pm, h, l...\n",
       "3                                                [thx]\n",
       "4                                                [nan]\n",
       "5    [h, hrod17, clintonemail, com, friday, march, ...\n",
       "Name: ExtractedBodyText, dtype: object"
      ]
     },
     "execution_count": 24,
     "metadata": {},
     "output_type": "execute_result"
    }
   ],
   "source": [
    "stemmed.head()"
   ]
  },
  {
   "cell_type": "code",
   "execution_count": 25,
   "metadata": {
    "collapsed": false
   },
   "outputs": [],
   "source": [
    "no_stopwords = stemmed.apply(lambda x: [w for w in x if (w not in stop) ])"
   ]
  },
  {
   "cell_type": "code",
   "execution_count": 26,
   "metadata": {
    "collapsed": false
   },
   "outputs": [
    {
     "data": {
      "text/plain": [
       "Id\n",
       "1                                                [nan]\n",
       "2    [b6, thursday, march, 3, 2011, 9, 45, pm, h, l...\n",
       "3                                                [thx]\n",
       "4                                                [nan]\n",
       "5    [h, hrod17, clintonemail, com, friday, march, ...\n",
       "Name: ExtractedBodyText, dtype: object"
      ]
     },
     "execution_count": 26,
     "metadata": {},
     "output_type": "execute_result"
    }
   ],
   "source": [
    "no_stopwords.head()"
   ]
  },
  {
   "cell_type": "code",
   "execution_count": 52,
   "metadata": {
    "collapsed": false
   },
   "outputs": [],
   "source": [
    "import operator\n",
    "\n",
    "def lookup_country(email):\n",
    "    countries = []\n",
    "    for word in email:\n",
    "        try:\n",
    "            if word in ['pm', 'spm', '666', 'com', '174']:\n",
    "                continue\n",
    "            country_name = pycountry.countries.lookup(word).name\n",
    "            countries.append(country_name)\n",
    "        except:\n",
    "            continue\n",
    "    if countries:\n",
    "        top_country = max(set(countries), key=countries.count)\n",
    "    else:\n",
    "        top_country = np.NaN\n",
    "    return top_country"
   ]
  },
  {
   "cell_type": "code",
   "execution_count": 53,
   "metadata": {
    "collapsed": false
   },
   "outputs": [],
   "source": [
    "country = no_stopwords.apply(lookup_country)"
   ]
  },
  {
   "cell_type": "code",
   "execution_count": 54,
   "metadata": {
    "collapsed": false
   },
   "outputs": [
    {
     "data": {
      "text/plain": [
       "['pis',\n",
       " 'print',\n",
       " 'h',\n",
       " 'hrod17',\n",
       " 'clintonernailcom',\n",
       " 'wednesday',\n",
       " 'septemb',\n",
       " '12',\n",
       " '2012',\n",
       " '2',\n",
       " '11',\n",
       " 'pm',\n",
       " 'russorv',\n",
       " 'state',\n",
       " 'gov',\n",
       " 'fw',\n",
       " 'meet',\n",
       " 'right',\n",
       " 'wing',\n",
       " 'extremist',\n",
       " 'behind',\n",
       " 'anti',\n",
       " 'fvluslim',\n",
       " 'film',\n",
       " 'spark',\n",
       " 'dead',\n",
       " 'riot',\n",
       " 'meat',\n",
       " 'sent',\n",
       " 'wednesday',\n",
       " 'septemb',\n",
       " '12',\n",
       " '2012',\n",
       " '01',\n",
       " '00',\n",
       " 'pm',\n",
       " '11',\n",
       " 'subject',\n",
       " 'meet',\n",
       " 'right',\n",
       " 'wing',\n",
       " 'extremist',\n",
       " 'behind',\n",
       " 'anti',\n",
       " 'muslim',\n",
       " 'film',\n",
       " 'spark',\n",
       " 'dead',\n",
       " 'riot',\n",
       " 'htte',\n",
       " 'maxbiumenth',\n",
       " 'com12012',\n",
       " '09',\n",
       " 'meet',\n",
       " 'right',\n",
       " 'wing',\n",
       " 'extremist',\n",
       " 'behind',\n",
       " 'anti',\n",
       " 'musiim',\n",
       " 'tihn',\n",
       " 'spark',\n",
       " 'dead',\n",
       " 'riot',\n",
       " 'sent',\n",
       " 'verizon',\n",
       " 'wireless',\n",
       " '4g',\n",
       " 'lte',\n",
       " 'droid',\n",
       " 'u',\n",
       " 'depart',\n",
       " 'state',\n",
       " 'case',\n",
       " 'f',\n",
       " '2015',\n",
       " '04841',\n",
       " 'doc',\n",
       " 'c05739559',\n",
       " 'date',\n",
       " '05',\n",
       " '13',\n",
       " '2015',\n",
       " 'state',\n",
       " 'dept',\n",
       " 'produc',\n",
       " 'hous',\n",
       " 'select',\n",
       " 'benghazi',\n",
       " 'comm',\n",
       " 'subject',\n",
       " 'agreement',\n",
       " 'sensit',\n",
       " 'inform',\n",
       " 'redact',\n",
       " 'foia',\n",
       " 'waiver',\n",
       " 'state',\n",
       " '5cb0045251']"
      ]
     },
     "execution_count": 54,
     "metadata": {},
     "output_type": "execute_result"
    }
   ],
   "source": [
    "# country[country == 'Saint Pierre and Miquelon']\n",
    "no_stopwords.ix[6]"
   ]
  },
  {
   "cell_type": "code",
   "execution_count": 55,
   "metadata": {
    "collapsed": false
   },
   "outputs": [
    {
     "data": {
      "text/plain": [
       "United States                                   218\n",
       "Micronesia, Federated States of                  67\n",
       "Haiti                                            63\n",
       "Israel                                           60\n",
       "Afghanistan                                      57\n",
       "Montserrat                                       44\n",
       "China                                            41\n",
       "Andorra                                          40\n",
       "Mauritania                                       38\n",
       "Pakistan                                         34\n",
       "Libya                                            34\n",
       "Albania                                          34\n",
       "Angola                                           30\n",
       "Peru                                             28\n",
       "Jamaica                                          28\n",
       "India                                            24\n",
       "Iraq                                             21\n",
       "Senegal                                          19\n",
       "Guyana                                           19\n",
       "Ireland                                          19\n",
       "Turkey                                           17\n",
       "Indonesia                                        16\n",
       "Tuvalu                                           16\n",
       "Sao Tome and Principe                            14\n",
       "Bulgaria                                         14\n",
       "Mexico                                           13\n",
       "Armenia                                          13\n",
       "Cocos (Keeling) Islands                          13\n",
       "Egypt                                            12\n",
       "Sudan                                            12\n",
       "                                               ... \n",
       "South Georgia and the South Sandwich Islands      1\n",
       "Denmark                                           1\n",
       "Jersey                                            1\n",
       "Bosnia and Herzegovina                            1\n",
       "Croatia                                           1\n",
       "Papua New Guinea                                  1\n",
       "Saint Martin (French part)                        1\n",
       "Syrian Arab Republic                              1\n",
       "Mongolia                                          1\n",
       "Cyprus                                            1\n",
       "Korea, Republic of                                1\n",
       "Greece                                            1\n",
       "Eritrea                                           1\n",
       "Palestine, State of                               1\n",
       "Gambia                                            1\n",
       "Niger                                             1\n",
       "Gabon                                             1\n",
       "Moldova, Republic of                              1\n",
       "Guam                                              1\n",
       "Oman                                              1\n",
       "Slovakia                                          1\n",
       "Cook Islands                                      1\n",
       "New Caledonia                                     1\n",
       "Switzerland                                       1\n",
       "Malta                                             1\n",
       "Faroe Islands                                     1\n",
       "Malawi                                            1\n",
       "Kiribati                                          1\n",
       "Dominica                                          1\n",
       "Nauru                                             1\n",
       "Name: ExtractedBodyText, dtype: int64"
      ]
     },
     "execution_count": 55,
     "metadata": {},
     "output_type": "execute_result"
    }
   ],
   "source": [
    "country.value_counts()"
   ]
  },
  {
   "cell_type": "markdown",
   "metadata": {},
   "source": [
    "Problem with current approach:\n",
    "    - Tokenization causes country names to become seperated -> 'United States' becomes 'United', 'States' and thus pycountry.countries.lookup fails for such cases\n",
    "    - there are a lot of abbreviations as PM (prime minister ?) which are actual countries abbreviations (Saint Pierre and Miquelon) but we cannot simply get rid of all the abbreviations since USA or UK is widely used."
   ]
  },
  {
   "cell_type": "markdown",
   "metadata": {},
   "source": [
    "## Assignment\n",
    "1. Generate a word cloud based on the raw corpus -- I recommend you to use the [Python word_cloud library](https://github.com/amueller/word_cloud).\n",
    "With the help of `nltk` (already available in your Anaconda environment), implement a standard text pre-processing \n",
    "pipeline (e.g., tokenization, stopword removal, stemming, etc.) and generate a new word cloud. Discuss briefly the pros and\n",
    "cons (if any) of the two word clouds you generated.\n",
    "\n",
    "2. Find all the mentions of world countries in the whole corpus, using the `pycountry` utility (*HINT*: remember that\n",
    "there will be different surface forms for the same country in the text, e.g., Switzerland, switzerland, CH, etc.)\n",
    "Perform sentiment analysis on every email message using the demo methods in the `nltk.sentiment.util` module. Aggregate \n",
    "the polarity information of all the emails by country, and plot a histogram (ordered and colored by polarity level)\n",
    "that summarizes the perception of the different countries. Repeat the aggregation + plotting steps using different demo\n",
    "methods from the sentiment analysis module -- can you find substantial differences?\n",
    "\n",
    "3. Using the `models.ldamodel` module from the [gensim library](https://radimrehurek.com/gensim/index.html), run topic\n",
    "modeling over the corpus. Explore different numbers of topics (varying from 5 to 50), and settle for the parameter which\n",
    "returns topics that you consider to be meaningful at first sight.\n",
    "\n",
    "4. *BONUS*: build the communication graph (unweighted and undirected) among the different email senders and recipients\n",
    "using the `NetworkX` library. Find communities in this graph with `community.best_partition(G)` method from the \n",
    "[community detection module](http://perso.crans.org/aynaud/communities/index.html). Print the most frequent 20 words used\n",
    "by the email authors of each community. Do these word lists look similar to what you've produced at step 3 with LDA?\n",
    "Can you identify clear discussion topics for each community? Discuss briefly the obtained results.\n"
   ]
  },
  {
   "cell_type": "code",
   "execution_count": null,
   "metadata": {
    "collapsed": true
   },
   "outputs": [],
   "source": []
  },
  {
   "cell_type": "code",
   "execution_count": null,
   "metadata": {
    "collapsed": true
   },
   "outputs": [],
   "source": []
  }
 ],
 "metadata": {
  "anaconda-cloud": {},
  "kernelspec": {
   "display_name": "Python [Root]",
   "language": "python",
   "name": "Python [Root]"
  },
  "language_info": {
   "codemirror_mode": {
    "name": "ipython",
    "version": 3
   },
   "file_extension": ".py",
   "mimetype": "text/x-python",
   "name": "python",
   "nbconvert_exporter": "python",
   "pygments_lexer": "ipython3",
   "version": "3.5.2"
  }
 },
 "nbformat": 4,
 "nbformat_minor": 0
}
