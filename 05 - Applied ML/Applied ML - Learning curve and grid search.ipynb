{
 "cells": [
  {
   "cell_type": "markdown",
   "metadata": {},
   "source": [
    "# Applied ML"
   ]
  },
  {
   "cell_type": "code",
   "execution_count": 1,
   "metadata": {
    "collapsed": false
   },
   "outputs": [
    {
     "name": "stderr",
     "output_type": "stream",
     "text": [
      "/Applications/anaconda/lib/python3.5/site-packages/sklearn/cross_validation.py:44: DeprecationWarning: This module was deprecated in version 0.18 in favor of the model_selection module into which all the refactored classes and functions are moved. Also note that the interface of the new CV iterators are different from that of this module. This module will be removed in 0.20.\n",
      "  \"This module will be removed in 0.20.\", DeprecationWarning)\n",
      "/Applications/anaconda/lib/python3.5/site-packages/sklearn/grid_search.py:43: DeprecationWarning: This module was deprecated in version 0.18 in favor of the model_selection module into which all the refactored classes and functions are moved. This module will be removed in 0.20.\n",
      "  DeprecationWarning)\n"
     ]
    }
   ],
   "source": [
    "# Normal stack of pandas, numpy, matplotlib and seaborn\n",
    "import pandas as pd\n",
    "import numpy as np\n",
    "import matplotlib.pyplot as plt\n",
    "import matplotlib.pylab as pylab\n",
    "import seaborn as sns\n",
    "\n",
    "# Statistical test library\n",
    "import scipy.stats as stats\n",
    "import random\n",
    "\n",
    "from sklearn import preprocessing\n",
    "from sklearn.model_selection import learning_curve\n",
    "from sklearn.preprocessing import LabelEncoder\n",
    "from sklearn.preprocessing import OneHotEncoder\n",
    "from sklearn.grid_search import GridSearchCV\n",
    "from sklearn.ensemble import RandomForestClassifier\n",
    "from sklearn.model_selection import cross_val_score\n",
    "from sklearn.metrics import confusion_matrix\n",
    "from sklearn.model_selection import train_test_split\n",
    "from sklearn.metrics import classification_report\n",
    "\n",
    "%matplotlib inline\n",
    "\n",
    "np.random.seed(10)\n",
    "random.seed(10)"
   ]
  },
  {
   "cell_type": "markdown",
   "metadata": {},
   "source": [
    "# Data pre-processing"
   ]
  },
  {
   "cell_type": "code",
   "execution_count": 2,
   "metadata": {
    "collapsed": false
   },
   "outputs": [],
   "source": [
    "# Load the dataset\n",
    "original = pd.read_csv(\"CrowdstormingDataJuly1st.csv\", parse_dates=['birthday'], infer_datetime_format=True)"
   ]
  },
  {
   "cell_type": "code",
   "execution_count": 3,
   "metadata": {
    "collapsed": false
   },
   "outputs": [
    {
     "name": "stderr",
     "output_type": "stream",
     "text": [
      "/Applications/anaconda/lib/python3.5/site-packages/numpy/lib/function_base.py:3834: RuntimeWarning: Invalid value encountered in percentile\n",
      "  RuntimeWarning)\n"
     ]
    },
    {
     "data": {
      "text/html": [
       "<div>\n",
       "<table border=\"1\" class=\"dataframe\">\n",
       "  <thead>\n",
       "    <tr style=\"text-align: right;\">\n",
       "      <th></th>\n",
       "      <th>height</th>\n",
       "      <th>weight</th>\n",
       "      <th>games</th>\n",
       "      <th>victories</th>\n",
       "      <th>ties</th>\n",
       "      <th>defeats</th>\n",
       "      <th>goals</th>\n",
       "      <th>yellowCards</th>\n",
       "      <th>yellowReds</th>\n",
       "      <th>redCards</th>\n",
       "      <th>rater1</th>\n",
       "      <th>rater2</th>\n",
       "      <th>refNum</th>\n",
       "      <th>refCountry</th>\n",
       "      <th>meanIAT</th>\n",
       "      <th>nIAT</th>\n",
       "      <th>seIAT</th>\n",
       "      <th>meanExp</th>\n",
       "      <th>nExp</th>\n",
       "      <th>seExp</th>\n",
       "    </tr>\n",
       "  </thead>\n",
       "  <tbody>\n",
       "    <tr>\n",
       "      <th>count</th>\n",
       "      <td>145765.000000</td>\n",
       "      <td>143785.000000</td>\n",
       "      <td>146028.000000</td>\n",
       "      <td>146028.000000</td>\n",
       "      <td>146028.000000</td>\n",
       "      <td>146028.000000</td>\n",
       "      <td>146028.000000</td>\n",
       "      <td>146028.000000</td>\n",
       "      <td>146028.000000</td>\n",
       "      <td>146028.000000</td>\n",
       "      <td>124621.000000</td>\n",
       "      <td>124621.000000</td>\n",
       "      <td>146028.000000</td>\n",
       "      <td>146028.000000</td>\n",
       "      <td>145865.000000</td>\n",
       "      <td>1.458650e+05</td>\n",
       "      <td>1.458650e+05</td>\n",
       "      <td>145865.000000</td>\n",
       "      <td>1.458650e+05</td>\n",
       "      <td>145865.000000</td>\n",
       "    </tr>\n",
       "    <tr>\n",
       "      <th>mean</th>\n",
       "      <td>181.935938</td>\n",
       "      <td>76.075662</td>\n",
       "      <td>2.921166</td>\n",
       "      <td>1.278344</td>\n",
       "      <td>0.708241</td>\n",
       "      <td>0.934581</td>\n",
       "      <td>0.338058</td>\n",
       "      <td>0.385364</td>\n",
       "      <td>0.011381</td>\n",
       "      <td>0.012559</td>\n",
       "      <td>0.264255</td>\n",
       "      <td>0.302862</td>\n",
       "      <td>1534.827444</td>\n",
       "      <td>29.642842</td>\n",
       "      <td>0.346276</td>\n",
       "      <td>1.969741e+04</td>\n",
       "      <td>6.310849e-04</td>\n",
       "      <td>0.452026</td>\n",
       "      <td>2.044023e+04</td>\n",
       "      <td>0.002994</td>\n",
       "    </tr>\n",
       "    <tr>\n",
       "      <th>std</th>\n",
       "      <td>6.738726</td>\n",
       "      <td>7.140906</td>\n",
       "      <td>3.413633</td>\n",
       "      <td>1.790725</td>\n",
       "      <td>1.116793</td>\n",
       "      <td>1.383059</td>\n",
       "      <td>0.906481</td>\n",
       "      <td>0.795333</td>\n",
       "      <td>0.107931</td>\n",
       "      <td>0.112889</td>\n",
       "      <td>0.295382</td>\n",
       "      <td>0.293020</td>\n",
       "      <td>918.736625</td>\n",
       "      <td>27.496189</td>\n",
       "      <td>0.032246</td>\n",
       "      <td>1.271262e+05</td>\n",
       "      <td>4.735857e-03</td>\n",
       "      <td>0.217469</td>\n",
       "      <td>1.306157e+05</td>\n",
       "      <td>0.019723</td>\n",
       "    </tr>\n",
       "    <tr>\n",
       "      <th>min</th>\n",
       "      <td>161.000000</td>\n",
       "      <td>54.000000</td>\n",
       "      <td>1.000000</td>\n",
       "      <td>0.000000</td>\n",
       "      <td>0.000000</td>\n",
       "      <td>0.000000</td>\n",
       "      <td>0.000000</td>\n",
       "      <td>0.000000</td>\n",
       "      <td>0.000000</td>\n",
       "      <td>0.000000</td>\n",
       "      <td>0.000000</td>\n",
       "      <td>0.000000</td>\n",
       "      <td>1.000000</td>\n",
       "      <td>1.000000</td>\n",
       "      <td>-0.047254</td>\n",
       "      <td>2.000000e+00</td>\n",
       "      <td>2.235373e-07</td>\n",
       "      <td>-1.375000</td>\n",
       "      <td>2.000000e+00</td>\n",
       "      <td>0.000001</td>\n",
       "    </tr>\n",
       "    <tr>\n",
       "      <th>25%</th>\n",
       "      <td>NaN</td>\n",
       "      <td>NaN</td>\n",
       "      <td>1.000000</td>\n",
       "      <td>0.000000</td>\n",
       "      <td>0.000000</td>\n",
       "      <td>0.000000</td>\n",
       "      <td>0.000000</td>\n",
       "      <td>0.000000</td>\n",
       "      <td>0.000000</td>\n",
       "      <td>0.000000</td>\n",
       "      <td>NaN</td>\n",
       "      <td>NaN</td>\n",
       "      <td>641.000000</td>\n",
       "      <td>7.000000</td>\n",
       "      <td>NaN</td>\n",
       "      <td>NaN</td>\n",
       "      <td>NaN</td>\n",
       "      <td>NaN</td>\n",
       "      <td>NaN</td>\n",
       "      <td>NaN</td>\n",
       "    </tr>\n",
       "    <tr>\n",
       "      <th>50%</th>\n",
       "      <td>NaN</td>\n",
       "      <td>NaN</td>\n",
       "      <td>2.000000</td>\n",
       "      <td>1.000000</td>\n",
       "      <td>0.000000</td>\n",
       "      <td>1.000000</td>\n",
       "      <td>0.000000</td>\n",
       "      <td>0.000000</td>\n",
       "      <td>0.000000</td>\n",
       "      <td>0.000000</td>\n",
       "      <td>NaN</td>\n",
       "      <td>NaN</td>\n",
       "      <td>1604.000000</td>\n",
       "      <td>21.000000</td>\n",
       "      <td>NaN</td>\n",
       "      <td>NaN</td>\n",
       "      <td>NaN</td>\n",
       "      <td>NaN</td>\n",
       "      <td>NaN</td>\n",
       "      <td>NaN</td>\n",
       "    </tr>\n",
       "    <tr>\n",
       "      <th>75%</th>\n",
       "      <td>NaN</td>\n",
       "      <td>NaN</td>\n",
       "      <td>3.000000</td>\n",
       "      <td>2.000000</td>\n",
       "      <td>1.000000</td>\n",
       "      <td>1.000000</td>\n",
       "      <td>0.000000</td>\n",
       "      <td>1.000000</td>\n",
       "      <td>0.000000</td>\n",
       "      <td>0.000000</td>\n",
       "      <td>NaN</td>\n",
       "      <td>NaN</td>\n",
       "      <td>2345.000000</td>\n",
       "      <td>44.000000</td>\n",
       "      <td>NaN</td>\n",
       "      <td>NaN</td>\n",
       "      <td>NaN</td>\n",
       "      <td>NaN</td>\n",
       "      <td>NaN</td>\n",
       "      <td>NaN</td>\n",
       "    </tr>\n",
       "    <tr>\n",
       "      <th>max</th>\n",
       "      <td>203.000000</td>\n",
       "      <td>100.000000</td>\n",
       "      <td>47.000000</td>\n",
       "      <td>29.000000</td>\n",
       "      <td>14.000000</td>\n",
       "      <td>18.000000</td>\n",
       "      <td>23.000000</td>\n",
       "      <td>14.000000</td>\n",
       "      <td>3.000000</td>\n",
       "      <td>2.000000</td>\n",
       "      <td>1.000000</td>\n",
       "      <td>1.000000</td>\n",
       "      <td>3147.000000</td>\n",
       "      <td>161.000000</td>\n",
       "      <td>0.573793</td>\n",
       "      <td>1.975803e+06</td>\n",
       "      <td>2.862871e-01</td>\n",
       "      <td>1.800000</td>\n",
       "      <td>2.029548e+06</td>\n",
       "      <td>1.060660</td>\n",
       "    </tr>\n",
       "  </tbody>\n",
       "</table>\n",
       "</div>"
      ],
      "text/plain": [
       "              height         weight          games      victories  \\\n",
       "count  145765.000000  143785.000000  146028.000000  146028.000000   \n",
       "mean      181.935938      76.075662       2.921166       1.278344   \n",
       "std         6.738726       7.140906       3.413633       1.790725   \n",
       "min       161.000000      54.000000       1.000000       0.000000   \n",
       "25%              NaN            NaN       1.000000       0.000000   \n",
       "50%              NaN            NaN       2.000000       1.000000   \n",
       "75%              NaN            NaN       3.000000       2.000000   \n",
       "max       203.000000     100.000000      47.000000      29.000000   \n",
       "\n",
       "                ties        defeats          goals    yellowCards  \\\n",
       "count  146028.000000  146028.000000  146028.000000  146028.000000   \n",
       "mean        0.708241       0.934581       0.338058       0.385364   \n",
       "std         1.116793       1.383059       0.906481       0.795333   \n",
       "min         0.000000       0.000000       0.000000       0.000000   \n",
       "25%         0.000000       0.000000       0.000000       0.000000   \n",
       "50%         0.000000       1.000000       0.000000       0.000000   \n",
       "75%         1.000000       1.000000       0.000000       1.000000   \n",
       "max        14.000000      18.000000      23.000000      14.000000   \n",
       "\n",
       "          yellowReds       redCards         rater1         rater2  \\\n",
       "count  146028.000000  146028.000000  124621.000000  124621.000000   \n",
       "mean        0.011381       0.012559       0.264255       0.302862   \n",
       "std         0.107931       0.112889       0.295382       0.293020   \n",
       "min         0.000000       0.000000       0.000000       0.000000   \n",
       "25%         0.000000       0.000000            NaN            NaN   \n",
       "50%         0.000000       0.000000            NaN            NaN   \n",
       "75%         0.000000       0.000000            NaN            NaN   \n",
       "max         3.000000       2.000000       1.000000       1.000000   \n",
       "\n",
       "              refNum     refCountry        meanIAT          nIAT  \\\n",
       "count  146028.000000  146028.000000  145865.000000  1.458650e+05   \n",
       "mean     1534.827444      29.642842       0.346276  1.969741e+04   \n",
       "std       918.736625      27.496189       0.032246  1.271262e+05   \n",
       "min         1.000000       1.000000      -0.047254  2.000000e+00   \n",
       "25%       641.000000       7.000000            NaN           NaN   \n",
       "50%      1604.000000      21.000000            NaN           NaN   \n",
       "75%      2345.000000      44.000000            NaN           NaN   \n",
       "max      3147.000000     161.000000       0.573793  1.975803e+06   \n",
       "\n",
       "              seIAT        meanExp          nExp          seExp  \n",
       "count  1.458650e+05  145865.000000  1.458650e+05  145865.000000  \n",
       "mean   6.310849e-04       0.452026  2.044023e+04       0.002994  \n",
       "std    4.735857e-03       0.217469  1.306157e+05       0.019723  \n",
       "min    2.235373e-07      -1.375000  2.000000e+00       0.000001  \n",
       "25%             NaN            NaN           NaN            NaN  \n",
       "50%             NaN            NaN           NaN            NaN  \n",
       "75%             NaN            NaN           NaN            NaN  \n",
       "max    2.862871e-01       1.800000  2.029548e+06       1.060660  "
      ]
     },
     "execution_count": 3,
     "metadata": {},
     "output_type": "execute_result"
    }
   ],
   "source": [
    "original.describe()"
   ]
  },
  {
   "cell_type": "code",
   "execution_count": 4,
   "metadata": {
    "collapsed": false
   },
   "outputs": [
    {
     "data": {
      "text/html": [
       "<div>\n",
       "<table border=\"1\" class=\"dataframe\">\n",
       "  <thead>\n",
       "    <tr style=\"text-align: right;\">\n",
       "      <th></th>\n",
       "      <th>playerShort</th>\n",
       "      <th>player</th>\n",
       "      <th>club</th>\n",
       "      <th>leagueCountry</th>\n",
       "      <th>birthday</th>\n",
       "      <th>height</th>\n",
       "      <th>weight</th>\n",
       "      <th>position</th>\n",
       "      <th>games</th>\n",
       "      <th>victories</th>\n",
       "      <th>ties</th>\n",
       "      <th>defeats</th>\n",
       "      <th>goals</th>\n",
       "    </tr>\n",
       "  </thead>\n",
       "  <tbody>\n",
       "    <tr>\n",
       "      <th>0</th>\n",
       "      <td>lucas-wilchez</td>\n",
       "      <td>Lucas Wilchez</td>\n",
       "      <td>Real Zaragoza</td>\n",
       "      <td>Spain</td>\n",
       "      <td>1983-08-31</td>\n",
       "      <td>177.0</td>\n",
       "      <td>72.0</td>\n",
       "      <td>Attacking Midfielder</td>\n",
       "      <td>1</td>\n",
       "      <td>0</td>\n",
       "      <td>0</td>\n",
       "      <td>1</td>\n",
       "      <td>0</td>\n",
       "    </tr>\n",
       "    <tr>\n",
       "      <th>1</th>\n",
       "      <td>john-utaka</td>\n",
       "      <td>John Utaka</td>\n",
       "      <td>Montpellier HSC</td>\n",
       "      <td>France</td>\n",
       "      <td>1982-01-08</td>\n",
       "      <td>179.0</td>\n",
       "      <td>82.0</td>\n",
       "      <td>Right Winger</td>\n",
       "      <td>1</td>\n",
       "      <td>0</td>\n",
       "      <td>0</td>\n",
       "      <td>1</td>\n",
       "      <td>0</td>\n",
       "    </tr>\n",
       "    <tr>\n",
       "      <th>2</th>\n",
       "      <td>abdon-prats</td>\n",
       "      <td>Abdón Prats</td>\n",
       "      <td>RCD Mallorca</td>\n",
       "      <td>Spain</td>\n",
       "      <td>1992-12-17</td>\n",
       "      <td>181.0</td>\n",
       "      <td>79.0</td>\n",
       "      <td>NaN</td>\n",
       "      <td>1</td>\n",
       "      <td>0</td>\n",
       "      <td>1</td>\n",
       "      <td>0</td>\n",
       "      <td>0</td>\n",
       "    </tr>\n",
       "    <tr>\n",
       "      <th>3</th>\n",
       "      <td>pablo-mari</td>\n",
       "      <td>Pablo Marí</td>\n",
       "      <td>RCD Mallorca</td>\n",
       "      <td>Spain</td>\n",
       "      <td>1993-08-31</td>\n",
       "      <td>191.0</td>\n",
       "      <td>87.0</td>\n",
       "      <td>Center Back</td>\n",
       "      <td>1</td>\n",
       "      <td>1</td>\n",
       "      <td>0</td>\n",
       "      <td>0</td>\n",
       "      <td>0</td>\n",
       "    </tr>\n",
       "    <tr>\n",
       "      <th>4</th>\n",
       "      <td>ruben-pena</td>\n",
       "      <td>Rubén Peña</td>\n",
       "      <td>Real Valladolid</td>\n",
       "      <td>Spain</td>\n",
       "      <td>1991-07-18</td>\n",
       "      <td>172.0</td>\n",
       "      <td>70.0</td>\n",
       "      <td>Right Midfielder</td>\n",
       "      <td>1</td>\n",
       "      <td>1</td>\n",
       "      <td>0</td>\n",
       "      <td>0</td>\n",
       "      <td>0</td>\n",
       "    </tr>\n",
       "    <tr>\n",
       "      <th>5</th>\n",
       "      <td>aaron-hughes</td>\n",
       "      <td>Aaron Hughes</td>\n",
       "      <td>Fulham FC</td>\n",
       "      <td>England</td>\n",
       "      <td>1979-11-08</td>\n",
       "      <td>182.0</td>\n",
       "      <td>71.0</td>\n",
       "      <td>Center Back</td>\n",
       "      <td>1</td>\n",
       "      <td>0</td>\n",
       "      <td>0</td>\n",
       "      <td>1</td>\n",
       "      <td>0</td>\n",
       "    </tr>\n",
       "  </tbody>\n",
       "</table>\n",
       "</div>"
      ],
      "text/plain": [
       "     playerShort         player             club leagueCountry   birthday  \\\n",
       "0  lucas-wilchez  Lucas Wilchez    Real Zaragoza         Spain 1983-08-31   \n",
       "1     john-utaka     John Utaka  Montpellier HSC        France 1982-01-08   \n",
       "2    abdon-prats    Abdón Prats     RCD Mallorca         Spain 1992-12-17   \n",
       "3     pablo-mari     Pablo Marí     RCD Mallorca         Spain 1993-08-31   \n",
       "4     ruben-pena     Rubén Peña  Real Valladolid         Spain 1991-07-18   \n",
       "5   aaron-hughes   Aaron Hughes        Fulham FC       England 1979-11-08   \n",
       "\n",
       "   height  weight              position  games  victories  ties  defeats  \\\n",
       "0   177.0    72.0  Attacking Midfielder      1          0     0        1   \n",
       "1   179.0    82.0          Right Winger      1          0     0        1   \n",
       "2   181.0    79.0                   NaN      1          0     1        0   \n",
       "3   191.0    87.0           Center Back      1          1     0        0   \n",
       "4   172.0    70.0      Right Midfielder      1          1     0        0   \n",
       "5   182.0    71.0           Center Back      1          0     0        1   \n",
       "\n",
       "   goals  \n",
       "0      0  \n",
       "1      0  \n",
       "2      0  \n",
       "3      0  \n",
       "4      0  \n",
       "5      0  "
      ]
     },
     "execution_count": 4,
     "metadata": {},
     "output_type": "execute_result"
    }
   ],
   "source": [
    "# First glimpse at data content\n",
    "original.ix[:5,:13]"
   ]
  },
  {
   "cell_type": "code",
   "execution_count": 5,
   "metadata": {
    "collapsed": false
   },
   "outputs": [
    {
     "data": {
      "text/html": [
       "<div>\n",
       "<table border=\"1\" class=\"dataframe\">\n",
       "  <thead>\n",
       "    <tr style=\"text-align: right;\">\n",
       "      <th></th>\n",
       "      <th>yellowCards</th>\n",
       "      <th>yellowReds</th>\n",
       "      <th>redCards</th>\n",
       "      <th>photoID</th>\n",
       "      <th>rater1</th>\n",
       "      <th>rater2</th>\n",
       "      <th>refNum</th>\n",
       "      <th>refCountry</th>\n",
       "      <th>Alpha_3</th>\n",
       "      <th>meanIAT</th>\n",
       "      <th>nIAT</th>\n",
       "      <th>seIAT</th>\n",
       "      <th>meanExp</th>\n",
       "      <th>nExp</th>\n",
       "      <th>seExp</th>\n",
       "    </tr>\n",
       "  </thead>\n",
       "  <tbody>\n",
       "    <tr>\n",
       "      <th>0</th>\n",
       "      <td>0</td>\n",
       "      <td>0</td>\n",
       "      <td>0</td>\n",
       "      <td>95212.jpg</td>\n",
       "      <td>0.25</td>\n",
       "      <td>0.50</td>\n",
       "      <td>1</td>\n",
       "      <td>1</td>\n",
       "      <td>GRC</td>\n",
       "      <td>0.326391</td>\n",
       "      <td>712.0</td>\n",
       "      <td>0.000564</td>\n",
       "      <td>0.396000</td>\n",
       "      <td>750.0</td>\n",
       "      <td>0.002696</td>\n",
       "    </tr>\n",
       "    <tr>\n",
       "      <th>1</th>\n",
       "      <td>1</td>\n",
       "      <td>0</td>\n",
       "      <td>0</td>\n",
       "      <td>1663.jpg</td>\n",
       "      <td>0.75</td>\n",
       "      <td>0.75</td>\n",
       "      <td>2</td>\n",
       "      <td>2</td>\n",
       "      <td>ZMB</td>\n",
       "      <td>0.203375</td>\n",
       "      <td>40.0</td>\n",
       "      <td>0.010875</td>\n",
       "      <td>-0.204082</td>\n",
       "      <td>49.0</td>\n",
       "      <td>0.061504</td>\n",
       "    </tr>\n",
       "    <tr>\n",
       "      <th>2</th>\n",
       "      <td>1</td>\n",
       "      <td>0</td>\n",
       "      <td>0</td>\n",
       "      <td>NaN</td>\n",
       "      <td>NaN</td>\n",
       "      <td>NaN</td>\n",
       "      <td>3</td>\n",
       "      <td>3</td>\n",
       "      <td>ESP</td>\n",
       "      <td>0.369894</td>\n",
       "      <td>1785.0</td>\n",
       "      <td>0.000229</td>\n",
       "      <td>0.588297</td>\n",
       "      <td>1897.0</td>\n",
       "      <td>0.001002</td>\n",
       "    </tr>\n",
       "    <tr>\n",
       "      <th>3</th>\n",
       "      <td>0</td>\n",
       "      <td>0</td>\n",
       "      <td>0</td>\n",
       "      <td>NaN</td>\n",
       "      <td>NaN</td>\n",
       "      <td>NaN</td>\n",
       "      <td>3</td>\n",
       "      <td>3</td>\n",
       "      <td>ESP</td>\n",
       "      <td>0.369894</td>\n",
       "      <td>1785.0</td>\n",
       "      <td>0.000229</td>\n",
       "      <td>0.588297</td>\n",
       "      <td>1897.0</td>\n",
       "      <td>0.001002</td>\n",
       "    </tr>\n",
       "    <tr>\n",
       "      <th>4</th>\n",
       "      <td>0</td>\n",
       "      <td>0</td>\n",
       "      <td>0</td>\n",
       "      <td>NaN</td>\n",
       "      <td>NaN</td>\n",
       "      <td>NaN</td>\n",
       "      <td>3</td>\n",
       "      <td>3</td>\n",
       "      <td>ESP</td>\n",
       "      <td>0.369894</td>\n",
       "      <td>1785.0</td>\n",
       "      <td>0.000229</td>\n",
       "      <td>0.588297</td>\n",
       "      <td>1897.0</td>\n",
       "      <td>0.001002</td>\n",
       "    </tr>\n",
       "    <tr>\n",
       "      <th>5</th>\n",
       "      <td>0</td>\n",
       "      <td>0</td>\n",
       "      <td>0</td>\n",
       "      <td>3868.jpg</td>\n",
       "      <td>0.25</td>\n",
       "      <td>0.00</td>\n",
       "      <td>4</td>\n",
       "      <td>4</td>\n",
       "      <td>LUX</td>\n",
       "      <td>0.325185</td>\n",
       "      <td>127.0</td>\n",
       "      <td>0.003297</td>\n",
       "      <td>0.538462</td>\n",
       "      <td>130.0</td>\n",
       "      <td>0.013752</td>\n",
       "    </tr>\n",
       "  </tbody>\n",
       "</table>\n",
       "</div>"
      ],
      "text/plain": [
       "   yellowCards  yellowReds  redCards    photoID  rater1  rater2  refNum  \\\n",
       "0            0           0         0  95212.jpg    0.25    0.50       1   \n",
       "1            1           0         0   1663.jpg    0.75    0.75       2   \n",
       "2            1           0         0        NaN     NaN     NaN       3   \n",
       "3            0           0         0        NaN     NaN     NaN       3   \n",
       "4            0           0         0        NaN     NaN     NaN       3   \n",
       "5            0           0         0   3868.jpg    0.25    0.00       4   \n",
       "\n",
       "   refCountry Alpha_3   meanIAT    nIAT     seIAT   meanExp    nExp     seExp  \n",
       "0           1     GRC  0.326391   712.0  0.000564  0.396000   750.0  0.002696  \n",
       "1           2     ZMB  0.203375    40.0  0.010875 -0.204082    49.0  0.061504  \n",
       "2           3     ESP  0.369894  1785.0  0.000229  0.588297  1897.0  0.001002  \n",
       "3           3     ESP  0.369894  1785.0  0.000229  0.588297  1897.0  0.001002  \n",
       "4           3     ESP  0.369894  1785.0  0.000229  0.588297  1897.0  0.001002  \n",
       "5           4     LUX  0.325185   127.0  0.003297  0.538462   130.0  0.013752  "
      ]
     },
     "execution_count": 5,
     "metadata": {},
     "output_type": "execute_result"
    }
   ],
   "source": [
    "original.ix[:5,13:]"
   ]
  },
  {
   "cell_type": "markdown",
   "metadata": {},
   "source": [
    "Challenges in dataset:\n",
    "\n",
    "- Skin ratings don't match -> take average\n",
    "- Picture was missing -> exclude from training\n",
    "- No cards drawn in some dyads\n"
   ]
  },
  {
   "cell_type": "markdown",
   "metadata": {},
   "source": [
    "Prune dataset where there is no rater information"
   ]
  },
  {
   "cell_type": "markdown",
   "metadata": {},
   "source": [
    "# Initial cleaning\n"
   ]
  },
  {
   "cell_type": "code",
   "execution_count": 6,
   "metadata": {
    "collapsed": false
   },
   "outputs": [],
   "source": [
    "# Helper function to see the efect when we drop rows\n",
    "def dropping_stats(df):\n",
    "    drop_perc =  100 * (original.shape[0] - df.shape[0]) / original.shape[0]\n",
    "    print(\"%.2f%% of original data droped.\" % (drop_perc) )\n",
    "    \n",
    "    print(\"Now: %d rows\" % df.shape[0] )"
   ]
  },
  {
   "cell_type": "code",
   "execution_count": 7,
   "metadata": {
    "collapsed": false
   },
   "outputs": [
    {
     "name": "stdout",
     "output_type": "stream",
     "text": [
      "0.00% of original data droped.\n",
      "Now: 146028 rows\n"
     ]
    }
   ],
   "source": [
    "dropping_stats(original)"
   ]
  },
  {
   "cell_type": "code",
   "execution_count": 235,
   "metadata": {
    "collapsed": false
   },
   "outputs": [],
   "source": [
    "# Drop columns that will not be relevant for our model\n",
    "original['year'] = original['birthday'].apply(lambda x: x.year)\n",
    "cleaned = original.drop(['photoID', 'refCountry', 'Alpha_3', 'player', 'birthday'], errors='raise', axis=1)"
   ]
  },
  {
   "cell_type": "code",
   "execution_count": 236,
   "metadata": {
    "collapsed": false
   },
   "outputs": [
    {
     "name": "stdout",
     "output_type": "stream",
     "text": [
      "5.75% of original data droped.\n",
      "Now: 137635 rows\n"
     ]
    }
   ],
   "source": [
    "# If a referee is present in less than 22 triads (rows), he cannot have\n",
    "# refereed a match in these leages.\n",
    "ref_grouped = cleaned[['refNum', 'games']].groupby(['refNum']).sum()\n",
    "ref_filtered = ref_grouped[ref_grouped['games'] >= 22].reset_index()\n",
    "\n",
    "# Therefore, we filter the data on this condition\n",
    "has_referee = cleaned[cleaned['refNum'].isin(ref_filtered['refNum'].values)]\n",
    "\n",
    "dropping_stats(has_referee)\n"
   ]
  },
  {
   "cell_type": "markdown",
   "metadata": {},
   "source": [
    "### Dealing with nan-values\n"
   ]
  },
  {
   "cell_type": "code",
   "execution_count": 237,
   "metadata": {
    "collapsed": false
   },
   "outputs": [
    {
     "data": {
      "text/plain": [
       "False    143785\n",
       "True       2243\n",
       "Name: weight, dtype: int64"
      ]
     },
     "execution_count": 237,
     "metadata": {},
     "output_type": "execute_result"
    }
   ],
   "source": [
    "cleaned['weight'].isnull().value_counts()"
   ]
  },
  {
   "cell_type": "code",
   "execution_count": 238,
   "metadata": {
    "collapsed": false
   },
   "outputs": [
    {
     "data": {
      "text/plain": [
       "False    145765\n",
       "True        263\n",
       "Name: height, dtype: int64"
      ]
     },
     "execution_count": 238,
     "metadata": {},
     "output_type": "execute_result"
    }
   ],
   "source": [
    "cleaned['height'].isnull().value_counts()"
   ]
  },
  {
   "cell_type": "markdown",
   "metadata": {},
   "source": [
    "We will fill these with the mean value"
   ]
  },
  {
   "cell_type": "code",
   "execution_count": 239,
   "metadata": {
    "collapsed": false
   },
   "outputs": [],
   "source": [
    "cleaned['weight'].fillna('mean', inplace=True)\n",
    "cleaned['height'].fillna('mean', inplace=True)"
   ]
  },
  {
   "cell_type": "code",
   "execution_count": 240,
   "metadata": {
    "collapsed": false
   },
   "outputs": [
    {
     "name": "stdout",
     "output_type": "stream",
     "text": [
      "False\n",
      "False\n"
     ]
    }
   ],
   "source": [
    "print(cleaned['height'].hasnans)\n",
    "print(cleaned['weight'].hasnans)"
   ]
  },
  {
   "cell_type": "markdown",
   "metadata": {},
   "source": [
    "## Making the class feature\n",
    "\n",
    "To make the class of the skin color of each player, we take the mean of the value from the two raters. \n",
    "Players that does not have a rating gets dropped."
   ]
  },
  {
   "cell_type": "code",
   "execution_count": 241,
   "metadata": {
    "collapsed": false
   },
   "outputs": [],
   "source": [
    "def get_binary_class(x):\n",
    "    \"\"\" Returns 0 for players rated below 0.5 ('light-skinned') and 1 for players rated above ('dark-skinned')\"\"\"\n",
    "    if x < 0.5:\n",
    "        return 0\n",
    "    else:\n",
    "        return 1"
   ]
  },
  {
   "cell_type": "code",
   "execution_count": 242,
   "metadata": {
    "collapsed": false
   },
   "outputs": [
    {
     "name": "stdout",
     "output_type": "stream",
     "text": [
      "19.48% of original data droped.\n",
      "Now: 117579 rows\n"
     ]
    }
   ],
   "source": [
    "# Take the mean of the two raters value\n",
    "mean_rating = has_referee[['rater1', 'rater2']].mean(axis=1)\n",
    "# Drop the players that does not have a rating\n",
    "mean_rating.dropna(inplace=True)\n",
    "dropping_stats(mean_rating)"
   ]
  },
  {
   "cell_type": "code",
   "execution_count": 243,
   "metadata": {
    "collapsed": false
   },
   "outputs": [
    {
     "data": {
      "text/plain": [
       "5    0.125\n",
       "6    0.125\n",
       "7    1.000\n",
       "8    0.250\n",
       "9    0.000\n",
       "dtype: float64"
      ]
     },
     "execution_count": 243,
     "metadata": {},
     "output_type": "execute_result"
    }
   ],
   "source": [
    "# The players now have a rating between 0 and 1, real numbers\n",
    "mean_rating.head()"
   ]
  },
  {
   "cell_type": "code",
   "execution_count": 244,
   "metadata": {
    "collapsed": false
   },
   "outputs": [
    {
     "data": {
      "text/plain": [
       "5    0\n",
       "6    0\n",
       "7    1\n",
       "8    0\n",
       "9    0\n",
       "Name: class, dtype: int64"
      ]
     },
     "execution_count": 244,
     "metadata": {},
     "output_type": "execute_result"
    }
   ],
   "source": [
    "# Since we want to do a binary classification, we convert the real numbers to 0/1\n",
    "\n",
    "binary_class = mean_rating.apply(get_binary_class)\n",
    "binary_class.name = 'class'\n",
    "binary_class.head()"
   ]
  },
  {
   "cell_type": "code",
   "execution_count": 245,
   "metadata": {
    "collapsed": false
   },
   "outputs": [
    {
     "name": "stdout",
     "output_type": "stream",
     "text": [
      "19.48% of original data droped.\n",
      "Now: 117579 rows\n"
     ]
    }
   ],
   "source": [
    "# Keep only the data rows where we have the class\n",
    "\n",
    "has_class = has_referee.ix[binary_class.index]\n",
    "dropping_stats(has_class)"
   ]
  },
  {
   "cell_type": "code",
   "execution_count": 246,
   "metadata": {
    "collapsed": false
   },
   "outputs": [
    {
     "data": {
      "text/plain": [
       "0    90492\n",
       "1    27087\n",
       "Name: class, dtype: int64"
      ]
     },
     "execution_count": 246,
     "metadata": {},
     "output_type": "execute_result"
    }
   ],
   "source": [
    "counts = binary_class.value_counts()\n",
    "counts"
   ]
  },
  {
   "cell_type": "code",
   "execution_count": 247,
   "metadata": {
    "collapsed": false
   },
   "outputs": [
    {
     "name": "stdout",
     "output_type": "stream",
     "text": [
      "76.96% of the examples are light skinned\n"
     ]
    }
   ],
   "source": [
    "print(\"%.2f%% of the examples are light skinned\" % (counts[0] / (counts[0] + counts[1]) * 100))"
   ]
  },
  {
   "cell_type": "markdown",
   "metadata": {},
   "source": [
    "Convert string values to floats by LabelEncoder to make them readable by the classifier"
   ]
  },
  {
   "cell_type": "markdown",
   "metadata": {},
   "source": [
    "## Feature transformation\n",
    "\n",
    "When we have categorical data, we need to transform them so that they can be taken into account in our model. One way of doing this is to use LabelEncoder and OneHotEncoder from SciKitLearn. \n",
    "\n",
    "LabelEncoder converts each category into an integer, so that we don't have to deal with strings. After doing this transformation, we use OneHotEncoder to make a binary feature for each category. This way, we can capture for instance wether a person has played for both Fulham FC and Manchester City. "
   ]
  },
  {
   "cell_type": "code",
   "execution_count": 248,
   "metadata": {
    "collapsed": false
   },
   "outputs": [
    {
     "data": {
      "text/html": [
       "<div>\n",
       "<table border=\"1\" class=\"dataframe\">\n",
       "  <thead>\n",
       "    <tr style=\"text-align: right;\">\n",
       "      <th></th>\n",
       "      <th>England</th>\n",
       "      <th>France</th>\n",
       "      <th>Germany</th>\n",
       "      <th>Spain</th>\n",
       "    </tr>\n",
       "  </thead>\n",
       "  <tbody>\n",
       "    <tr>\n",
       "      <th>5</th>\n",
       "      <td>1.0</td>\n",
       "      <td>0.0</td>\n",
       "      <td>0.0</td>\n",
       "      <td>0.0</td>\n",
       "    </tr>\n",
       "    <tr>\n",
       "      <th>6</th>\n",
       "      <td>1.0</td>\n",
       "      <td>0.0</td>\n",
       "      <td>0.0</td>\n",
       "      <td>0.0</td>\n",
       "    </tr>\n",
       "    <tr>\n",
       "      <th>7</th>\n",
       "      <td>1.0</td>\n",
       "      <td>0.0</td>\n",
       "      <td>0.0</td>\n",
       "      <td>0.0</td>\n",
       "    </tr>\n",
       "    <tr>\n",
       "      <th>8</th>\n",
       "      <td>1.0</td>\n",
       "      <td>0.0</td>\n",
       "      <td>0.0</td>\n",
       "      <td>0.0</td>\n",
       "    </tr>\n",
       "    <tr>\n",
       "      <th>9</th>\n",
       "      <td>0.0</td>\n",
       "      <td>0.0</td>\n",
       "      <td>1.0</td>\n",
       "      <td>0.0</td>\n",
       "    </tr>\n",
       "  </tbody>\n",
       "</table>\n",
       "</div>"
      ],
      "text/plain": [
       "   England  France  Germany  Spain\n",
       "5      1.0     0.0      0.0    0.0\n",
       "6      1.0     0.0      0.0    0.0\n",
       "7      1.0     0.0      0.0    0.0\n",
       "8      1.0     0.0      0.0    0.0\n",
       "9      0.0     0.0      1.0    0.0"
      ]
     },
     "execution_count": 248,
     "metadata": {},
     "output_type": "execute_result"
    }
   ],
   "source": [
    "countries_encoded = pd.get_dummies(has_class['leagueCountry'])\n",
    "countries_encoded.head()"
   ]
  },
  {
   "cell_type": "code",
   "execution_count": 249,
   "metadata": {
    "collapsed": false
   },
   "outputs": [
    {
     "data": {
      "text/html": [
       "<div>\n",
       "<table border=\"1\" class=\"dataframe\">\n",
       "  <thead>\n",
       "    <tr style=\"text-align: right;\">\n",
       "      <th></th>\n",
       "      <th>Attacking Midfielder</th>\n",
       "      <th>Center Back</th>\n",
       "      <th>Center Forward</th>\n",
       "      <th>Center Midfielder</th>\n",
       "      <th>Defensive Midfielder</th>\n",
       "      <th>Goalkeeper</th>\n",
       "      <th>Left Fullback</th>\n",
       "      <th>Left Midfielder</th>\n",
       "      <th>Left Winger</th>\n",
       "      <th>Right Fullback</th>\n",
       "      <th>Right Midfielder</th>\n",
       "      <th>Right Winger</th>\n",
       "    </tr>\n",
       "  </thead>\n",
       "  <tbody>\n",
       "    <tr>\n",
       "      <th>5</th>\n",
       "      <td>0.0</td>\n",
       "      <td>1.0</td>\n",
       "      <td>0.0</td>\n",
       "      <td>0.0</td>\n",
       "      <td>0.0</td>\n",
       "      <td>0.0</td>\n",
       "      <td>0.0</td>\n",
       "      <td>0.0</td>\n",
       "      <td>0.0</td>\n",
       "      <td>0.0</td>\n",
       "      <td>0.0</td>\n",
       "      <td>0.0</td>\n",
       "    </tr>\n",
       "    <tr>\n",
       "      <th>6</th>\n",
       "      <td>0.0</td>\n",
       "      <td>0.0</td>\n",
       "      <td>0.0</td>\n",
       "      <td>0.0</td>\n",
       "      <td>0.0</td>\n",
       "      <td>0.0</td>\n",
       "      <td>1.0</td>\n",
       "      <td>0.0</td>\n",
       "      <td>0.0</td>\n",
       "      <td>0.0</td>\n",
       "      <td>0.0</td>\n",
       "      <td>0.0</td>\n",
       "    </tr>\n",
       "    <tr>\n",
       "      <th>7</th>\n",
       "      <td>0.0</td>\n",
       "      <td>0.0</td>\n",
       "      <td>0.0</td>\n",
       "      <td>0.0</td>\n",
       "      <td>1.0</td>\n",
       "      <td>0.0</td>\n",
       "      <td>0.0</td>\n",
       "      <td>0.0</td>\n",
       "      <td>0.0</td>\n",
       "      <td>0.0</td>\n",
       "      <td>0.0</td>\n",
       "      <td>0.0</td>\n",
       "    </tr>\n",
       "    <tr>\n",
       "      <th>8</th>\n",
       "      <td>0.0</td>\n",
       "      <td>0.0</td>\n",
       "      <td>0.0</td>\n",
       "      <td>0.0</td>\n",
       "      <td>0.0</td>\n",
       "      <td>1.0</td>\n",
       "      <td>0.0</td>\n",
       "      <td>0.0</td>\n",
       "      <td>0.0</td>\n",
       "      <td>0.0</td>\n",
       "      <td>0.0</td>\n",
       "      <td>0.0</td>\n",
       "    </tr>\n",
       "    <tr>\n",
       "      <th>9</th>\n",
       "      <td>0.0</td>\n",
       "      <td>0.0</td>\n",
       "      <td>0.0</td>\n",
       "      <td>0.0</td>\n",
       "      <td>0.0</td>\n",
       "      <td>0.0</td>\n",
       "      <td>0.0</td>\n",
       "      <td>0.0</td>\n",
       "      <td>0.0</td>\n",
       "      <td>1.0</td>\n",
       "      <td>0.0</td>\n",
       "      <td>0.0</td>\n",
       "    </tr>\n",
       "  </tbody>\n",
       "</table>\n",
       "</div>"
      ],
      "text/plain": [
       "   Attacking Midfielder  Center Back  Center Forward  Center Midfielder  \\\n",
       "5                   0.0          1.0             0.0                0.0   \n",
       "6                   0.0          0.0             0.0                0.0   \n",
       "7                   0.0          0.0             0.0                0.0   \n",
       "8                   0.0          0.0             0.0                0.0   \n",
       "9                   0.0          0.0             0.0                0.0   \n",
       "\n",
       "   Defensive Midfielder  Goalkeeper  Left Fullback  Left Midfielder  \\\n",
       "5                   0.0         0.0            0.0              0.0   \n",
       "6                   0.0         0.0            1.0              0.0   \n",
       "7                   1.0         0.0            0.0              0.0   \n",
       "8                   0.0         1.0            0.0              0.0   \n",
       "9                   0.0         0.0            0.0              0.0   \n",
       "\n",
       "   Left Winger  Right Fullback  Right Midfielder  Right Winger  \n",
       "5          0.0             0.0               0.0           0.0  \n",
       "6          0.0             0.0               0.0           0.0  \n",
       "7          0.0             0.0               0.0           0.0  \n",
       "8          0.0             0.0               0.0           0.0  \n",
       "9          0.0             1.0               0.0           0.0  "
      ]
     },
     "execution_count": 249,
     "metadata": {},
     "output_type": "execute_result"
    }
   ],
   "source": [
    "position_encoded = pd.get_dummies(has_class['position'])\n",
    "position_encoded.head()"
   ]
  },
  {
   "cell_type": "markdown",
   "metadata": {},
   "source": [
    "We remove the original categorical features, and attatch the new one_hot_encoded ones :"
   ]
  },
  {
   "cell_type": "markdown",
   "metadata": {},
   "source": [
    "### Feature combinations"
   ]
  },
  {
   "cell_type": "code",
   "execution_count": 250,
   "metadata": {
    "collapsed": false,
    "scrolled": true
   },
   "outputs": [
    {
     "data": {
      "text/html": [
       "<div>\n",
       "<table border=\"1\" class=\"dataframe\">\n",
       "  <thead>\n",
       "    <tr style=\"text-align: right;\">\n",
       "      <th></th>\n",
       "      <th>red_iat</th>\n",
       "      <th>yellow_iat</th>\n",
       "      <th>red_yellow_iat</th>\n",
       "    </tr>\n",
       "  </thead>\n",
       "  <tbody>\n",
       "    <tr>\n",
       "      <th>5</th>\n",
       "      <td>0.0</td>\n",
       "      <td>0.000000</td>\n",
       "      <td>0.0</td>\n",
       "    </tr>\n",
       "    <tr>\n",
       "      <th>6</th>\n",
       "      <td>0.0</td>\n",
       "      <td>0.000000</td>\n",
       "      <td>0.0</td>\n",
       "    </tr>\n",
       "    <tr>\n",
       "      <th>7</th>\n",
       "      <td>0.0</td>\n",
       "      <td>0.000000</td>\n",
       "      <td>0.0</td>\n",
       "    </tr>\n",
       "    <tr>\n",
       "      <th>8</th>\n",
       "      <td>0.0</td>\n",
       "      <td>0.000000</td>\n",
       "      <td>0.0</td>\n",
       "    </tr>\n",
       "    <tr>\n",
       "      <th>9</th>\n",
       "      <td>0.0</td>\n",
       "      <td>0.000000</td>\n",
       "      <td>0.0</td>\n",
       "    </tr>\n",
       "    <tr>\n",
       "      <th>10</th>\n",
       "      <td>0.0</td>\n",
       "      <td>0.325185</td>\n",
       "      <td>0.0</td>\n",
       "    </tr>\n",
       "  </tbody>\n",
       "</table>\n",
       "</div>"
      ],
      "text/plain": [
       "    red_iat  yellow_iat  red_yellow_iat\n",
       "5       0.0    0.000000             0.0\n",
       "6       0.0    0.000000             0.0\n",
       "7       0.0    0.000000             0.0\n",
       "8       0.0    0.000000             0.0\n",
       "9       0.0    0.000000             0.0\n",
       "10      0.0    0.325185             0.0"
      ]
     },
     "execution_count": 250,
     "metadata": {},
     "output_type": "execute_result"
    }
   ],
   "source": [
    "# Our hypothesis is that the combination of the referees 'discrimination score' and cards given,\n",
    "# might help us classify the players. E.g., if a player got many cards from racist referees, \n",
    "# he is more likely dark-skinned.\n",
    "\n",
    "red_comb = has_class['redCards'] * has_class['meanIAT']\n",
    "yellow_comb = has_class['yellowCards'] * has_class['meanIAT']\n",
    "yellow_red_comb = has_class['yellowReds'] * has_class['meanIAT']\n",
    "\n",
    "cards_iat = pd.concat([red_comb, yellow_comb, yellow_red_comb], axis=1)\n",
    "cards_iat.columns = ['red_iat', 'yellow_iat', 'red_yellow_iat']\n",
    "cards_iat.head(6)"
   ]
  },
  {
   "cell_type": "markdown",
   "metadata": {},
   "source": [
    "### Combining the features"
   ]
  },
  {
   "cell_type": "code",
   "execution_count": 261,
   "metadata": {
    "collapsed": false
   },
   "outputs": [
    {
     "data": {
      "text/html": [
       "<div>\n",
       "<table border=\"1\" class=\"dataframe\">\n",
       "  <thead>\n",
       "    <tr style=\"text-align: right;\">\n",
       "      <th></th>\n",
       "      <th>playerShort</th>\n",
       "      <th>year</th>\n",
       "      <th>height</th>\n",
       "      <th>weight</th>\n",
       "      <th>games</th>\n",
       "      <th>victories</th>\n",
       "      <th>ties</th>\n",
       "      <th>defeats</th>\n",
       "      <th>goals</th>\n",
       "      <th>yellowCards</th>\n",
       "      <th>...</th>\n",
       "      <th>Left Fullback</th>\n",
       "      <th>Left Midfielder</th>\n",
       "      <th>Left Winger</th>\n",
       "      <th>Right Fullback</th>\n",
       "      <th>Right Midfielder</th>\n",
       "      <th>Right Winger</th>\n",
       "      <th>red_iat</th>\n",
       "      <th>yellow_iat</th>\n",
       "      <th>red_yellow_iat</th>\n",
       "      <th>class</th>\n",
       "    </tr>\n",
       "  </thead>\n",
       "  <tbody>\n",
       "    <tr>\n",
       "      <th>5</th>\n",
       "      <td>aaron-hughes</td>\n",
       "      <td>1979</td>\n",
       "      <td>182.0</td>\n",
       "      <td>71.0</td>\n",
       "      <td>1</td>\n",
       "      <td>0</td>\n",
       "      <td>0</td>\n",
       "      <td>1</td>\n",
       "      <td>0</td>\n",
       "      <td>0</td>\n",
       "      <td>...</td>\n",
       "      <td>0.0</td>\n",
       "      <td>0.0</td>\n",
       "      <td>0.0</td>\n",
       "      <td>0.0</td>\n",
       "      <td>0.0</td>\n",
       "      <td>0.0</td>\n",
       "      <td>0.0</td>\n",
       "      <td>0.0</td>\n",
       "      <td>0.0</td>\n",
       "      <td>0</td>\n",
       "    </tr>\n",
       "    <tr>\n",
       "      <th>6</th>\n",
       "      <td>aleksandar-kolarov</td>\n",
       "      <td>1985</td>\n",
       "      <td>187.0</td>\n",
       "      <td>80.0</td>\n",
       "      <td>1</td>\n",
       "      <td>1</td>\n",
       "      <td>0</td>\n",
       "      <td>0</td>\n",
       "      <td>0</td>\n",
       "      <td>0</td>\n",
       "      <td>...</td>\n",
       "      <td>1.0</td>\n",
       "      <td>0.0</td>\n",
       "      <td>0.0</td>\n",
       "      <td>0.0</td>\n",
       "      <td>0.0</td>\n",
       "      <td>0.0</td>\n",
       "      <td>0.0</td>\n",
       "      <td>0.0</td>\n",
       "      <td>0.0</td>\n",
       "      <td>0</td>\n",
       "    </tr>\n",
       "    <tr>\n",
       "      <th>7</th>\n",
       "      <td>alexander-tettey</td>\n",
       "      <td>1986</td>\n",
       "      <td>180.0</td>\n",
       "      <td>68.0</td>\n",
       "      <td>1</td>\n",
       "      <td>0</td>\n",
       "      <td>0</td>\n",
       "      <td>1</td>\n",
       "      <td>0</td>\n",
       "      <td>0</td>\n",
       "      <td>...</td>\n",
       "      <td>0.0</td>\n",
       "      <td>0.0</td>\n",
       "      <td>0.0</td>\n",
       "      <td>0.0</td>\n",
       "      <td>0.0</td>\n",
       "      <td>0.0</td>\n",
       "      <td>0.0</td>\n",
       "      <td>0.0</td>\n",
       "      <td>0.0</td>\n",
       "      <td>1</td>\n",
       "    </tr>\n",
       "    <tr>\n",
       "      <th>8</th>\n",
       "      <td>anders-lindegaard</td>\n",
       "      <td>1984</td>\n",
       "      <td>193.0</td>\n",
       "      <td>80.0</td>\n",
       "      <td>1</td>\n",
       "      <td>0</td>\n",
       "      <td>1</td>\n",
       "      <td>0</td>\n",
       "      <td>0</td>\n",
       "      <td>0</td>\n",
       "      <td>...</td>\n",
       "      <td>0.0</td>\n",
       "      <td>0.0</td>\n",
       "      <td>0.0</td>\n",
       "      <td>0.0</td>\n",
       "      <td>0.0</td>\n",
       "      <td>0.0</td>\n",
       "      <td>0.0</td>\n",
       "      <td>0.0</td>\n",
       "      <td>0.0</td>\n",
       "      <td>0</td>\n",
       "    </tr>\n",
       "    <tr>\n",
       "      <th>9</th>\n",
       "      <td>andreas-beck</td>\n",
       "      <td>1987</td>\n",
       "      <td>180.0</td>\n",
       "      <td>70.0</td>\n",
       "      <td>1</td>\n",
       "      <td>1</td>\n",
       "      <td>0</td>\n",
       "      <td>0</td>\n",
       "      <td>0</td>\n",
       "      <td>0</td>\n",
       "      <td>...</td>\n",
       "      <td>0.0</td>\n",
       "      <td>0.0</td>\n",
       "      <td>0.0</td>\n",
       "      <td>1.0</td>\n",
       "      <td>0.0</td>\n",
       "      <td>0.0</td>\n",
       "      <td>0.0</td>\n",
       "      <td>0.0</td>\n",
       "      <td>0.0</td>\n",
       "      <td>0</td>\n",
       "    </tr>\n",
       "  </tbody>\n",
       "</table>\n",
       "<p>5 rows × 38 columns</p>\n",
       "</div>"
      ],
      "text/plain": [
       "          playerShort  year  height  weight  games  victories  ties  defeats  \\\n",
       "5        aaron-hughes  1979   182.0    71.0      1          0     0        1   \n",
       "6  aleksandar-kolarov  1985   187.0    80.0      1          1     0        0   \n",
       "7    alexander-tettey  1986   180.0    68.0      1          0     0        1   \n",
       "8   anders-lindegaard  1984   193.0    80.0      1          0     1        0   \n",
       "9        andreas-beck  1987   180.0    70.0      1          1     0        0   \n",
       "\n",
       "   goals  yellowCards  ...    Left Fullback  Left Midfielder  Left Winger  \\\n",
       "5      0            0  ...              0.0              0.0          0.0   \n",
       "6      0            0  ...              1.0              0.0          0.0   \n",
       "7      0            0  ...              0.0              0.0          0.0   \n",
       "8      0            0  ...              0.0              0.0          0.0   \n",
       "9      0            0  ...              0.0              0.0          0.0   \n",
       "\n",
       "   Right Fullback  Right Midfielder  Right Winger  red_iat  yellow_iat  \\\n",
       "5             0.0               0.0           0.0      0.0         0.0   \n",
       "6             0.0               0.0           0.0      0.0         0.0   \n",
       "7             0.0               0.0           0.0      0.0         0.0   \n",
       "8             0.0               0.0           0.0      0.0         0.0   \n",
       "9             1.0               0.0           0.0      0.0         0.0   \n",
       "\n",
       "   red_yellow_iat  class  \n",
       "5             0.0      0  \n",
       "6             0.0      0  \n",
       "7             0.0      1  \n",
       "8             0.0      0  \n",
       "9             0.0      0  \n",
       "\n",
       "[5 rows x 38 columns]"
      ]
     },
     "execution_count": 261,
     "metadata": {},
     "output_type": "execute_result"
    }
   ],
   "source": [
    "columns_from_orig = ['playerShort', 'year', 'height', 'weight', 'games', 'victories','ties', 'defeats','goals','yellowCards',\n",
    "                     'yellowReds','redCards','meanIAT', 'nIAT', 'seIAT', 'meanExp', 'nExp', 'seExp']\n",
    "\n",
    "colomns_one_hot_enoded = countries_encoded.columns | position_encoded.columns\n",
    "\n",
    "features = has_class[columns_from_orig].join(countries_encoded).join(position_encoded).join(cards_iat).join(binary_class)\n",
    "features.head()"
   ]
  },
  {
   "cell_type": "markdown",
   "metadata": {},
   "source": [
    "### Aggregating over the players:\n",
    "\n",
    "We now run grouping and aggregation of our dataframe. The aggregation functions used are defined in two dictionarys.\n",
    "Each element of the dictionarys contains of a column name and an aggregation function, which is applied to our grouped features."
   ]
  },
  {
   "cell_type": "code",
   "execution_count": 267,
   "metadata": {
    "collapsed": false
   },
   "outputs": [
    {
     "data": {
      "text/html": [
       "<div>\n",
       "<table border=\"1\" class=\"dataframe\">\n",
       "  <thead>\n",
       "    <tr style=\"text-align: right;\">\n",
       "      <th></th>\n",
       "      <th></th>\n",
       "      <th></th>\n",
       "      <th></th>\n",
       "      <th>victories</th>\n",
       "      <th>yellow_iat</th>\n",
       "      <th>meanIAT</th>\n",
       "      <th>games</th>\n",
       "      <th>redCards</th>\n",
       "      <th>Center Midfielder</th>\n",
       "      <th>Right Fullback</th>\n",
       "      <th>yellowReds</th>\n",
       "      <th>red_yellow_iat</th>\n",
       "      <th>Spain</th>\n",
       "      <th>...</th>\n",
       "      <th>Left Winger</th>\n",
       "      <th>Germany</th>\n",
       "      <th>France</th>\n",
       "      <th>Left Midfielder</th>\n",
       "      <th>England</th>\n",
       "      <th>goals</th>\n",
       "      <th>Defensive Midfielder</th>\n",
       "      <th>class</th>\n",
       "      <th>Right Winger</th>\n",
       "      <th>nIAT</th>\n",
       "    </tr>\n",
       "    <tr>\n",
       "      <th>playerShort</th>\n",
       "      <th>year</th>\n",
       "      <th>height</th>\n",
       "      <th>weight</th>\n",
       "      <th></th>\n",
       "      <th></th>\n",
       "      <th></th>\n",
       "      <th></th>\n",
       "      <th></th>\n",
       "      <th></th>\n",
       "      <th></th>\n",
       "      <th></th>\n",
       "      <th></th>\n",
       "      <th></th>\n",
       "      <th></th>\n",
       "      <th></th>\n",
       "      <th></th>\n",
       "      <th></th>\n",
       "      <th></th>\n",
       "      <th></th>\n",
       "      <th></th>\n",
       "      <th></th>\n",
       "      <th></th>\n",
       "      <th></th>\n",
       "      <th></th>\n",
       "    </tr>\n",
       "  </thead>\n",
       "  <tbody>\n",
       "    <tr>\n",
       "      <th>aaron-hughes</th>\n",
       "      <th>1979</th>\n",
       "      <th>182.0</th>\n",
       "      <th>71.0</th>\n",
       "      <td>246</td>\n",
       "      <td>6.420221</td>\n",
       "      <td>0.344413</td>\n",
       "      <td>650</td>\n",
       "      <td>0</td>\n",
       "      <td>0.0</td>\n",
       "      <td>0.0</td>\n",
       "      <td>0</td>\n",
       "      <td>0.000000</td>\n",
       "      <td>0.0</td>\n",
       "      <td>...</td>\n",
       "      <td>0.0</td>\n",
       "      <td>0.0</td>\n",
       "      <td>0.0</td>\n",
       "      <td>0.0</td>\n",
       "      <td>162.0</td>\n",
       "      <td>9</td>\n",
       "      <td>0.0</td>\n",
       "      <td>0</td>\n",
       "      <td>0.0</td>\n",
       "      <td>20193.709877</td>\n",
       "    </tr>\n",
       "    <tr>\n",
       "      <th>aaron-hunt</th>\n",
       "      <th>1986</th>\n",
       "      <th>183.0</th>\n",
       "      <th>73.0</th>\n",
       "      <td>141</td>\n",
       "      <td>14.374395</td>\n",
       "      <td>0.348943</td>\n",
       "      <td>335</td>\n",
       "      <td>1</td>\n",
       "      <td>0.0</td>\n",
       "      <td>0.0</td>\n",
       "      <td>0</td>\n",
       "      <td>0.000000</td>\n",
       "      <td>0.0</td>\n",
       "      <td>...</td>\n",
       "      <td>0.0</td>\n",
       "      <td>98.0</td>\n",
       "      <td>0.0</td>\n",
       "      <td>0.0</td>\n",
       "      <td>0.0</td>\n",
       "      <td>62</td>\n",
       "      <td>0.0</td>\n",
       "      <td>0</td>\n",
       "      <td>0.0</td>\n",
       "      <td>26291.591837</td>\n",
       "    </tr>\n",
       "    <tr>\n",
       "      <th>aaron-lennon</th>\n",
       "      <th>1987</th>\n",
       "      <th>165.0</th>\n",
       "      <th>63.0</th>\n",
       "      <td>200</td>\n",
       "      <td>3.651979</td>\n",
       "      <td>0.345893</td>\n",
       "      <td>412</td>\n",
       "      <td>0</td>\n",
       "      <td>0.0</td>\n",
       "      <td>0.0</td>\n",
       "      <td>0</td>\n",
       "      <td>0.000000</td>\n",
       "      <td>0.0</td>\n",
       "      <td>...</td>\n",
       "      <td>0.0</td>\n",
       "      <td>0.0</td>\n",
       "      <td>0.0</td>\n",
       "      <td>0.0</td>\n",
       "      <td>101.0</td>\n",
       "      <td>31</td>\n",
       "      <td>0.0</td>\n",
       "      <td>0</td>\n",
       "      <td>0.0</td>\n",
       "      <td>21234.861386</td>\n",
       "    </tr>\n",
       "    <tr>\n",
       "      <th>aaron-ramsey</th>\n",
       "      <th>1990</th>\n",
       "      <th>178.0</th>\n",
       "      <th>76.0</th>\n",
       "      <td>145</td>\n",
       "      <td>10.462342</td>\n",
       "      <td>0.346790</td>\n",
       "      <td>254</td>\n",
       "      <td>1</td>\n",
       "      <td>98.0</td>\n",
       "      <td>0.0</td>\n",
       "      <td>0</td>\n",
       "      <td>0.000000</td>\n",
       "      <td>0.0</td>\n",
       "      <td>...</td>\n",
       "      <td>0.0</td>\n",
       "      <td>0.0</td>\n",
       "      <td>0.0</td>\n",
       "      <td>0.0</td>\n",
       "      <td>98.0</td>\n",
       "      <td>39</td>\n",
       "      <td>0.0</td>\n",
       "      <td>0</td>\n",
       "      <td>0.0</td>\n",
       "      <td>40568.571429</td>\n",
       "    </tr>\n",
       "    <tr>\n",
       "      <th>abdelhamid-el-kaoutari</th>\n",
       "      <th>1990</th>\n",
       "      <th>180.0</th>\n",
       "      <th>73.0</th>\n",
       "      <td>41</td>\n",
       "      <td>2.677471</td>\n",
       "      <td>0.331600</td>\n",
       "      <td>124</td>\n",
       "      <td>2</td>\n",
       "      <td>0.0</td>\n",
       "      <td>0.0</td>\n",
       "      <td>4</td>\n",
       "      <td>1.356972</td>\n",
       "      <td>0.0</td>\n",
       "      <td>...</td>\n",
       "      <td>0.0</td>\n",
       "      <td>0.0</td>\n",
       "      <td>37.0</td>\n",
       "      <td>0.0</td>\n",
       "      <td>0.0</td>\n",
       "      <td>1</td>\n",
       "      <td>0.0</td>\n",
       "      <td>0</td>\n",
       "      <td>0.0</td>\n",
       "      <td>2832.351351</td>\n",
       "    </tr>\n",
       "  </tbody>\n",
       "</table>\n",
       "<p>5 rows × 30 columns</p>\n",
       "</div>"
      ],
      "text/plain": [
       "                                           victories  yellow_iat   meanIAT  \\\n",
       "playerShort            year height weight                                    \n",
       "aaron-hughes           1979 182.0  71.0          246    6.420221  0.344413   \n",
       "aaron-hunt             1986 183.0  73.0          141   14.374395  0.348943   \n",
       "aaron-lennon           1987 165.0  63.0          200    3.651979  0.345893   \n",
       "aaron-ramsey           1990 178.0  76.0          145   10.462342  0.346790   \n",
       "abdelhamid-el-kaoutari 1990 180.0  73.0           41    2.677471  0.331600   \n",
       "\n",
       "                                           games  redCards  Center Midfielder  \\\n",
       "playerShort            year height weight                                       \n",
       "aaron-hughes           1979 182.0  71.0      650         0                0.0   \n",
       "aaron-hunt             1986 183.0  73.0      335         1                0.0   \n",
       "aaron-lennon           1987 165.0  63.0      412         0                0.0   \n",
       "aaron-ramsey           1990 178.0  76.0      254         1               98.0   \n",
       "abdelhamid-el-kaoutari 1990 180.0  73.0      124         2                0.0   \n",
       "\n",
       "                                           Right Fullback  yellowReds  \\\n",
       "playerShort            year height weight                               \n",
       "aaron-hughes           1979 182.0  71.0               0.0           0   \n",
       "aaron-hunt             1986 183.0  73.0               0.0           0   \n",
       "aaron-lennon           1987 165.0  63.0               0.0           0   \n",
       "aaron-ramsey           1990 178.0  76.0               0.0           0   \n",
       "abdelhamid-el-kaoutari 1990 180.0  73.0               0.0           4   \n",
       "\n",
       "                                           red_yellow_iat  Spain  \\\n",
       "playerShort            year height weight                          \n",
       "aaron-hughes           1979 182.0  71.0          0.000000    0.0   \n",
       "aaron-hunt             1986 183.0  73.0          0.000000    0.0   \n",
       "aaron-lennon           1987 165.0  63.0          0.000000    0.0   \n",
       "aaron-ramsey           1990 178.0  76.0          0.000000    0.0   \n",
       "abdelhamid-el-kaoutari 1990 180.0  73.0          1.356972    0.0   \n",
       "\n",
       "                                               ...       Left Winger  Germany  \\\n",
       "playerShort            year height weight      ...                              \n",
       "aaron-hughes           1979 182.0  71.0        ...               0.0      0.0   \n",
       "aaron-hunt             1986 183.0  73.0        ...               0.0     98.0   \n",
       "aaron-lennon           1987 165.0  63.0        ...               0.0      0.0   \n",
       "aaron-ramsey           1990 178.0  76.0        ...               0.0      0.0   \n",
       "abdelhamid-el-kaoutari 1990 180.0  73.0        ...               0.0      0.0   \n",
       "\n",
       "                                           France  Left Midfielder  England  \\\n",
       "playerShort            year height weight                                     \n",
       "aaron-hughes           1979 182.0  71.0       0.0              0.0    162.0   \n",
       "aaron-hunt             1986 183.0  73.0       0.0              0.0      0.0   \n",
       "aaron-lennon           1987 165.0  63.0       0.0              0.0    101.0   \n",
       "aaron-ramsey           1990 178.0  76.0       0.0              0.0     98.0   \n",
       "abdelhamid-el-kaoutari 1990 180.0  73.0      37.0              0.0      0.0   \n",
       "\n",
       "                                           goals  Defensive Midfielder  class  \\\n",
       "playerShort            year height weight                                       \n",
       "aaron-hughes           1979 182.0  71.0        9                   0.0      0   \n",
       "aaron-hunt             1986 183.0  73.0       62                   0.0      0   \n",
       "aaron-lennon           1987 165.0  63.0       31                   0.0      0   \n",
       "aaron-ramsey           1990 178.0  76.0       39                   0.0      0   \n",
       "abdelhamid-el-kaoutari 1990 180.0  73.0        1                   0.0      0   \n",
       "\n",
       "                                           Right Winger          nIAT  \n",
       "playerShort            year height weight                              \n",
       "aaron-hughes           1979 182.0  71.0             0.0  20193.709877  \n",
       "aaron-hunt             1986 183.0  73.0             0.0  26291.591837  \n",
       "aaron-lennon           1987 165.0  63.0             0.0  21234.861386  \n",
       "aaron-ramsey           1990 178.0  76.0             0.0  40568.571429  \n",
       "abdelhamid-el-kaoutari 1990 180.0  73.0             0.0   2832.351351  \n",
       "\n",
       "[5 rows x 30 columns]"
      ]
     },
     "execution_count": 267,
     "metadata": {},
     "output_type": "execute_result"
    }
   ],
   "source": [
    "players = features.groupby(['playerShort','year','height', 'weight'])\n",
    "\n",
    "# We sum over the one hot encoded features\n",
    "one_hot_aggregation = {i: sum for i in colomns_one_hot_enoded}\n",
    "\n",
    "# And then sum over games, victories, ties, defeats, goals, cards, \n",
    "column_aggfunc_mapping = {'class': max, 'games': sum, 'victories': sum, 'ties': sum, 'defeats': sum, 'goals': sum,\n",
    "                          'yellowCards': sum, 'yellowReds': sum, 'redCards': sum, 'red_iat': sum,\n",
    "                          'yellow_iat': sum, 'red_yellow_iat': sum, 'meanIAT': np.mean, 'nIAT': np.mean}\n",
    "\n",
    "# Union the aggregation function dicts\n",
    "agg_funcs = {**one_hot_aggregation, **column_aggfunc_mapping}\n",
    "\n",
    "agg_features = players.agg(agg_funcs)\n",
    "agg_features.reset_index().set_index('playerShort')\n",
    "agg_features.head()"
   ]
  },
  {
   "cell_type": "code",
   "execution_count": null,
   "metadata": {
    "collapsed": true
   },
   "outputs": [],
   "source": [
    "aggregated_features = players.reset_index().set_index('playerShort')\n",
    "aggregated_features['meanIAT'].head()"
   ]
  },
  {
   "cell_type": "code",
   "execution_count": null,
   "metadata": {
    "collapsed": false
   },
   "outputs": [],
   "source": [
    "games = aggregated_features['games']\n",
    "game_dep = aggregated_features[['Center Forward', 'defeats', 'yellowCards', 'meanIAT', 'Spain',\n",
    "       'Germany', 'Left Winger', 'England', 'France', 'nExp',\n",
    "       'Attacking Midfielder', 'victories', 'Defensive Midfielder', 'nIAT',\n",
    "       'yellowReds', 'Left Fullback', 'Goalkeeper', 'Center Back',\n",
    "       'combIAT', 'meanExp', 'Missing', 'Left Midfielder', 'goals', 'redCards',\n",
    "       'Right Fullback', 'Center Midfielder', 'Right Winger',\n",
    "       'Right Midfielder', 'ties']]\n",
    "\n",
    "game_normalized = game_dep.div(games, axis='rows')"
   ]
  },
  {
   "cell_type": "code",
   "execution_count": null,
   "metadata": {
    "collapsed": false
   },
   "outputs": [],
   "source": [
    "rating = aggregated_features['rater_mean']\n",
    "prepped_features = aggregated_features[aggregated_features.columns[:3]].join(game_normalized).join(rating).join(games)"
   ]
  },
  {
   "cell_type": "code",
   "execution_count": null,
   "metadata": {
    "collapsed": false
   },
   "outputs": [],
   "source": [
    "prepped_features['year'].hist()"
   ]
  },
  {
   "cell_type": "code",
   "execution_count": null,
   "metadata": {
    "collapsed": false
   },
   "outputs": [],
   "source": [
    "prepped_features['rater'].isnull().value_counts()"
   ]
  },
  {
   "cell_type": "markdown",
   "metadata": {},
   "source": [
    "Prepared dataset for further processing with ML methods"
   ]
  },
  {
   "cell_type": "code",
   "execution_count": null,
   "metadata": {
    "collapsed": false
   },
   "outputs": [],
   "source": [
    "\n",
    "\n",
    "\n",
    "Xy = prepped_features #.apply(LabelEncoder().fit_transform)"
   ]
  },
  {
   "cell_type": "code",
   "execution_count": null,
   "metadata": {
    "collapsed": false
   },
   "outputs": [],
   "source": [
    "Xt = Xy.drop(['rater_mean'], axis=1)\n",
    "y = Xy['rater_mean']\n",
    "\n",
    "print('Samples:', Xt.shape)\n",
    "print('Lables:', y.shape)"
   ]
  },
  {
   "cell_type": "code",
   "execution_count": null,
   "metadata": {
    "collapsed": false
   },
   "outputs": [],
   "source": [
    "Xt.shape"
   ]
  },
  {
   "cell_type": "markdown",
   "metadata": {},
   "source": [
    "## Normalizing"
   ]
  },
  {
   "cell_type": "code",
   "execution_count": null,
   "metadata": {
    "collapsed": false
   },
   "outputs": [],
   "source": [
    "\n",
    "X = preprocessing.normalize(Xt, norm='l2')\n",
    "X"
   ]
  },
  {
   "cell_type": "markdown",
   "metadata": {},
   "source": [
    "## Machine Learning by RandomForestClassifier"
   ]
  },
  {
   "cell_type": "markdown",
   "metadata": {},
   "source": [
    "### Base model"
   ]
  },
  {
   "cell_type": "code",
   "execution_count": null,
   "metadata": {
    "collapsed": false
   },
   "outputs": [],
   "source": [
    "y.value_counts().plot(kind='barh', stacked=True)"
   ]
  },
  {
   "cell_type": "code",
   "execution_count": null,
   "metadata": {
    "collapsed": false
   },
   "outputs": [],
   "source": [
    "print('There are about %.2f%% 0s in the class vector.' % (y.value_counts()[0] / y.shape[0]))"
   ]
  },
  {
   "cell_type": "markdown",
   "metadata": {},
   "source": [
    "The result above shows that by allways predicting 0, we could achieve an accuracy of approximately 60%. \n",
    "We should therefore expect that our classifier performs at least as good as this, and hopefully significantly better. "
   ]
  },
  {
   "cell_type": "markdown",
   "metadata": {},
   "source": [
    "### Tuning the model"
   ]
  },
  {
   "cell_type": "code",
   "execution_count": null,
   "metadata": {
    "collapsed": false
   },
   "outputs": [],
   "source": []
  },
  {
   "cell_type": "code",
   "execution_count": null,
   "metadata": {
    "collapsed": false
   },
   "outputs": [],
   "source": [
    "rfc = RandomForestClassifier(n_jobs=-1, n_estimators=200, random_state=42) \n",
    "\n",
    "param_grid = {\n",
    "    'max_features': ['log2','sqrt', None],\n",
    "    'min_samples_leaf': [2,20,200],\n",
    "    'max_depth': [4,8,16,None],\n",
    "}\n",
    "\n",
    "#(8)    'max_depth': [4,8,16,None],\n",
    "#(gini) 'criterion': ['gini', 'entropy'],\n",
    "#(log2) 'max_features': ['log2','sqrt', None],\n",
    "#(20) 'min_samples_split': [2,20,200],\n",
    "#(2) 'min_samples_leaf': [2,20,200],\n",
    "#(20) 'min_samples_split': [2,20,200],\n",
    "#(1e-7) 'min_impurity_split': [1e-07, 1e-06, 1e-05],\n",
    "#(True) 'bootstrap': [True, False],"
   ]
  },
  {
   "cell_type": "markdown",
   "metadata": {},
   "source": [
    "#### Optimizing for F1 score"
   ]
  },
  {
   "cell_type": "code",
   "execution_count": null,
   "metadata": {
    "collapsed": true
   },
   "outputs": [],
   "source": [
    "CV_rfc = GridSearchCV(estimator=rfc, scoring='f1', param_grid=param_grid, cv=10, verbose=True, n_jobs=-1)\n",
    "CV_rfc.fit(X, y, )\n",
    "print(CV_rfc.best_params_)"
   ]
  },
  {
   "cell_type": "markdown",
   "metadata": {},
   "source": [
    "#### Optimizing for accuracy"
   ]
  },
  {
   "cell_type": "code",
   "execution_count": null,
   "metadata": {
    "collapsed": false
   },
   "outputs": [],
   "source": [
    "CV_rfc = GridSearchCV(estimator=rfc, scoring='accuracy', param_grid=param_grid, cv=10, verbose=True, n_jobs=-1)\n",
    "CV_rfc.fit(X, y, )\n",
    "print(CV_rfc.best_params_)"
   ]
  },
  {
   "cell_type": "markdown",
   "metadata": {},
   "source": [
    "### Training the model\n",
    "\n",
    "We use the results found in the grid search to tune our random forrest classifier. \n",
    "\n",
    "Description of the hyperparameters:\n",
    "\n",
    "- n_estimators: The number of trees used in random forest\n",
    "- min_samples_leaf: TODO\n",
    "- max_features: TODO\n",
    "- max_depth: The maximal depth of the tree\n",
    "\n",
    "- bootstrap: Todo\n",
    "- oob_score: Todo\n",
    "- n_jobs: Number of processes used in the calculation. -1 uses all avilable.\n",
    "- random_state: Seed for the random generator, to give reproducable results."
   ]
  },
  {
   "cell_type": "code",
   "execution_count": null,
   "metadata": {
    "collapsed": false
   },
   "outputs": [],
   "source": [
    "rfc = RandomForestClassifier(n_estimators=1000, min_samples_leaf=2, max_features='log2', max_depth=8, bootstrap=True, oob_score=True, random_state=4, n_jobs=-1)\n",
    "print(rfc)"
   ]
  },
  {
   "cell_type": "markdown",
   "metadata": {},
   "source": [
    "We can then fit our model to the data:"
   ]
  },
  {
   "cell_type": "code",
   "execution_count": null,
   "metadata": {
    "collapsed": false
   },
   "outputs": [],
   "source": [
    "rfc.fit(X, y)"
   ]
  },
  {
   "cell_type": "code",
   "execution_count": null,
   "metadata": {
    "collapsed": false
   },
   "outputs": [],
   "source": [
    "X_rfc.head()"
   ]
  },
  {
   "cell_type": "markdown",
   "metadata": {},
   "source": [
    "## Inspect most relevant features of RandomForest"
   ]
  },
  {
   "cell_type": "code",
   "execution_count": null,
   "metadata": {
    "collapsed": false
   },
   "outputs": [],
   "source": [
    "importances = rfc.feature_importances_\n",
    "std = np.std([tree.feature_importances_ for tree in rfc.estimators_],\n",
    "             axis=0)\n",
    "indices = np.argsort(importances)[::-1]\n",
    "\n",
    "# Print the feature ranking\n",
    "print(\"Feature ranking:\")\n",
    "\n",
    "for f in range(X.shape[1]):\n",
    "    print(\"%d. feature %d : %s  (%f)\" % (f + 1, indices[f], Xt.columns[indices[f]], importances[indices[f]]))\n",
    "\n",
    "# Plot the feature importances of the forest\n",
    "plt.figure()\n",
    "plt.title(\"Feature importances\")\n",
    "plt.bar(range(X.shape[1]), importances[indices],\n",
    "       color=\"r\", yerr=std[indices], align=\"center\")\n",
    "plt.xticks(range(X.shape[1]), indices)\n",
    "plt.xlim([-1, X.shape[1]])\n",
    "plt.xlabel(\"Feature\")\n",
    "plt.ylabel(\"Feature importance\")\n",
    "plt.show()"
   ]
  },
  {
   "cell_type": "markdown",
   "metadata": {},
   "source": [
    "## Performance assessment \n",
    "\n",
    "### Cross-validation"
   ]
  },
  {
   "cell_type": "code",
   "execution_count": null,
   "metadata": {
    "collapsed": true
   },
   "outputs": [],
   "source": []
  },
  {
   "cell_type": "code",
   "execution_count": null,
   "metadata": {
    "collapsed": false
   },
   "outputs": [],
   "source": [
    "# 10-fold cross-validation with K=5 for KNN (the n_neighbors parameter)\n",
    "scores = cross_val_score(rfc, X, y, cv=10, scoring='f1', n_jobs=-1)\n",
    "print(scores)\n",
    "print('Achieved model score: ', np.mean(scores))"
   ]
  },
  {
   "cell_type": "markdown",
   "metadata": {},
   "source": [
    "Visualize score results as boxplots"
   ]
  },
  {
   "cell_type": "code",
   "execution_count": null,
   "metadata": {
    "collapsed": false
   },
   "outputs": [],
   "source": [
    "plt.boxplot(scores)"
   ]
  },
  {
   "cell_type": "markdown",
   "metadata": {},
   "source": [
    "### Confusion matrix"
   ]
  },
  {
   "cell_type": "code",
   "execution_count": null,
   "metadata": {
    "collapsed": false
   },
   "outputs": [],
   "source": []
  },
  {
   "cell_type": "code",
   "execution_count": null,
   "metadata": {
    "collapsed": false
   },
   "outputs": [],
   "source": [
    "X_train, X_test, y_train, y_test = train_test_split(X,y,test_size=0.2)\n",
    "print(X_train.shape, X_test.shape, y_train.shape, y_test.shape)"
   ]
  },
  {
   "cell_type": "code",
   "execution_count": null,
   "metadata": {
    "collapsed": false
   },
   "outputs": [],
   "source": [
    "rfc.fit(X_train, y_train)\n",
    "\n",
    "y_pred = rfc.predict(X_test)\n",
    "print(classification_report(y_test, y_pred))"
   ]
  },
  {
   "cell_type": "markdown",
   "metadata": {},
   "source": [
    "# Bonus: Learning curve\n"
   ]
  },
  {
   "cell_type": "code",
   "execution_count": null,
   "metadata": {
    "collapsed": false
   },
   "outputs": [],
   "source": [
    "#train_sizes = np.arange(300,1201, int((1201-300)/20))\n",
    "train_sizes = np.arange(0.1, 1.0, 0.8/3)\n",
    "train_sizes.shape"
   ]
  },
  {
   "cell_type": "code",
   "execution_count": null,
   "metadata": {
    "collapsed": false
   },
   "outputs": [],
   "source": [
    "\n",
    "\n",
    "rfc = RandomForestClassifier(\n",
    "    n_estimators=1000, min_samples_leaf=2, max_features='log2', max_depth=8,\n",
    "    bootstrap=True, oob_score=True, random_state=4, n_jobs=-1)\n",
    "\n",
    "train_sizes, train_scores, test_scores = learning_curve(\n",
    "     rfc, X, y, train_sizes=train_sizes, cv=10, n_jobs=-1)"
   ]
  },
  {
   "cell_type": "code",
   "execution_count": null,
   "metadata": {
    "collapsed": false
   },
   "outputs": [],
   "source": [
    "plt.figure()\n",
    "plt.title(\"Learning curve\")\n",
    "\n",
    "plt.xlabel(\"Training examples\")\n",
    "plt.ylabel(\"Score\")\n",
    "\n",
    "train_scores_mean = np.mean(train_scores, axis=1)\n",
    "train_scores_std = np.std(train_scores, axis=1)\n",
    "test_scores_mean = np.mean(test_scores, axis=1)\n",
    "test_scores_std = np.std(test_scores, axis=1)\n",
    "\n",
    "plt.grid()\n",
    "plt.fill_between(train_sizes, train_scores_mean - train_scores_std,\n",
    "                 train_scores_mean + train_scores_std, alpha=0.1,\n",
    "                 color=\"r\")\n",
    "plt.fill_between(train_sizes, test_scores_mean - test_scores_std,\n",
    "                 test_scores_mean + test_scores_std, alpha=0.1, color=\"g\")\n",
    "plt.plot(train_sizes, train_scores_mean, '-', color=\"r\",\n",
    "         label=\"Training score\")\n",
    "plt.plot(train_sizes, test_scores_mean, '-', color=\"g\",\n",
    "         label=\"Cross-validation score\")\n",
    "\n",
    "plt.legend(loc=\"best\")"
   ]
  },
  {
   "cell_type": "markdown",
   "metadata": {},
   "source": [
    "### Club skin-color rate"
   ]
  },
  {
   "cell_type": "code",
   "execution_count": 219,
   "metadata": {
    "collapsed": false
   },
   "outputs": [
    {
     "data": {
      "text/html": [
       "<div>\n",
       "<table border=\"1\" class=\"dataframe\">\n",
       "  <thead>\n",
       "    <tr style=\"text-align: right;\">\n",
       "      <th></th>\n",
       "      <th>club_class_mean</th>\n",
       "    </tr>\n",
       "    <tr>\n",
       "      <th>club</th>\n",
       "      <th></th>\n",
       "    </tr>\n",
       "  </thead>\n",
       "  <tbody>\n",
       "    <tr>\n",
       "      <th>1. FC Nürnberg</th>\n",
       "      <td>0.128803</td>\n",
       "    </tr>\n",
       "    <tr>\n",
       "      <th>1. FSV Mainz 05</th>\n",
       "      <td>0.165644</td>\n",
       "    </tr>\n",
       "    <tr>\n",
       "      <th>1899 Hoffenheim</th>\n",
       "      <td>0.165950</td>\n",
       "    </tr>\n",
       "    <tr>\n",
       "      <th>AC Ajaccio</th>\n",
       "      <td>0.402757</td>\n",
       "    </tr>\n",
       "    <tr>\n",
       "      <th>AS Nancy</th>\n",
       "      <td>0.396000</td>\n",
       "    </tr>\n",
       "  </tbody>\n",
       "</table>\n",
       "</div>"
      ],
      "text/plain": [
       "                 club_class_mean\n",
       "club                            \n",
       "1. FC Nürnberg          0.128803\n",
       "1. FSV Mainz 05         0.165644\n",
       "1899 Hoffenheim         0.165950\n",
       "AC Ajaccio              0.402757\n",
       "AS Nancy                0.396000"
      ]
     },
     "execution_count": 219,
     "metadata": {},
     "output_type": "execute_result"
    }
   ],
   "source": [
    "# TODO: is this cheating?\n",
    "club_class = pd.concat([has_class['club'], binary_class], axis=1)\n",
    "club_class_mean = club_class.groupby('club').mean()\n",
    "club_class_mean.columns = ['club_class_mean']\n",
    "club_class_mean.head()"
   ]
  },
  {
   "cell_type": "code",
   "execution_count": 220,
   "metadata": {
    "collapsed": false
   },
   "outputs": [
    {
     "data": {
      "text/html": [
       "<div>\n",
       "<table border=\"1\" class=\"dataframe\">\n",
       "  <thead>\n",
       "    <tr style=\"text-align: right;\">\n",
       "      <th></th>\n",
       "      <th>club</th>\n",
       "      <th>club_class_mean</th>\n",
       "    </tr>\n",
       "  </thead>\n",
       "  <tbody>\n",
       "    <tr>\n",
       "      <th>5</th>\n",
       "      <td>Fulham FC</td>\n",
       "      <td>0.157295</td>\n",
       "    </tr>\n",
       "    <tr>\n",
       "      <th>6</th>\n",
       "      <td>Manchester City</td>\n",
       "      <td>0.454163</td>\n",
       "    </tr>\n",
       "    <tr>\n",
       "      <th>7</th>\n",
       "      <td>Norwich City</td>\n",
       "      <td>0.414286</td>\n",
       "    </tr>\n",
       "    <tr>\n",
       "      <th>8</th>\n",
       "      <td>Manchester United</td>\n",
       "      <td>0.288742</td>\n",
       "    </tr>\n",
       "    <tr>\n",
       "      <th>9</th>\n",
       "      <td>1899 Hoffenheim</td>\n",
       "      <td>0.165950</td>\n",
       "    </tr>\n",
       "  </tbody>\n",
       "</table>\n",
       "</div>"
      ],
      "text/plain": [
       "                club  club_class_mean\n",
       "5          Fulham FC         0.157295\n",
       "6    Manchester City         0.454163\n",
       "7       Norwich City         0.414286\n",
       "8  Manchester United         0.288742\n",
       "9    1899 Hoffenheim         0.165950"
      ]
     },
     "execution_count": 220,
     "metadata": {},
     "output_type": "execute_result"
    }
   ],
   "source": [
    "club_stats = pd.DataFrame(has_class['club']).merge(club_class_mean, left_on='club', right_index=True, how='left')\n",
    "club_stats.head()"
   ]
  },
  {
   "cell_type": "code",
   "execution_count": null,
   "metadata": {
    "collapsed": false
   },
   "outputs": [],
   "source": [
    "plt.savefig(\"Learning_curve\")"
   ]
  },
  {
   "cell_type": "markdown",
   "metadata": {},
   "source": [
    "## TODO\n",
    "\n",
    "- Verify if classifier should be categorical of binary\n",
    "- Take into account the referee statistics in a smart way (see Slack discussion)\n",
    "- Try different parameters for the random forest to compare results (bias, variance)\n",
    "- Bonus\n",
    "- Exercise 2\n"
   ]
  },
  {
   "cell_type": "code",
   "execution_count": null,
   "metadata": {
    "collapsed": true
   },
   "outputs": [],
   "source": []
  },
  {
   "cell_type": "code",
   "execution_count": null,
   "metadata": {
    "collapsed": true
   },
   "outputs": [],
   "source": []
  }
 ],
 "metadata": {
  "anaconda-cloud": {},
  "kernelspec": {
   "display_name": "Python [default]",
   "language": "python",
   "name": "python3"
  },
  "language_info": {
   "codemirror_mode": {
    "name": "ipython",
    "version": 3
   },
   "file_extension": ".py",
   "mimetype": "text/x-python",
   "name": "python",
   "nbconvert_exporter": "python",
   "pygments_lexer": "ipython3",
   "version": "3.5.2"
  }
 },
 "nbformat": 4,
 "nbformat_minor": 0
}
