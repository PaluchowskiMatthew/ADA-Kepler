{
 "cells": [
  {
   "cell_type": "markdown",
   "metadata": {},
   "source": [
    "# Fetching the data from the IS Academia API\n",
    "\n",
    "We start by getting the HTML response of the tabular student data from ISAcademia.\n",
    "For this, we use the [Requests](http://docs.python-requests.org/en/master/) library.\n"
   ]
  },
  {
   "cell_type": "code",
   "execution_count": null,
   "metadata": {
    "collapsed": false
   },
   "outputs": [],
   "source": [
    "# We are going to use requests to do the HTTP-calls for gathering data, and BeautifulSoup for parsing the \n",
    "# HTML that we recieve\n",
    "import requests\n",
    "from bs4 import BeautifulSoup\n",
    "\n",
    "# re will help us parse the html by using regular expressions\n",
    "import re\n",
    "\n",
    "# Furthermore, we will use the normal stack of pandas, numpy, matplotlib and seaborn\n",
    "import pandas as pd\n",
    "import numpy as np\n",
    "import matplotlib.pyplot as pls\n",
    "import seaborn as sb"
   ]
  },
  {
   "cell_type": "markdown",
   "metadata": {},
   "source": [
    "## Making the reqest\n",
    "\n",
    "*Warning*: we are loading a lot of data, thus the loading takes quite a long time. Therefore, don't run this unless it's needed\n",
    "\n",
    "To not spam the API too much, we collect all the data in one try, and filter it afterwords.\n",
    "\n",
    "We use the following parameters:\n",
    "\n",
    "## TODO: Update this\n",
    "~~~~~~~~~~~~~~~~\n",
    "- ww_x_GPS:-1\n",
    "- ww_i_reportModel:133685247\n",
    "- ww_i_reportModelXsl:133685270\n",
    "- ww_x_UNITE_ACAD:249847\n",
    "- ww_x_PERIODE_ACAD:null\n",
    "- ww_x_PERIODE_PEDAGO:null\n",
    "- ww_x_HIVERETE:null\n",
    "\n",
    "\n",
    "Which leads to the folloring request:\n",
    "http://isa.epfl.ch/imoniteur_ISAP/!GEDPUBLICREPORTS.html?ww_x_GPS=-1&ww_i_reportModel=133685247&ww_i_reportModelXsl=133685270&ww_x_UNITE_ACAD=249847&ww_x_PERIODE_ACAD=null&ww_x_PERIODE_PEDAGO=null&ww_x_HIVERETE=null\n",
    "~~~~~~~~~~~~~~~~"
   ]
  },
  {
   "cell_type": "code",
   "execution_count": null,
   "metadata": {
    "collapsed": false
   },
   "outputs": [],
   "source": [
    "DEBUG = True\n",
    "\n",
    "# TODO: make the request by using parameters to the function call, instead of coding it in the URI.\n",
    "# TODO: verify that the uri is correct, and that we get all the data that we want\n",
    "\n",
    "if DEBUG:\n",
    "    # For testing and development we use the test_uri, which only loads data from 2016-2017\n",
    "    uri = \"http://isa.epfl.ch/imoniteur_ISAP/!GEDPUBLICREPORTS.html?ww_x_GPS=-1&ww_i_reportModel=133685247&ww_i_reportModelXsl=133685270&ww_x_UNITE_ACAD=249847&ww_x_PERIODE_ACAD=355925344&ww_x_PERIODE_PEDAGO=null&ww_x_HIVERETE=null\"\n",
    "else:\n",
    "    # For 'production', collect all the data available from ISAcademia, for students at the IC-section\n",
    "    uri = \"http://isa.epfl.ch/imoniteur_ISAP/!GEDPUBLICREPORTS.html?ww_x_GPS=-1&ww_i_reportModel=133685247&ww_i_reportModelXsl=133685270&ww_x_UNITE_ACAD=249847&ww_x_PERIODE_ACAD=null&ww_x_PERIODE_PEDAGO=null&ww_x_HIVERETE=null\"\n",
    "\n",
    "req = requests.get(uri)"
   ]
  },
  {
   "cell_type": "markdown",
   "metadata": {},
   "source": [
    "## Parsing the result"
   ]
  },
  {
   "cell_type": "code",
   "execution_count": null,
   "metadata": {
    "collapsed": false
   },
   "outputs": [],
   "source": [
    "# Defining some helper functions, for clarity\n",
    "def clean(string):\n",
    "    return string.strip().lower().replace(' ', '_')\n",
    "\n",
    "def is_semester_info(data):\n",
    "    return len(data) <= 2\n",
    "\n",
    "def is_header(data):\n",
    "    return not ((len(data) > 2) and data[-2].isdigit())\n",
    "\n",
    "def parse_table(table):\n",
    "    students = []\n",
    "    header = ''\n",
    "    semester = ''\n",
    "\n",
    "    for tr in table:\n",
    "        row_data = []\n",
    "        for td in tr:\n",
    "            value = td.get_text().strip().replace('\\xa0', ' ')\n",
    "            row_data.append(value)\n",
    "\n",
    "                     \n",
    "        if is_semester_info(row_data):\n",
    "            info = [clean(value) for value in row_data[0].split(', ')]\n",
    "            section = info[0]\n",
    "            year = info[1]\n",
    "            semester, wat = info[2].split('\\n_')\n",
    "        elif(is_header(row_data)):\n",
    "            header = [ clean(val) for val  in  row_data] \n",
    "        else:\n",
    "            person = {'year': year, 'semester': semester, 'section': section, 'wat': wat}\n",
    "            for i, key in enumerate(header):\n",
    "                val = row_data[i].strip()\n",
    "                if val: \n",
    "                    person[key] = val\n",
    "                    \n",
    "            students.append(person)\n",
    "    \n",
    "    return students"
   ]
  },
  {
   "cell_type": "code",
   "execution_count": null,
   "metadata": {
    "collapsed": false,
    "scrolled": false
   },
   "outputs": [],
   "source": [
    "soup = BeautifulSoup(req.text, 'html.parser')\n",
    "students_table = soup.find('table')\n",
    "\n",
    "students = parse_table(students_table)\n",
    "\n",
    "df = pd.DataFrame(students)\n",
    "df.set_index(['no_sciper'], inplace=True)\n",
    "\n",
    "df.head()\n",
    " "
   ]
  },
  {
   "cell_type": "code",
   "execution_count": null,
   "metadata": {
    "collapsed": false
   },
   "outputs": [],
   "source": [
    "by_name = df.groupby(['nom_prénom', 'year', 'semester'])\n",
    "by_name.first()"
   ]
  }
 ],
 "metadata": {
  "anaconda-cloud": {},
  "kernelspec": {
   "display_name": "Python [conda root]",
   "language": "python",
   "name": "conda-root-py"
  },
  "language_info": {
   "codemirror_mode": {
    "name": "ipython",
    "version": 3
   },
   "file_extension": ".py",
   "mimetype": "text/x-python",
   "name": "python",
   "nbconvert_exporter": "python",
   "pygments_lexer": "ipython3",
   "version": "3.5.2"
  }
 },
 "nbformat": 4,
 "nbformat_minor": 0
}
