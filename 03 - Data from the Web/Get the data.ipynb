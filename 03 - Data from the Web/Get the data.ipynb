{
 "cells": [
  {
   "cell_type": "markdown",
   "metadata": {},
   "source": [
    "# Fetching the data from the IS Academia API\n",
    "\n",
    "We start by getting the HTML response of the tabular student data from ISAcademia.\n",
    "For this, we use the [Requests](http://docs.python-requests.org/en/master/) library.\n"
   ]
  },
  {
   "cell_type": "code",
   "execution_count": null,
   "metadata": {
    "collapsed": false
   },
   "outputs": [],
   "source": [
    "# We are going to use requests to do the HTTP-calls for gathering data, and BeautifulSoup for parsing the \n",
    "# HTML that we recieve\n",
    "import requests\n",
    "from bs4 import BeautifulSoup\n",
    "\n",
    "# re will help us parse the html by using regular expressions\n",
    "import re\n",
    "\n",
    "# Furthermore, we will use the normal stack of pandas, numpy, matplotlib and seaborn\n",
    "import pandas as pd\n",
    "import numpy as np\n",
    "import matplotlib.pyplot as pls\n",
    "import seaborn as sb\n",
    "\n",
    "# Statistical test library\n",
    "import scipy.stats as stats"
   ]
  },
  {
   "cell_type": "markdown",
   "metadata": {},
   "source": [
    "## Making the reqest\n",
    "\n",
    "*Warning*: we are loading a lot of data, thus the loading takes quite a long time. Therefore, don't run this unless it's needed\n",
    "\n",
    "To not spam the API too much, we collect all the data in one try, and filter it afterwords.\n",
    "\n",
    "We use the following parameters:\n",
    "\n",
    "## TODO: Update this\n",
    "~~~~~~~~~~~~~~~~\n",
    "- ww_x_GPS:-1\n",
    "- ww_i_reportModel:133685247\n",
    "- ww_i_reportModelXsl:133685270\n",
    "- ww_x_UNITE_ACAD:249847\n",
    "- ww_x_PERIODE_ACAD:null\n",
    "- ww_x_PERIODE_PEDAGO:null\n",
    "- ww_x_HIVERETE:null\n",
    "\n",
    "\n",
    "Which leads to the following request:\n",
    "http://isa.epfl.ch/imoniteur_ISAP/!GEDPUBLICREPORTS.html?ww_x_GPS=-1&ww_i_reportModel=133685247&ww_i_reportModelXsl=133685270&ww_x_UNITE_ACAD=249847&ww_x_PERIODE_ACAD=null&ww_x_PERIODE_PEDAGO=null&ww_x_HIVERETE=null\n",
    "fetching data for all Computer Science students (Informatique) for all available years and semesters.\n",
    "Such querring technique might be problematic with larger datasets (would probably result in server timeout) but since it works for our problem we stick to it.\n",
    "~~~~~~~~~~~~~~~~"
   ]
  },
  {
   "cell_type": "code",
   "execution_count": null,
   "metadata": {
    "collapsed": false
   },
   "outputs": [],
   "source": [
    "DEBUG = False\n",
    "\n",
    "# TODO: make the request by using parameters to the function call, instead of coding it in the URI.\n",
    "# TODO: verify that the uri is correct, and that we get all the data that we want\n",
    "\n",
    "if DEBUG:\n",
    "    # For testing and development we use the test_uri, which only loads data from 2016-2017\n",
    "    uri = \"http://isa.epfl.ch/imoniteur_ISAP/!GEDPUBLICREPORTS.html?ww_x_GPS=-1&ww_i_reportModel=133685247&ww_i_reportModelXsl=133685270&ww_x_UNITE_ACAD=249847&ww_x_PERIODE_ACAD=355925344&ww_x_PERIODE_PEDAGO=null&ww_x_HIVERETE=null\"\n",
    "else:\n",
    "    # For 'production', collect all the data available from ISAcademia, for students at the IC-section\n",
    "    uri = \"http://isa.epfl.ch/imoniteur_ISAP/!GEDPUBLICREPORTS.html?ww_x_GPS=-1&ww_i_reportModel=133685247&ww_i_reportModelXsl=133685270&ww_x_UNITE_ACAD=249847&ww_x_PERIODE_ACAD=null&ww_x_PERIODE_PEDAGO=null&ww_x_HIVERETE=null\"\n",
    "\n",
    "req = requests.get(uri)"
   ]
  },
  {
   "cell_type": "markdown",
   "metadata": {},
   "source": [
    "## Parsing the result"
   ]
  },
  {
   "cell_type": "code",
   "execution_count": null,
   "metadata": {
    "collapsed": false
   },
   "outputs": [],
   "source": [
    "# Defining some helper functions, for clarity\n",
    "def clean(string):\n",
    "    return string.strip().lower().replace(' ', '_')\n",
    "\n",
    "def is_semester_info(data):\n",
    "    return len(data) <= 2\n",
    "\n",
    "def is_header(data):\n",
    "    return not ((len(data) > 2) and data[-2].isdigit())\n",
    "\n",
    "def parse_table(table):\n",
    "    students = []\n",
    "    header = ''\n",
    "    semester = ''\n",
    "\n",
    "    for tr in table:\n",
    "        row_data = []\n",
    "        for td in tr:\n",
    "            value = td.get_text().strip().replace('\\xa0', ' ')\n",
    "            row_data.append(value)\n",
    "\n",
    "                     \n",
    "        if is_semester_info(row_data):\n",
    "            info = [clean(value) for value in row_data[0].split(', ')]\n",
    "            section = info[0]\n",
    "            year = info[1]\n",
    "            semester, wat = info[2].split('\\n_')\n",
    "        elif(is_header(row_data)):\n",
    "            header = [ clean(val) for val  in  row_data] \n",
    "        else:\n",
    "            person = {'year': year, 'semester': semester, 'section': section, 'wat': wat}\n",
    "            for i, key in enumerate(header):\n",
    "                val = row_data[i].strip()\n",
    "                if val: \n",
    "                    person[key] = val\n",
    "                    \n",
    "            students.append(person)\n",
    "    \n",
    "    return students"
   ]
  },
  {
   "cell_type": "code",
   "execution_count": null,
   "metadata": {
    "collapsed": false,
    "scrolled": false
   },
   "outputs": [],
   "source": [
    "soup = BeautifulSoup(req.text, 'html.parser')\n",
    "students_table = soup.find('table')\n",
    "\n",
    "students = parse_table(students_table)\n",
    "\n",
    "df = pd.DataFrame(students)\n",
    "df.set_index(['no_sciper'], inplace=True)\n",
    "\n",
    "original = df.copy()"
   ]
  },
  {
   "cell_type": "code",
   "execution_count": null,
   "metadata": {
    "collapsed": false
   },
   "outputs": [],
   "source": [
    "#this here is for debug only if I mess up df somewhere down below in the code\n",
    "df = original\n",
    "#Lets list some basic info about parsed data\n",
    "print(df.shape)\n",
    "print(df.dtypes)\n",
    "df.head()"
   ]
  },
  {
   "cell_type": "code",
   "execution_count": null,
   "metadata": {
    "collapsed": false
   },
   "outputs": [],
   "source": [
    "# Well first of all we noticed that parsing all data without specifing date \n",
    "# also resulted in data of students from years before 2007 and we don't want that.\n",
    "\n",
    "# Lets split year column into year_start and year_end\n",
    "df['year_start'], df['year_end'] = df['year'].str.split('-', 1).str\n",
    "# Cast from object to int\n",
    "df[['year_start','year_end']] = df[['year_start','year_end']].apply(pd.to_numeric)\n",
    "# Drop year column \n",
    "new_df = df.drop(\"year\", axis=1)\n",
    "\n",
    "# Verify\n",
    "print(new_df.dtypes)\n",
    "new_df.head()\n"
   ]
  },
  {
   "cell_type": "code",
   "execution_count": null,
   "metadata": {
    "collapsed": false
   },
   "outputs": [],
   "source": [
    "bachelor_df = new_df[new_df[\"semester\"].str.contains(\"bachelor_semestre\")]\n",
    "print(bachelor_df.shape)\n",
    "bachelor_df.head()"
   ]
  },
  {
   "cell_type": "code",
   "execution_count": null,
   "metadata": {
    "collapsed": false
   },
   "outputs": [],
   "source": [
    "# ...from year 2007 and above\n",
    "bachelor_from_2007_df = bachelor_df[bachelor_df[\"year_start\"] >= 2007]\n",
    "print(bachelor_from_2007_df.shape)\n",
    "bachelor_from_2007_df.head()"
   ]
  },
  {
   "cell_type": "code",
   "execution_count": null,
   "metadata": {
    "collapsed": false
   },
   "outputs": [],
   "source": [
    "# search for students(rows) who either have bachelor_semestre_1 or bachelor_semestre_6\n",
    "searchfor = ['bachelor_semestre_1', 'bachelor_semestre_6']\n",
    "first_and_last_sem_df = bachelor_from_2007_df[bachelor_from_2007_df[\"semester\"].str.contains('|'.join(searchfor))]\n",
    "\n",
    "# just to visualise\n",
    "by_name = first_and_last_sem_df.groupby(['nom_prénom', 'semester'])\n",
    "by_name.first()"
   ]
  },
  {
   "cell_type": "code",
   "execution_count": null,
   "metadata": {
    "collapsed": false,
    "scrolled": true
   },
   "outputs": [],
   "source": [
    "#WARNING: clear up this cell\n",
    "\n",
    "# Order by year_start\n",
    "year_start_order_df = first_and_last_sem_df.sort_values(by=['year_start'])\n",
    "year_start_order_df"
   ]
  },
  {
   "cell_type": "code",
   "execution_count": null,
   "metadata": {
    "collapsed": false
   },
   "outputs": [],
   "source": [
    "by_name = year_start_order_df.groupby(['nom_prénom', 'semester'])\n",
    "by_name.first()\n",
    "# 1839 rows/students"
   ]
  },
  {
   "cell_type": "code",
   "execution_count": null,
   "metadata": {
    "collapsed": false
   },
   "outputs": [],
   "source": [
    "# Warning. We are not EPFL students so it is extermly hard for us to tell how IS-Academia system really works.\n",
    "# We assume that in order to consider bachelor studies to be completed student has to be registered for \n",
    "# both bachelor_semestre_1 and bachelor_semestre_6. Since during those six semesters there could be multiple different \n",
    "# situations as gap year, failed semeter, exchange semeter etc. we simplyfy our problem and assume that\n",
    "# number of semeters spent @ EPFL is equal to (year of graduiation - year of bachelor start) * 2.\n",
    "# Obviously in real life scenario this assumption is invalid but from this dataset there is really no possibility\n",
    "# to tell what was the actual amount of semesters required for graduation. (Even getting to 6th semester doesn't imply\n",
    "# that student succefully graduated!) Moreover it seams strange that student is required to retake whole year \n",
    "# if he fails only one semester (from data it seems that failing on 5th semester means you cannot attempt 6th \n",
    "# and have to wait one semester to retake 5th) - but thats what we assumed. \n",
    "#\n",
    "# Thus our dataset becomes significantly chopped down - from 1839 IC students who attempted either semester 1 OR 6\n",
    "# to 397 IC students who managed to attempt semester 1 AND 6.\n",
    "\n",
    "sem_1_df = year_start_order_df[year_start_order_df[\"semester\"] == \"bachelor_semestre_1\"]\n",
    "unique_sem_1_df = sem_1_df.drop_duplicates(subset=['nom_prénom', 'semester'], keep='first')\n",
    "\n",
    "sem_6_df = year_start_order_df[year_start_order_df[\"semester\"] == \"bachelor_semestre_6\"]\n",
    "unique_sem_6_df = sem_6_df.drop_duplicates(subset=['nom_prénom', 'semester'], keep='last')\n",
    "\n",
    "difference_df = pd.DataFrame(unique_sem_6_df[\"year_end\"]-unique_sem_1_df[\"year_start\"], columns=['year_count'])\n",
    "difference_df.dropna(inplace=True)\n",
    "difference_df[\"semester_total\"] = difference_df[\"year_count\"]*2\n",
    "difference_df = difference_df.drop('year_count', 1)\n",
    "difference_df"
   ]
  },
  {
   "cell_type": "code",
   "execution_count": null,
   "metadata": {
    "collapsed": false
   },
   "outputs": [],
   "source": [
    "semesters_df = year_start_order_df\n",
    "semesters_df[\"semester_total\"] = difference_df[\"semester_total\"]\n",
    "semesters_df = semesters_df[pd.notnull(semesters_df['semester_total'])]\n",
    "semesters_df = semesters_df.drop_duplicates(subset=['nom_prénom'])\n",
    "semesters_df"
   ]
  },
  {
   "cell_type": "code",
   "execution_count": null,
   "metadata": {
    "collapsed": false
   },
   "outputs": [],
   "source": [
    "semesters_df.loc[\"174905\"]"
   ]
  },
  {
   "cell_type": "code",
   "execution_count": null,
   "metadata": {
    "collapsed": true
   },
   "outputs": [],
   "source": [
    "# TO DO NEXT:\n",
    "# - Statistical test - two-sided hypothesis testing"
   ]
  },
  {
   "cell_type": "code",
   "execution_count": null,
   "metadata": {
    "collapsed": false
   },
   "outputs": [],
   "source": [
    "def is_men(row):\n",
    "    if row['civilité'] == 'Monsieur':\n",
    "        val = 1\n",
    "    else:\n",
    "        val = 0\n",
    "    return val\n",
    "\n",
    "\n",
    "semesters_df['gender'] = semesters_df.apply(is_men, axis=1)\n",
    "semesters_df"
   ]
  },
  {
   "cell_type": "code",
   "execution_count": null,
   "metadata": {
    "collapsed": false
   },
   "outputs": [],
   "source": [
    "semesters_df[\"gender\"].mean()\n",
    "\n",
    "# Enromous number of males(92%) over females(8%) "
   ]
  },
  {
   "cell_type": "code",
   "execution_count": null,
   "metadata": {
    "collapsed": false
   },
   "outputs": [],
   "source": [
    "semesters_df.groupby(['civilité'])['semester_total'].mean()\n",
    "\n",
    "# But it appears that females are better students! On avarage they take less time to complete bachelor."
   ]
  },
  {
   "cell_type": "code",
   "execution_count": null,
   "metadata": {
    "collapsed": false
   },
   "outputs": [],
   "source": [
    "\n",
    "men_df = semesters_df[semesters_df[\"gender\"] == 1]\n",
    "women_df = semesters_df[semesters_df[\"gender\"] == 0]\n",
    "\n",
    "# In a two-sample test, the null hypothesis is that the means of both groups are the same = \n",
    "# men and women take on avarage the same time to complete studies. Our average says differentely but that's because\n",
    "# probably women data set is to small and not statistically significant. \n",
    "\n",
    "stats.ttest_ind(men_df.semester_total, women_df.semester_total)\n",
    "\n",
    "# The test yields a p-value of 0.22800520488780102, which means there is a 22.8% chance we'd see sample data \n",
    "# this far apart if the two groups tested are actually identical. If we were using a 95% confidence level we \n",
    "# would fail to reject the null hypothesis, since the p-value is greater than the corresponding significance \n",
    "# level of 5%."
   ]
  },
  {
   "cell_type": "code",
   "execution_count": null,
   "metadata": {
    "collapsed": true
   },
   "outputs": [],
   "source": []
  }  {
   "cell_type": "markdown",
   "metadata": {},
   "source": [
    "### Masters"
   ]
  },
  {
   "cell_type": "code",
   "execution_count": null,
   "metadata": {
    "collapsed": false
   },
   "outputs": [],
   "source": [
    "master_copy = df.copy()\n",
    "master_df = master_copy[master_copy['year_start'] >= 2007]\n",
    "\n",
    "master_df.semester.value_counts()"
   ]
  },
  {
   "cell_type": "code",
   "execution_count": null,
   "metadata": {
    "collapsed": false
   },
   "outputs": [],
   "source": [
    "# Create Master DF for only first semesterc students\n",
    "\n",
    "master_sem1 = master_df[master_df['semester'] == 'master_semestre_1']\n",
    "master_sem1.head()"
   ]
  },
  {
   "cell_type": "code",
   "execution_count": null,
   "metadata": {
    "collapsed": false
   },
   "outputs": [],
   "source": [
    "# Create Master DF for only second semesterc students\n",
    "\n",
    "master_sem2 = master_df[master_df['semester'] == 'master_semestre_2']\n",
    "master_sem2.head()"
   ]
  },
  {
   "cell_type": "code",
   "execution_count": null,
   "metadata": {
    "collapsed": false
   },
   "outputs": [],
   "source": [
    "# Create Master DF for only third semesterc students\n",
    "\n",
    "master_sem3 = master_df[master_df['semester'] == 'master_semestre_3']\n",
    "master_sem3.head()"
   ]
  },
  {
   "cell_type": "code",
   "execution_count": null,
   "metadata": {
    "collapsed": false
   },
   "outputs": [],
   "source": [
    "# Create Master DF for only Master project semesterc students\n",
    "searchfor = ['projet_master_automne', 'projet_master_printemps', 'master_semestre_1']\n",
    "master_project_df = master_df[master_df[\"semester\"].str.contains('|'.join(searchfor))]\n",
    "master_project_df.head()"
   ]
  },
  {
   "cell_type": "code",
   "execution_count": null,
   "metadata": {
    "collapsed": false
   },
   "outputs": [],
   "source": [
    "master_project_df.shape"
   ]
  },
  {
   "cell_type": "code",
   "execution_count": null,
   "metadata": {
    "collapsed": false
   },
   "outputs": [],
   "source": [
    "# Order by year_start\n",
    "year_start_order_master_df = master_project_df.sort_values(by=['year_start'])\n",
    "\n",
    "def is_automne(row):\n",
    "   if row['semester'] == 'projet_master_automne':\n",
    "       val = -6\n",
    "   else:\n",
    "       val = 0\n",
    "   return val\n",
    "\n",
    "year_start_order_master_df['month_offset'] = year_start_order_master_df.apply(is_automne, axis=1)\n",
    "\n",
    "master_by_name = year_start_order_master_df.groupby(['nom_prénom', 'semester'])\n",
    "master_by_name.first()"
   ]
  },
  {
   "cell_type": "code",
   "execution_count": null,
   "metadata": {
    "collapsed": false
   },
   "outputs": [],
   "source": [
    "master_sem_1_df = year_start_order_master_df[year_start_order_master_df[\"semester\"] == \"master_semestre_1\"]\n",
    "master_unique_sem_1_df = master_sem_1_df.drop_duplicates(subset=['nom_prénom', 'semester'], keep='first')\n",
    "\n",
    "master_sem_last_df = year_start_order_master_df[year_start_order_master_df[\"semester\"].str.contains('projet_master_')]\n",
    "master_unique_sem_last_df = master_sem_last_df.drop_duplicates(subset=['nom_prénom', 'semester'], keep='last')\n",
    "\n",
    "difference_df = pd.DataFrame(master_unique_sem_last_df[\"year_end\"]-master_unique_sem_1_df[\"year_start\"], columns=['year_count'])\n",
    "difference_df.dropna(inplace=True)\n",
    "difference_df = year_start_order_master_df.join(difference_df)\n",
    "difference_df = difference_df[pd.notnull(difference_df['year_count'])]\n",
    "\n",
    "difference_df[\"month_total\"] = difference_df[\"year_count\"]*12+difference_df['month_offset']\n",
    "difference_df"
   ]
  },
  {
   "cell_type": "code",
   "execution_count": null,
   "metadata": {
    "collapsed": false
   },
   "outputs": [],
   "source": [
    "# Left join\n",
    "#master_project_df.head()\n",
    "#master_sem1.head()\n",
    "#master_combined_df = year_start_order_master_df.join(master_sem1, how='left', lsuffix='_x')\n",
    "#master_combined_df = year_start_order_master_df.merge(master_sem1, left_on='no_sciper', right_on='no_sciper', how='right')\n",
    "#master_combined_df"
   ]
  },
  {
   "cell_type": "code",
   "execution_count": null,
   "metadata": {
    "collapsed": false
   },
   "outputs": [],
   "source": [
    "def is_men(row):\n",
    "   if row['civilité'] == 'Monsieur':\n",
    "       val = 1\n",
    "   else:\n",
    "       val = 0\n",
    "   return val\n",
    "\n",
    "\n",
    "difference_df['gender'] = difference_df.apply(is_men, axis=1)\n",
    "difference_df"
   ]
  },
  {
   "cell_type": "code",
   "execution_count": null,
   "metadata": {
    "collapsed": false
   },
   "outputs": [],
   "source": [
    "difference_df['gender'].mean()"
   ]
  },
  {
   "cell_type": "code",
   "execution_count": null,
   "metadata": {
    "collapsed": false
   },
   "outputs": [],
   "source": [
    "difference_df.groupby(['civilité'])['month_total'].mean()"
   ]
  },
  {
   "cell_type": "code",
   "execution_count": null,
   "metadata": {
    "collapsed": false
   },
   "outputs": [],
   "source": [
    "master_men_df = difference_df[difference_df['gender']==1]\n",
    "master_women_df = difference_df[difference_df['gender']==0]\n",
    "\n",
    "stats.ttest_ind(master_men_df.month_total, master_women_df.month_total)"
   ]
  },
  {
   "cell_type": "code",
   "execution_count": null,
   "metadata": {
    "collapsed": true
   },
   "outputs": [],
   "source": []
  },
  {
   "cell_type": "markdown",
   "metadata": {},
   "source": [
    "### Masters"
   ]
  },
  {
   "cell_type": "code",
   "execution_count": null,
   "metadata": {
    "collapsed": false
   },
   "outputs": [],
   "source": [
    "master_copy = df.copy()\n",
    "master_df = master_copy[master_copy['year_start'] >= 2007]\n",
    "\n",
    "master_df.semester.value_counts()"
   ]
  },
  {
   "cell_type": "code",
   "execution_count": null,
   "metadata": {
    "collapsed": false
   },
   "outputs": [],
   "source": [
    "# Create Master DF for only first semesterc students\n",
    "\n",
    "master_sem1 = master_df[master_df['semester'] == 'master_semestre_1']\n",
    "master_sem1.head()"
   ]
  },
  {
   "cell_type": "code",
   "execution_count": null,
   "metadata": {
    "collapsed": false
   },
   "outputs": [],
   "source": [
    "# Create Master DF for only second semesterc students\n",
    "\n",
    "master_sem2 = master_df[master_df['semester'] == 'master_semestre_2']\n",
    "master_sem2.head()"
   ]
  },
  {
   "cell_type": "code",
   "execution_count": null,
   "metadata": {
    "collapsed": false
   },
   "outputs": [],
   "source": [
    "# Create Master DF for only third semesterc students\n",
    "\n",
    "master_sem3 = master_df[master_df['semester'] == 'master_semestre_3']\n",
    "master_sem3.head()"
   ]
  },
  {
   "cell_type": "code",
   "execution_count": null,
   "metadata": {
    "collapsed": false
   },
   "outputs": [],
   "source": [
    "# Create Master DF for only Master project semesterc students\n",
    "searchfor = ['projet_master_automne', 'projet_master_printemps', 'master_semestre_1']\n",
    "master_project_df = master_df[master_df[\"semester\"].str.contains('|'.join(searchfor))]\n",
    "master_project_df.head()"
   ]
  },
  {
   "cell_type": "code",
   "execution_count": null,
   "metadata": {
    "collapsed": false
   },
   "outputs": [],
   "source": [
    "master_project_df.shape"
   ]
  },
  {
   "cell_type": "code",
   "execution_count": null,
   "metadata": {
    "collapsed": false
   },
   "outputs": [],
   "source": [
    "# Order by year_start\n",
    "year_start_order_master_df = master_project_df.sort_values(by=['year_start'])\n",
    "\n",
    "def is_automne(row):\n",
    "   if row['semester'] == 'projet_master_automne':\n",
    "       val = -6\n",
    "   else:\n",
    "       val = 0\n",
    "   return val\n",
    "\n",
    "year_start_order_master_df['month_offset'] = year_start_order_master_df.apply(is_automne, axis=1)\n",
    "\n",
    "master_by_name = year_start_order_master_df.groupby(['nom_prénom', 'semester'])\n",
    "master_by_name.first()"
   ]
  },
  {
   "cell_type": "code",
   "execution_count": null,
   "metadata": {
    "collapsed": false
   },
   "outputs": [],
   "source": [
    "master_sem_1_df = year_start_order_master_df[year_start_order_master_df[\"semester\"] == \"master_semestre_1\"]\n",
    "master_unique_sem_1_df = master_sem_1_df.drop_duplicates(subset=['nom_prénom', 'semester'], keep='first')\n",
    "\n",
    "master_sem_last_df = year_start_order_master_df[year_start_order_master_df[\"semester\"].str.contains('projet_master_')]\n",
    "master_unique_sem_last_df = master_sem_last_df.drop_duplicates(subset=['nom_prénom', 'semester'], keep='last')\n",
    "\n",
    "difference_df = pd.DataFrame(master_unique_sem_last_df[\"year_end\"]-master_unique_sem_1_df[\"year_start\"], columns=['year_count'])\n",
    "difference_df.dropna(inplace=True)\n",
    "difference_df = year_start_order_master_df.join(difference_df)\n",
    "difference_df = difference_df[pd.notnull(difference_df['year_count'])]\n",
    "\n",
    "difference_df[\"month_total\"] = difference_df[\"year_count\"]*12+difference_df['month_offset']\n",
    "difference_df"
   ]
  },
  {
   "cell_type": "code",
   "execution_count": null,
   "metadata": {
    "collapsed": false
   },
   "outputs": [],
   "source": [
    "# Left join\n",
    "#master_project_df.head()\n",
    "#master_sem1.head()\n",
    "#master_combined_df = year_start_order_master_df.join(master_sem1, how='left', lsuffix='_x')\n",
    "#master_combined_df = year_start_order_master_df.merge(master_sem1, left_on='no_sciper', right_on='no_sciper', how='right')\n",
    "#master_combined_df"
   ]
  },
  {
   "cell_type": "code",
   "execution_count": null,
   "metadata": {
    "collapsed": false
   },
   "outputs": [],
   "source": [
    "def is_men(row):\n",
    "   if row['civilité'] == 'Monsieur':\n",
    "       val = 1\n",
    "   else:\n",
    "       val = 0\n",
    "   return val\n",
    "\n",
    "\n",
    "difference_df['gender'] = difference_df.apply(is_men, axis=1)\n",
    "difference_df"
   ]
  },
  {
   "cell_type": "code",
   "execution_count": null,
   "metadata": {
    "collapsed": false
   },
   "outputs": [],
   "source": [
    "difference_df['gender'].mean()"
   ]
  },
  {
   "cell_type": "code",
   "execution_count": null,
   "metadata": {
    "collapsed": false
   },
   "outputs": [],
   "source": [
    "difference_df.groupby(['civilité'])['month_total'].mean()"
   ]
  },
  {
   "cell_type": "code",
   "execution_count": null,
   "metadata": {
    "collapsed": false
   },
   "outputs": [],
   "source": [
    "master_men_df = difference_df[difference_df['gender']==1]\n",
    "master_women_df = difference_df[difference_df['gender']==0]\n",
    "\n",
    "stats.ttest_ind(master_men_df.month_total, master_women_df.month_total)"
   ]
  },
  {
   "cell_type": "code",
   "execution_count": null,
   "metadata": {
    "collapsed": true
   },
   "outputs": [],
   "source": []
  }
 ],
 "metadata": {
  "anaconda-cloud": {},
  "kernelspec": {
   "display_name": "Python [Root]",
   "language": "python",
   "name": "Python [Root]"
  },
  "language_info": {
   "codemirror_mode": {
    "name": "ipython",
    "version": 3
   },
   "file_extension": ".py",
   "mimetype": "text/x-python",
   "name": "python",
   "nbconvert_exporter": "python",
   "pygments_lexer": "ipython3",
   "version": "3.5.2"
  }
 },
 "nbformat": 4,
 "nbformat_minor": 0
}

